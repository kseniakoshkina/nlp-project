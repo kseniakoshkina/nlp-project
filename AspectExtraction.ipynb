{
  "cells": [
    {
      "cell_type": "markdown",
      "metadata": {
        "id": "c312efa1"
      },
      "source": [
        "# Aspect-based SA\n",
        "\n",
        "Вспомним, какие есть подзадачи:\n",
        "- выделение упоминаний аспектов\n",
        "- классификация аспектов по категориям\n",
        "- оценка тональности по отношению к аспекту\n",
        "\n",
        "-- и всё это подозрительно напоминает наше проектное задание"
      ],
      "id": "c312efa1"
    },
    {
      "cell_type": "code",
      "source": [
        "!pip install nltk pymorphy2"
      ],
      "metadata": {
        "colab": {
          "base_uri": "https://localhost:8080/"
        },
        "id": "tfmd13rcgFjL",
        "outputId": "f1174801-fa1e-486f-9cbb-9ea6b3dd3714"
      },
      "id": "tfmd13rcgFjL",
      "execution_count": 3,
      "outputs": [
        {
          "output_type": "stream",
          "name": "stdout",
          "text": [
            "Requirement already satisfied: nltk in /usr/local/lib/python3.7/dist-packages (3.2.5)\n",
            "Collecting pymorphy2\n",
            "  Downloading pymorphy2-0.9.1-py3-none-any.whl (55 kB)\n",
            "\u001b[K     |████████████████████████████████| 55 kB 2.3 MB/s \n",
            "\u001b[?25hRequirement already satisfied: six in /usr/local/lib/python3.7/dist-packages (from nltk) (1.15.0)\n",
            "Collecting pymorphy2-dicts-ru<3.0,>=2.4\n",
            "  Downloading pymorphy2_dicts_ru-2.4.417127.4579844-py2.py3-none-any.whl (8.2 MB)\n",
            "\u001b[K     |████████████████████████████████| 8.2 MB 9.8 MB/s \n",
            "\u001b[?25hRequirement already satisfied: docopt>=0.6 in /usr/local/lib/python3.7/dist-packages (from pymorphy2) (0.6.2)\n",
            "Collecting dawg-python>=0.7.1\n",
            "  Downloading DAWG_Python-0.7.2-py2.py3-none-any.whl (11 kB)\n",
            "Installing collected packages: pymorphy2-dicts-ru, dawg-python, pymorphy2\n",
            "Successfully installed dawg-python-0.7.2 pymorphy2-0.9.1 pymorphy2-dicts-ru-2.4.417127.4579844\n"
          ]
        }
      ]
    },
    {
      "cell_type": "code",
      "source": [
        "import pandas as pd"
      ],
      "metadata": {
        "id": "z_Yv_thKgJWG"
      },
      "id": "z_Yv_thKgJWG",
      "execution_count": 4,
      "outputs": []
    },
    {
      "cell_type": "code",
      "source": [
        "!pip install -U 'scikit-learn<0.24'"
      ],
      "metadata": {
        "colab": {
          "base_uri": "https://localhost:8080/"
        },
        "id": "Ihg7bB1bgK66",
        "outputId": "fb7fcd75-102b-40ca-ef79-0ea9f9a1d3d2"
      },
      "id": "Ihg7bB1bgK66",
      "execution_count": 5,
      "outputs": [
        {
          "output_type": "stream",
          "name": "stdout",
          "text": [
            "Collecting scikit-learn<0.24\n",
            "  Downloading scikit_learn-0.23.2-cp37-cp37m-manylinux1_x86_64.whl (6.8 MB)\n",
            "\u001b[K     |████████████████████████████████| 6.8 MB 5.0 MB/s \n",
            "\u001b[?25hRequirement already satisfied: numpy>=1.13.3 in /usr/local/lib/python3.7/dist-packages (from scikit-learn<0.24) (1.19.5)\n",
            "Requirement already satisfied: joblib>=0.11 in /usr/local/lib/python3.7/dist-packages (from scikit-learn<0.24) (1.1.0)\n",
            "Requirement already satisfied: threadpoolctl>=2.0.0 in /usr/local/lib/python3.7/dist-packages (from scikit-learn<0.24) (3.0.0)\n",
            "Requirement already satisfied: scipy>=0.19.1 in /usr/local/lib/python3.7/dist-packages (from scikit-learn<0.24) (1.4.1)\n",
            "Installing collected packages: scikit-learn\n",
            "  Attempting uninstall: scikit-learn\n",
            "    Found existing installation: scikit-learn 1.0.1\n",
            "    Uninstalling scikit-learn-1.0.1:\n",
            "      Successfully uninstalled scikit-learn-1.0.1\n",
            "\u001b[31mERROR: pip's dependency resolver does not currently take into account all the packages that are installed. This behaviour is the source of the following dependency conflicts.\n",
            "imbalanced-learn 0.8.1 requires scikit-learn>=0.24, but you have scikit-learn 0.23.2 which is incompatible.\u001b[0m\n",
            "Successfully installed scikit-learn-0.23.2\n"
          ]
        }
      ]
    },
    {
      "cell_type": "code",
      "source": [
        "!wget https://github.com/named-entity/hse-nlp/raw/master/4th_year/Project/train_aspects.txt\n",
        "!wget https://github.com/named-entity/hse-nlp/raw/master/4th_year/Project/train_reviews.txt\n",
        "!wget https://github.com/named-entity/hse-nlp/raw/master/4th_year/Project/dev_aspects.txt\n",
        "!wget https://github.com/named-entity/hse-nlp/raw/master/4th_year/Project/dev_reviews.txt"
      ],
      "metadata": {
        "colab": {
          "base_uri": "https://localhost:8080/"
        },
        "id": "3I-26XMNgOd_",
        "outputId": "721b3316-fd5a-4905-a549-94c35592ae71"
      },
      "id": "3I-26XMNgOd_",
      "execution_count": 6,
      "outputs": [
        {
          "output_type": "stream",
          "name": "stdout",
          "text": [
            "--2021-12-27 15:27:41--  https://github.com/named-entity/hse-nlp/raw/master/4th_year/Project/train_aspects.txt\n",
            "Resolving github.com (github.com)... 52.192.72.89\n",
            "Connecting to github.com (github.com)|52.192.72.89|:443... connected.\n",
            "HTTP request sent, awaiting response... 302 Found\n",
            "Location: https://raw.githubusercontent.com/named-entity/hse-nlp/master/4th_year/Project/train_aspects.txt [following]\n",
            "--2021-12-27 15:27:42--  https://raw.githubusercontent.com/named-entity/hse-nlp/master/4th_year/Project/train_aspects.txt\n",
            "Resolving raw.githubusercontent.com (raw.githubusercontent.com)... 185.199.108.133, 185.199.109.133, 185.199.110.133, ...\n",
            "Connecting to raw.githubusercontent.com (raw.githubusercontent.com)|185.199.108.133|:443... connected.\n",
            "HTTP request sent, awaiting response... 200 OK\n",
            "Length: 228391 (223K) [text/plain]\n",
            "Saving to: ‘train_aspects.txt’\n",
            "\n",
            "train_aspects.txt   100%[===================>] 223.04K  --.-KB/s    in 0.03s   \n",
            "\n",
            "2021-12-27 15:27:42 (8.19 MB/s) - ‘train_aspects.txt’ saved [228391/228391]\n",
            "\n",
            "--2021-12-27 15:27:42--  https://github.com/named-entity/hse-nlp/raw/master/4th_year/Project/train_reviews.txt\n",
            "Resolving github.com (github.com)... 140.82.114.4\n",
            "Connecting to github.com (github.com)|140.82.114.4|:443... connected.\n",
            "HTTP request sent, awaiting response... 302 Found\n",
            "Location: https://raw.githubusercontent.com/named-entity/hse-nlp/master/4th_year/Project/train_reviews.txt [following]\n",
            "--2021-12-27 15:27:42--  https://raw.githubusercontent.com/named-entity/hse-nlp/master/4th_year/Project/train_reviews.txt\n",
            "Resolving raw.githubusercontent.com (raw.githubusercontent.com)... 185.199.108.133, 185.199.109.133, 185.199.110.133, ...\n",
            "Connecting to raw.githubusercontent.com (raw.githubusercontent.com)|185.199.108.133|:443... connected.\n",
            "HTTP request sent, awaiting response... 200 OK\n",
            "Length: 446118 (436K) [text/plain]\n",
            "Saving to: ‘train_reviews.txt’\n",
            "\n",
            "train_reviews.txt   100%[===================>] 435.66K  --.-KB/s    in 0.04s   \n",
            "\n",
            "2021-12-27 15:27:42 (10.4 MB/s) - ‘train_reviews.txt’ saved [446118/446118]\n",
            "\n",
            "--2021-12-27 15:27:42--  https://github.com/named-entity/hse-nlp/raw/master/4th_year/Project/dev_aspects.txt\n",
            "Resolving github.com (github.com)... 13.114.40.48\n",
            "Connecting to github.com (github.com)|13.114.40.48|:443... connected.\n",
            "HTTP request sent, awaiting response... 302 Found\n",
            "Location: https://raw.githubusercontent.com/named-entity/hse-nlp/master/4th_year/Project/dev_aspects.txt [following]\n",
            "--2021-12-27 15:27:43--  https://raw.githubusercontent.com/named-entity/hse-nlp/master/4th_year/Project/dev_aspects.txt\n",
            "Resolving raw.githubusercontent.com (raw.githubusercontent.com)... 185.199.108.133, 185.199.109.133, 185.199.110.133, ...\n",
            "Connecting to raw.githubusercontent.com (raw.githubusercontent.com)|185.199.108.133|:443... connected.\n",
            "HTTP request sent, awaiting response... 200 OK\n",
            "Length: 57508 (56K) [text/plain]\n",
            "Saving to: ‘dev_aspects.txt’\n",
            "\n",
            "dev_aspects.txt     100%[===================>]  56.16K  --.-KB/s    in 0.01s   \n",
            "\n",
            "2021-12-27 15:27:43 (5.26 MB/s) - ‘dev_aspects.txt’ saved [57508/57508]\n",
            "\n",
            "--2021-12-27 15:27:43--  https://github.com/named-entity/hse-nlp/raw/master/4th_year/Project/dev_reviews.txt\n",
            "Resolving github.com (github.com)... 140.82.112.4\n",
            "Connecting to github.com (github.com)|140.82.112.4|:443... connected.\n",
            "HTTP request sent, awaiting response... 302 Found\n",
            "Location: https://raw.githubusercontent.com/named-entity/hse-nlp/master/4th_year/Project/dev_reviews.txt [following]\n",
            "--2021-12-27 15:27:44--  https://raw.githubusercontent.com/named-entity/hse-nlp/master/4th_year/Project/dev_reviews.txt\n",
            "Resolving raw.githubusercontent.com (raw.githubusercontent.com)... 185.199.108.133, 185.199.109.133, 185.199.110.133, ...\n",
            "Connecting to raw.githubusercontent.com (raw.githubusercontent.com)|185.199.108.133|:443... connected.\n",
            "HTTP request sent, awaiting response... 200 OK\n",
            "Length: 110515 (108K) [text/plain]\n",
            "Saving to: ‘dev_reviews.txt’\n",
            "\n",
            "dev_reviews.txt     100%[===================>] 107.92K  --.-KB/s    in 0.02s   \n",
            "\n",
            "2021-12-27 15:27:44 (5.09 MB/s) - ‘dev_reviews.txt’ saved [110515/110515]\n",
            "\n"
          ]
        }
      ]
    },
    {
      "cell_type": "code",
      "source": [
        "train_asp = pd.read_csv(\n",
        "    'train_aspects.txt', \n",
        "    delimiter='\\t', \n",
        "    names=['text_id', 'category', 'mention', 'start', 'end', 'sentiment']\n",
        ")\n",
        "train_texts = pd.read_csv('train_reviews.txt', delimiter='\\t', names=['text_id','text'])"
      ],
      "metadata": {
        "id": "v_EHJeutgjJs"
      },
      "id": "v_EHJeutgjJs",
      "execution_count": 7,
      "outputs": []
    },
    {
      "cell_type": "code",
      "source": [
        "test_asp = pd.read_csv(\n",
        "    'dev_aspects.txt', \n",
        "    delimiter='\\t', \n",
        "    names=['text_id', 'category', 'mention', 'start', 'end', 'sentiment']\n",
        ")\n",
        "test_texts = pd.read_csv('dev_reviews.txt', delimiter='\\t', names=['text_id','text'])"
      ],
      "metadata": {
        "id": "r-i7YBEtgj-1"
      },
      "id": "r-i7YBEtgj-1",
      "execution_count": 11,
      "outputs": []
    },
    {
      "cell_type": "code",
      "execution_count": 12,
      "metadata": {
        "id": "32dc09c9"
      },
      "outputs": [],
      "source": [
        "from nltk.tokenize import RegexpTokenizer\n",
        "from pymorphy2 import MorphAnalyzer\n",
        "\n",
        "morph = MorphAnalyzer()\n",
        "token = RegexpTokenizer('\\w+')\n",
        "\n",
        "def normalize(text):\n",
        "    words = [morph.parse(word)[0].normal_form for word in tokenize(text) if word]\n",
        "    return words\n",
        "\n",
        "def tokenize(text):\n",
        "    return token.tokenize(text)"
      ],
      "id": "32dc09c9"
    },
    {
      "cell_type": "code",
      "execution_count": 13,
      "metadata": {
        "colab": {
          "base_uri": "https://localhost:8080/",
          "height": 143
        },
        "id": "334d9359",
        "outputId": "d0b5ac82-5bbc-4888-baa0-2964f2a1c1c5"
      },
      "outputs": [
        {
          "output_type": "execute_result",
          "data": {
            "text/html": [
              "\n",
              "  <div id=\"df-971e7caf-4e45-4e61-86c1-94349097772d\">\n",
              "    <div class=\"colab-df-container\">\n",
              "      <div>\n",
              "<style scoped>\n",
              "    .dataframe tbody tr th:only-of-type {\n",
              "        vertical-align: middle;\n",
              "    }\n",
              "\n",
              "    .dataframe tbody tr th {\n",
              "        vertical-align: top;\n",
              "    }\n",
              "\n",
              "    .dataframe thead th {\n",
              "        text-align: right;\n",
              "    }\n",
              "</style>\n",
              "<table border=\"1\" class=\"dataframe\">\n",
              "  <thead>\n",
              "    <tr style=\"text-align: right;\">\n",
              "      <th></th>\n",
              "      <th>text_id</th>\n",
              "      <th>category</th>\n",
              "      <th>mention</th>\n",
              "      <th>start</th>\n",
              "      <th>end</th>\n",
              "      <th>sentiment</th>\n",
              "    </tr>\n",
              "  </thead>\n",
              "  <tbody>\n",
              "    <tr>\n",
              "      <th>0</th>\n",
              "      <td>3976</td>\n",
              "      <td>Whole</td>\n",
              "      <td>ресторане</td>\n",
              "      <td>71</td>\n",
              "      <td>80</td>\n",
              "      <td>neutral</td>\n",
              "    </tr>\n",
              "    <tr>\n",
              "      <th>1</th>\n",
              "      <td>3976</td>\n",
              "      <td>Whole</td>\n",
              "      <td>ресторанах</td>\n",
              "      <td>198</td>\n",
              "      <td>208</td>\n",
              "      <td>neutral</td>\n",
              "    </tr>\n",
              "    <tr>\n",
              "      <th>2</th>\n",
              "      <td>3976</td>\n",
              "      <td>Whole</td>\n",
              "      <td>ресторане</td>\n",
              "      <td>256</td>\n",
              "      <td>265</td>\n",
              "      <td>neutral</td>\n",
              "    </tr>\n",
              "  </tbody>\n",
              "</table>\n",
              "</div>\n",
              "      <button class=\"colab-df-convert\" onclick=\"convertToInteractive('df-971e7caf-4e45-4e61-86c1-94349097772d')\"\n",
              "              title=\"Convert this dataframe to an interactive table.\"\n",
              "              style=\"display:none;\">\n",
              "        \n",
              "  <svg xmlns=\"http://www.w3.org/2000/svg\" height=\"24px\"viewBox=\"0 0 24 24\"\n",
              "       width=\"24px\">\n",
              "    <path d=\"M0 0h24v24H0V0z\" fill=\"none\"/>\n",
              "    <path d=\"M18.56 5.44l.94 2.06.94-2.06 2.06-.94-2.06-.94-.94-2.06-.94 2.06-2.06.94zm-11 1L8.5 8.5l.94-2.06 2.06-.94-2.06-.94L8.5 2.5l-.94 2.06-2.06.94zm10 10l.94 2.06.94-2.06 2.06-.94-2.06-.94-.94-2.06-.94 2.06-2.06.94z\"/><path d=\"M17.41 7.96l-1.37-1.37c-.4-.4-.92-.59-1.43-.59-.52 0-1.04.2-1.43.59L10.3 9.45l-7.72 7.72c-.78.78-.78 2.05 0 2.83L4 21.41c.39.39.9.59 1.41.59.51 0 1.02-.2 1.41-.59l7.78-7.78 2.81-2.81c.8-.78.8-2.07 0-2.86zM5.41 20L4 18.59l7.72-7.72 1.47 1.35L5.41 20z\"/>\n",
              "  </svg>\n",
              "      </button>\n",
              "      \n",
              "  <style>\n",
              "    .colab-df-container {\n",
              "      display:flex;\n",
              "      flex-wrap:wrap;\n",
              "      gap: 12px;\n",
              "    }\n",
              "\n",
              "    .colab-df-convert {\n",
              "      background-color: #E8F0FE;\n",
              "      border: none;\n",
              "      border-radius: 50%;\n",
              "      cursor: pointer;\n",
              "      display: none;\n",
              "      fill: #1967D2;\n",
              "      height: 32px;\n",
              "      padding: 0 0 0 0;\n",
              "      width: 32px;\n",
              "    }\n",
              "\n",
              "    .colab-df-convert:hover {\n",
              "      background-color: #E2EBFA;\n",
              "      box-shadow: 0px 1px 2px rgba(60, 64, 67, 0.3), 0px 1px 3px 1px rgba(60, 64, 67, 0.15);\n",
              "      fill: #174EA6;\n",
              "    }\n",
              "\n",
              "    [theme=dark] .colab-df-convert {\n",
              "      background-color: #3B4455;\n",
              "      fill: #D2E3FC;\n",
              "    }\n",
              "\n",
              "    [theme=dark] .colab-df-convert:hover {\n",
              "      background-color: #434B5C;\n",
              "      box-shadow: 0px 1px 3px 1px rgba(0, 0, 0, 0.15);\n",
              "      filter: drop-shadow(0px 1px 2px rgba(0, 0, 0, 0.3));\n",
              "      fill: #FFFFFF;\n",
              "    }\n",
              "  </style>\n",
              "\n",
              "      <script>\n",
              "        const buttonEl =\n",
              "          document.querySelector('#df-971e7caf-4e45-4e61-86c1-94349097772d button.colab-df-convert');\n",
              "        buttonEl.style.display =\n",
              "          google.colab.kernel.accessAllowed ? 'block' : 'none';\n",
              "\n",
              "        async function convertToInteractive(key) {\n",
              "          const element = document.querySelector('#df-971e7caf-4e45-4e61-86c1-94349097772d');\n",
              "          const dataTable =\n",
              "            await google.colab.kernel.invokeFunction('convertToInteractive',\n",
              "                                                     [key], {});\n",
              "          if (!dataTable) return;\n",
              "\n",
              "          const docLinkHtml = 'Like what you see? Visit the ' +\n",
              "            '<a target=\"_blank\" href=https://colab.research.google.com/notebooks/data_table.ipynb>data table notebook</a>'\n",
              "            + ' to learn more about interactive tables.';\n",
              "          element.innerHTML = '';\n",
              "          dataTable['output_type'] = 'display_data';\n",
              "          await google.colab.output.renderOutput(dataTable, element);\n",
              "          const docLink = document.createElement('div');\n",
              "          docLink.innerHTML = docLinkHtml;\n",
              "          element.appendChild(docLink);\n",
              "        }\n",
              "      </script>\n",
              "    </div>\n",
              "  </div>\n",
              "  "
            ],
            "text/plain": [
              "   text_id category     mention  start  end sentiment\n",
              "0     3976    Whole   ресторане     71   80   neutral\n",
              "1     3976    Whole  ресторанах    198  208   neutral\n",
              "2     3976    Whole   ресторане    256  265   neutral"
            ]
          },
          "metadata": {},
          "execution_count": 13
        }
      ],
      "source": [
        "train_asp.head(3)"
      ],
      "id": "334d9359"
    },
    {
      "cell_type": "code",
      "execution_count": 14,
      "metadata": {
        "colab": {
          "base_uri": "https://localhost:8080/",
          "height": 143
        },
        "id": "e82410db",
        "outputId": "b43cc32c-8637-4d50-a3fb-0593642694d8"
      },
      "outputs": [
        {
          "output_type": "execute_result",
          "data": {
            "text/html": [
              "\n",
              "  <div id=\"df-022f7d2f-6b85-4b0e-9d71-6ab1ad564e06\">\n",
              "    <div class=\"colab-df-container\">\n",
              "      <div>\n",
              "<style scoped>\n",
              "    .dataframe tbody tr th:only-of-type {\n",
              "        vertical-align: middle;\n",
              "    }\n",
              "\n",
              "    .dataframe tbody tr th {\n",
              "        vertical-align: top;\n",
              "    }\n",
              "\n",
              "    .dataframe thead th {\n",
              "        text-align: right;\n",
              "    }\n",
              "</style>\n",
              "<table border=\"1\" class=\"dataframe\">\n",
              "  <thead>\n",
              "    <tr style=\"text-align: right;\">\n",
              "      <th></th>\n",
              "      <th>text_id</th>\n",
              "      <th>text</th>\n",
              "    </tr>\n",
              "  </thead>\n",
              "  <tbody>\n",
              "    <tr>\n",
              "      <th>0</th>\n",
              "      <td>3976</td>\n",
              "      <td>День 8-го марта прошёл, можно и итоги подвести...</td>\n",
              "    </tr>\n",
              "    <tr>\n",
              "      <th>1</th>\n",
              "      <td>30808</td>\n",
              "      <td>Отмечали в этом ресторане день рождение на пер...</td>\n",
              "    </tr>\n",
              "    <tr>\n",
              "      <th>2</th>\n",
              "      <td>14031</td>\n",
              "      <td>Хочу поделиться своим впечатлением от посещени...</td>\n",
              "    </tr>\n",
              "  </tbody>\n",
              "</table>\n",
              "</div>\n",
              "      <button class=\"colab-df-convert\" onclick=\"convertToInteractive('df-022f7d2f-6b85-4b0e-9d71-6ab1ad564e06')\"\n",
              "              title=\"Convert this dataframe to an interactive table.\"\n",
              "              style=\"display:none;\">\n",
              "        \n",
              "  <svg xmlns=\"http://www.w3.org/2000/svg\" height=\"24px\"viewBox=\"0 0 24 24\"\n",
              "       width=\"24px\">\n",
              "    <path d=\"M0 0h24v24H0V0z\" fill=\"none\"/>\n",
              "    <path d=\"M18.56 5.44l.94 2.06.94-2.06 2.06-.94-2.06-.94-.94-2.06-.94 2.06-2.06.94zm-11 1L8.5 8.5l.94-2.06 2.06-.94-2.06-.94L8.5 2.5l-.94 2.06-2.06.94zm10 10l.94 2.06.94-2.06 2.06-.94-2.06-.94-.94-2.06-.94 2.06-2.06.94z\"/><path d=\"M17.41 7.96l-1.37-1.37c-.4-.4-.92-.59-1.43-.59-.52 0-1.04.2-1.43.59L10.3 9.45l-7.72 7.72c-.78.78-.78 2.05 0 2.83L4 21.41c.39.39.9.59 1.41.59.51 0 1.02-.2 1.41-.59l7.78-7.78 2.81-2.81c.8-.78.8-2.07 0-2.86zM5.41 20L4 18.59l7.72-7.72 1.47 1.35L5.41 20z\"/>\n",
              "  </svg>\n",
              "      </button>\n",
              "      \n",
              "  <style>\n",
              "    .colab-df-container {\n",
              "      display:flex;\n",
              "      flex-wrap:wrap;\n",
              "      gap: 12px;\n",
              "    }\n",
              "\n",
              "    .colab-df-convert {\n",
              "      background-color: #E8F0FE;\n",
              "      border: none;\n",
              "      border-radius: 50%;\n",
              "      cursor: pointer;\n",
              "      display: none;\n",
              "      fill: #1967D2;\n",
              "      height: 32px;\n",
              "      padding: 0 0 0 0;\n",
              "      width: 32px;\n",
              "    }\n",
              "\n",
              "    .colab-df-convert:hover {\n",
              "      background-color: #E2EBFA;\n",
              "      box-shadow: 0px 1px 2px rgba(60, 64, 67, 0.3), 0px 1px 3px 1px rgba(60, 64, 67, 0.15);\n",
              "      fill: #174EA6;\n",
              "    }\n",
              "\n",
              "    [theme=dark] .colab-df-convert {\n",
              "      background-color: #3B4455;\n",
              "      fill: #D2E3FC;\n",
              "    }\n",
              "\n",
              "    [theme=dark] .colab-df-convert:hover {\n",
              "      background-color: #434B5C;\n",
              "      box-shadow: 0px 1px 3px 1px rgba(0, 0, 0, 0.15);\n",
              "      filter: drop-shadow(0px 1px 2px rgba(0, 0, 0, 0.3));\n",
              "      fill: #FFFFFF;\n",
              "    }\n",
              "  </style>\n",
              "\n",
              "      <script>\n",
              "        const buttonEl =\n",
              "          document.querySelector('#df-022f7d2f-6b85-4b0e-9d71-6ab1ad564e06 button.colab-df-convert');\n",
              "        buttonEl.style.display =\n",
              "          google.colab.kernel.accessAllowed ? 'block' : 'none';\n",
              "\n",
              "        async function convertToInteractive(key) {\n",
              "          const element = document.querySelector('#df-022f7d2f-6b85-4b0e-9d71-6ab1ad564e06');\n",
              "          const dataTable =\n",
              "            await google.colab.kernel.invokeFunction('convertToInteractive',\n",
              "                                                     [key], {});\n",
              "          if (!dataTable) return;\n",
              "\n",
              "          const docLinkHtml = 'Like what you see? Visit the ' +\n",
              "            '<a target=\"_blank\" href=https://colab.research.google.com/notebooks/data_table.ipynb>data table notebook</a>'\n",
              "            + ' to learn more about interactive tables.';\n",
              "          element.innerHTML = '';\n",
              "          dataTable['output_type'] = 'display_data';\n",
              "          await google.colab.output.renderOutput(dataTable, element);\n",
              "          const docLink = document.createElement('div');\n",
              "          docLink.innerHTML = docLinkHtml;\n",
              "          element.appendChild(docLink);\n",
              "        }\n",
              "      </script>\n",
              "    </div>\n",
              "  </div>\n",
              "  "
            ],
            "text/plain": [
              "   text_id                                               text\n",
              "0     3976  День 8-го марта прошёл, можно и итоги подвести...\n",
              "1    30808  Отмечали в этом ресторане день рождение на пер...\n",
              "2    14031  Хочу поделиться своим впечатлением от посещени..."
            ]
          },
          "metadata": {},
          "execution_count": 14
        }
      ],
      "source": [
        "train_texts.head(3)"
      ],
      "id": "e82410db"
    },
    {
      "cell_type": "markdown",
      "metadata": {
        "id": "8d493550"
      },
      "source": [
        "## unsupervised aspect extraction\n",
        "\n",
        "Что можно сделать для извлечения аспектных слов, если у нас нет разметки?\n",
        "Составим частотный словарь!"
      ],
      "id": "8d493550"
    },
    {
      "cell_type": "code",
      "execution_count": 15,
      "metadata": {
        "id": "3ad302f3"
      },
      "outputs": [],
      "source": [
        "train_texts['lemmas'] = [normalize(text) for text in train_texts['text']]"
      ],
      "id": "3ad302f3"
    },
    {
      "cell_type": "code",
      "execution_count": 16,
      "metadata": {
        "id": "35a391f2"
      },
      "outputs": [],
      "source": [
        "all_lemmas = [l for tlemmas in train_texts['lemmas'] for l in tlemmas]"
      ],
      "id": "35a391f2"
    },
    {
      "cell_type": "code",
      "execution_count": 17,
      "metadata": {
        "id": "82a13bdd"
      },
      "outputs": [],
      "source": [
        "import nltk\n",
        "fd = nltk.FreqDist(all_lemmas)"
      ],
      "id": "82a13bdd"
    },
    {
      "cell_type": "markdown",
      "metadata": {
        "id": "1e16fe31"
      },
      "source": [
        "## supervised aspect extraction\n",
        "\n",
        "Теперь давайте реализуем baseline, с которым будем сравнивать проекты:\n",
        "\n",
        "- выделим все упоминания аспектов из разметки и посчитаем их частоты для каждой категории"
      ],
      "id": "1e16fe31"
    },
    {
      "cell_type": "code",
      "execution_count": 18,
      "metadata": {
        "colab": {
          "base_uri": "https://localhost:8080/"
        },
        "id": "148d6f7c",
        "outputId": "fb7fd921-f86c-4c81-c34f-f8e05a14a458"
      },
      "outputs": [
        {
          "output_type": "execute_result",
          "data": {
            "text/plain": [
              "mention                  category\n",
              "ресторан                 Whole       100\n",
              "место                    Whole        97\n",
              "обслуживание             Service      96\n",
              "интерьер                 Interior     87\n",
              "ресторане                Whole        75\n",
              "                                    ... \n",
              "пирожными                Food          1\n",
              "пирожок к первому блюду  Food          1\n",
              "пицц                     Food          1\n",
              "пиццами                  Food          1\n",
              " Цезарь                  Food          1\n",
              "Length: 1955, dtype: int64"
            ]
          },
          "metadata": {},
          "execution_count": 18
        }
      ],
      "source": [
        "train_asp.value_counts(subset=['mention', 'category'])"
      ],
      "id": "148d6f7c"
    },
    {
      "cell_type": "code",
      "execution_count": 20,
      "metadata": {
        "id": "39f37654"
      },
      "outputs": [],
      "source": [
        "train_counts = dict(zip(s.keys(), s.to_list()))"
      ],
      "id": "39f37654"
    },
    {
      "cell_type": "code",
      "execution_count": 21,
      "metadata": {
        "id": "zwiZgMj1myZ8"
      },
      "outputs": [],
      "source": [
        "train_asp['lemmas'] = [tuple(normalize(text)) for text in train_asp['mention']]"
      ],
      "id": "zwiZgMj1myZ8"
    },
    {
      "cell_type": "code",
      "execution_count": 22,
      "metadata": {
        "colab": {
          "base_uri": "https://localhost:8080/",
          "height": 423
        },
        "id": "QG_8AGSFm7rL",
        "outputId": "16f4bd75-121a-46cc-cf08-43d25699261d"
      },
      "outputs": [
        {
          "output_type": "execute_result",
          "data": {
            "text/html": [
              "\n",
              "  <div id=\"df-b11cf9e5-d14c-4da0-be1f-5f62886e4a46\">\n",
              "    <div class=\"colab-df-container\">\n",
              "      <div>\n",
              "<style scoped>\n",
              "    .dataframe tbody tr th:only-of-type {\n",
              "        vertical-align: middle;\n",
              "    }\n",
              "\n",
              "    .dataframe tbody tr th {\n",
              "        vertical-align: top;\n",
              "    }\n",
              "\n",
              "    .dataframe thead th {\n",
              "        text-align: right;\n",
              "    }\n",
              "</style>\n",
              "<table border=\"1\" class=\"dataframe\">\n",
              "  <thead>\n",
              "    <tr style=\"text-align: right;\">\n",
              "      <th></th>\n",
              "      <th>text_id</th>\n",
              "      <th>category</th>\n",
              "      <th>mention</th>\n",
              "      <th>start</th>\n",
              "      <th>end</th>\n",
              "      <th>sentiment</th>\n",
              "      <th>lemmas</th>\n",
              "    </tr>\n",
              "  </thead>\n",
              "  <tbody>\n",
              "    <tr>\n",
              "      <th>0</th>\n",
              "      <td>3976</td>\n",
              "      <td>Whole</td>\n",
              "      <td>ресторане</td>\n",
              "      <td>71</td>\n",
              "      <td>80</td>\n",
              "      <td>neutral</td>\n",
              "      <td>(ресторан,)</td>\n",
              "    </tr>\n",
              "    <tr>\n",
              "      <th>1</th>\n",
              "      <td>3976</td>\n",
              "      <td>Whole</td>\n",
              "      <td>ресторанах</td>\n",
              "      <td>198</td>\n",
              "      <td>208</td>\n",
              "      <td>neutral</td>\n",
              "      <td>(ресторан,)</td>\n",
              "    </tr>\n",
              "    <tr>\n",
              "      <th>2</th>\n",
              "      <td>3976</td>\n",
              "      <td>Whole</td>\n",
              "      <td>ресторане</td>\n",
              "      <td>256</td>\n",
              "      <td>265</td>\n",
              "      <td>neutral</td>\n",
              "      <td>(ресторан,)</td>\n",
              "    </tr>\n",
              "    <tr>\n",
              "      <th>3</th>\n",
              "      <td>3976</td>\n",
              "      <td>Service</td>\n",
              "      <td>Столик бронировали</td>\n",
              "      <td>267</td>\n",
              "      <td>285</td>\n",
              "      <td>neutral</td>\n",
              "      <td>(столик, бронировать)</td>\n",
              "    </tr>\n",
              "    <tr>\n",
              "      <th>4</th>\n",
              "      <td>3976</td>\n",
              "      <td>Service</td>\n",
              "      <td>администратор</td>\n",
              "      <td>322</td>\n",
              "      <td>335</td>\n",
              "      <td>positive</td>\n",
              "      <td>(администратор,)</td>\n",
              "    </tr>\n",
              "    <tr>\n",
              "      <th>...</th>\n",
              "      <td>...</td>\n",
              "      <td>...</td>\n",
              "      <td>...</td>\n",
              "      <td>...</td>\n",
              "      <td>...</td>\n",
              "      <td>...</td>\n",
              "      <td>...</td>\n",
              "    </tr>\n",
              "    <tr>\n",
              "      <th>4758</th>\n",
              "      <td>16630</td>\n",
              "      <td>Service</td>\n",
              "      <td>обслуживание</td>\n",
              "      <td>85</td>\n",
              "      <td>97</td>\n",
              "      <td>positive</td>\n",
              "      <td>(обслуживание,)</td>\n",
              "    </tr>\n",
              "    <tr>\n",
              "      <th>4759</th>\n",
              "      <td>16630</td>\n",
              "      <td>Food</td>\n",
              "      <td>Еда</td>\n",
              "      <td>99</td>\n",
              "      <td>102</td>\n",
              "      <td>positive</td>\n",
              "      <td>(еда,)</td>\n",
              "    </tr>\n",
              "    <tr>\n",
              "      <th>4760</th>\n",
              "      <td>16630</td>\n",
              "      <td>Service</td>\n",
              "      <td>персоналу</td>\n",
              "      <td>244</td>\n",
              "      <td>253</td>\n",
              "      <td>positive</td>\n",
              "      <td>(персонал,)</td>\n",
              "    </tr>\n",
              "    <tr>\n",
              "      <th>4761</th>\n",
              "      <td>16630</td>\n",
              "      <td>Whole</td>\n",
              "      <td>ресторан</td>\n",
              "      <td>294</td>\n",
              "      <td>302</td>\n",
              "      <td>positive</td>\n",
              "      <td>(ресторан,)</td>\n",
              "    </tr>\n",
              "    <tr>\n",
              "      <th>4762</th>\n",
              "      <td>16630</td>\n",
              "      <td>Whole</td>\n",
              "      <td>место</td>\n",
              "      <td>315</td>\n",
              "      <td>320</td>\n",
              "      <td>positive</td>\n",
              "      <td>(место,)</td>\n",
              "    </tr>\n",
              "  </tbody>\n",
              "</table>\n",
              "<p>4763 rows × 7 columns</p>\n",
              "</div>\n",
              "      <button class=\"colab-df-convert\" onclick=\"convertToInteractive('df-b11cf9e5-d14c-4da0-be1f-5f62886e4a46')\"\n",
              "              title=\"Convert this dataframe to an interactive table.\"\n",
              "              style=\"display:none;\">\n",
              "        \n",
              "  <svg xmlns=\"http://www.w3.org/2000/svg\" height=\"24px\"viewBox=\"0 0 24 24\"\n",
              "       width=\"24px\">\n",
              "    <path d=\"M0 0h24v24H0V0z\" fill=\"none\"/>\n",
              "    <path d=\"M18.56 5.44l.94 2.06.94-2.06 2.06-.94-2.06-.94-.94-2.06-.94 2.06-2.06.94zm-11 1L8.5 8.5l.94-2.06 2.06-.94-2.06-.94L8.5 2.5l-.94 2.06-2.06.94zm10 10l.94 2.06.94-2.06 2.06-.94-2.06-.94-.94-2.06-.94 2.06-2.06.94z\"/><path d=\"M17.41 7.96l-1.37-1.37c-.4-.4-.92-.59-1.43-.59-.52 0-1.04.2-1.43.59L10.3 9.45l-7.72 7.72c-.78.78-.78 2.05 0 2.83L4 21.41c.39.39.9.59 1.41.59.51 0 1.02-.2 1.41-.59l7.78-7.78 2.81-2.81c.8-.78.8-2.07 0-2.86zM5.41 20L4 18.59l7.72-7.72 1.47 1.35L5.41 20z\"/>\n",
              "  </svg>\n",
              "      </button>\n",
              "      \n",
              "  <style>\n",
              "    .colab-df-container {\n",
              "      display:flex;\n",
              "      flex-wrap:wrap;\n",
              "      gap: 12px;\n",
              "    }\n",
              "\n",
              "    .colab-df-convert {\n",
              "      background-color: #E8F0FE;\n",
              "      border: none;\n",
              "      border-radius: 50%;\n",
              "      cursor: pointer;\n",
              "      display: none;\n",
              "      fill: #1967D2;\n",
              "      height: 32px;\n",
              "      padding: 0 0 0 0;\n",
              "      width: 32px;\n",
              "    }\n",
              "\n",
              "    .colab-df-convert:hover {\n",
              "      background-color: #E2EBFA;\n",
              "      box-shadow: 0px 1px 2px rgba(60, 64, 67, 0.3), 0px 1px 3px 1px rgba(60, 64, 67, 0.15);\n",
              "      fill: #174EA6;\n",
              "    }\n",
              "\n",
              "    [theme=dark] .colab-df-convert {\n",
              "      background-color: #3B4455;\n",
              "      fill: #D2E3FC;\n",
              "    }\n",
              "\n",
              "    [theme=dark] .colab-df-convert:hover {\n",
              "      background-color: #434B5C;\n",
              "      box-shadow: 0px 1px 3px 1px rgba(0, 0, 0, 0.15);\n",
              "      filter: drop-shadow(0px 1px 2px rgba(0, 0, 0, 0.3));\n",
              "      fill: #FFFFFF;\n",
              "    }\n",
              "  </style>\n",
              "\n",
              "      <script>\n",
              "        const buttonEl =\n",
              "          document.querySelector('#df-b11cf9e5-d14c-4da0-be1f-5f62886e4a46 button.colab-df-convert');\n",
              "        buttonEl.style.display =\n",
              "          google.colab.kernel.accessAllowed ? 'block' : 'none';\n",
              "\n",
              "        async function convertToInteractive(key) {\n",
              "          const element = document.querySelector('#df-b11cf9e5-d14c-4da0-be1f-5f62886e4a46');\n",
              "          const dataTable =\n",
              "            await google.colab.kernel.invokeFunction('convertToInteractive',\n",
              "                                                     [key], {});\n",
              "          if (!dataTable) return;\n",
              "\n",
              "          const docLinkHtml = 'Like what you see? Visit the ' +\n",
              "            '<a target=\"_blank\" href=https://colab.research.google.com/notebooks/data_table.ipynb>data table notebook</a>'\n",
              "            + ' to learn more about interactive tables.';\n",
              "          element.innerHTML = '';\n",
              "          dataTable['output_type'] = 'display_data';\n",
              "          await google.colab.output.renderOutput(dataTable, element);\n",
              "          const docLink = document.createElement('div');\n",
              "          docLink.innerHTML = docLinkHtml;\n",
              "          element.appendChild(docLink);\n",
              "        }\n",
              "      </script>\n",
              "    </div>\n",
              "  </div>\n",
              "  "
            ],
            "text/plain": [
              "      text_id category  ... sentiment                 lemmas\n",
              "0        3976    Whole  ...   neutral            (ресторан,)\n",
              "1        3976    Whole  ...   neutral            (ресторан,)\n",
              "2        3976    Whole  ...   neutral            (ресторан,)\n",
              "3        3976  Service  ...   neutral  (столик, бронировать)\n",
              "4        3976  Service  ...  positive       (администратор,)\n",
              "...       ...      ...  ...       ...                    ...\n",
              "4758    16630  Service  ...  positive        (обслуживание,)\n",
              "4759    16630     Food  ...  positive                 (еда,)\n",
              "4760    16630  Service  ...  positive            (персонал,)\n",
              "4761    16630    Whole  ...  positive            (ресторан,)\n",
              "4762    16630    Whole  ...  positive               (место,)\n",
              "\n",
              "[4763 rows x 7 columns]"
            ]
          },
          "metadata": {},
          "execution_count": 22
        }
      ],
      "source": [
        "train_asp"
      ],
      "id": "QG_8AGSFm7rL"
    },
    {
      "cell_type": "code",
      "execution_count": 23,
      "metadata": {
        "colab": {
          "base_uri": "https://localhost:8080/"
        },
        "id": "mBp6UIjdm-1F",
        "outputId": "9351478f-677b-47ad-e212-c2659c086e07"
      },
      "outputs": [
        {
          "output_type": "execute_result",
          "data": {
            "text/plain": [
              "lemmas                     category\n",
              "(ресторан,)                Whole       255\n",
              "(обслуживание,)            Service     168\n",
              "(интерьер,)                Interior    166\n",
              "(официант,)                Service     143\n",
              "(кухня,)                   Food        135\n",
              "                                      ... \n",
              "(предварительный, заказ)   Service       1\n",
              "(появляться,)              Service       1\n",
              "(появиться,)               Service       1\n",
              "(поступить,)               Service       1\n",
              "(1450, 1750р, с, человек)  Price         1\n",
              "Length: 1336, dtype: int64"
            ]
          },
          "metadata": {},
          "execution_count": 23
        }
      ],
      "source": [
        "train_asp.value_counts(subset=['lemmas', 'category'])"
      ],
      "id": "mBp6UIjdm-1F"
    },
    {
      "cell_type": "markdown",
      "metadata": {
        "id": "84f15291"
      },
      "source": [
        "### ?\n",
        "\n",
        "Что тут можно улучшить?"
      ],
      "id": "84f15291"
    },
    {
      "cell_type": "markdown",
      "metadata": {
        "id": "09ebbeff"
      },
      "source": [
        "## sequence labelling\n",
        "\n",
        "В лекции обсуждали, что задачу разметки аспектов можно представить как задачу разметки последовательности. Что для этого нужно? Что у нас уже есть?\n",
        "\n",
        "1. Возьмем токенизатор, который сохраняет позиции токенов (stanza)\n",
        "2. Сведём имеющуюся разметку к формату BIO:\n",
        "  - для каждого текста возьмем список упоминаний аспектов и их позиции\n",
        "  - пройдемся по токенам, сверим их с разметкой и припишем теги\n"
      ],
      "id": "09ebbeff"
    },
    {
      "cell_type": "code",
      "execution_count": 24,
      "metadata": {
        "colab": {
          "base_uri": "https://localhost:8080/"
        },
        "id": "a8884f3e",
        "outputId": "8fdb8c78-10d4-4cbb-ebc0-db8b40d36f90"
      },
      "outputs": [
        {
          "output_type": "stream",
          "name": "stdout",
          "text": [
            "Collecting stanza\n",
            "  Downloading stanza-1.3.0-py3-none-any.whl (432 kB)\n",
            "\u001b[K     |████████████████████████████████| 432 kB 5.3 MB/s \n",
            "\u001b[?25hRequirement already satisfied: numpy in /usr/local/lib/python3.7/dist-packages (from stanza) (1.19.5)\n",
            "Requirement already satisfied: protobuf in /usr/local/lib/python3.7/dist-packages (from stanza) (3.17.3)\n",
            "Requirement already satisfied: requests in /usr/local/lib/python3.7/dist-packages (from stanza) (2.23.0)\n",
            "Requirement already satisfied: tqdm in /usr/local/lib/python3.7/dist-packages (from stanza) (4.62.3)\n",
            "Requirement already satisfied: six in /usr/local/lib/python3.7/dist-packages (from stanza) (1.15.0)\n",
            "Collecting emoji\n",
            "  Downloading emoji-1.6.1.tar.gz (170 kB)\n",
            "\u001b[K     |████████████████████████████████| 170 kB 29.7 MB/s \n",
            "\u001b[?25hRequirement already satisfied: torch>=1.3.0 in /usr/local/lib/python3.7/dist-packages (from stanza) (1.10.0+cu111)\n",
            "Requirement already satisfied: typing-extensions in /usr/local/lib/python3.7/dist-packages (from torch>=1.3.0->stanza) (3.10.0.2)\n",
            "Requirement already satisfied: idna<3,>=2.5 in /usr/local/lib/python3.7/dist-packages (from requests->stanza) (2.10)\n",
            "Requirement already satisfied: urllib3!=1.25.0,!=1.25.1,<1.26,>=1.21.1 in /usr/local/lib/python3.7/dist-packages (from requests->stanza) (1.24.3)\n",
            "Requirement already satisfied: chardet<4,>=3.0.2 in /usr/local/lib/python3.7/dist-packages (from requests->stanza) (3.0.4)\n",
            "Requirement already satisfied: certifi>=2017.4.17 in /usr/local/lib/python3.7/dist-packages (from requests->stanza) (2021.10.8)\n",
            "Building wheels for collected packages: emoji\n",
            "  Building wheel for emoji (setup.py) ... \u001b[?25l\u001b[?25hdone\n",
            "  Created wheel for emoji: filename=emoji-1.6.1-py3-none-any.whl size=169314 sha256=87541a59954594b2da42418815acc79c77cc9a27cbe08977e209f31b67086c7a\n",
            "  Stored in directory: /root/.cache/pip/wheels/ea/5f/d3/03d313ddb3c2a1a427bb4690f1621eea60fe6f2a30cc95940f\n",
            "Successfully built emoji\n",
            "Installing collected packages: emoji, stanza\n",
            "Successfully installed emoji-1.6.1 stanza-1.3.0\n"
          ]
        }
      ],
      "source": [
        "!pip install stanza"
      ],
      "id": "a8884f3e"
    },
    {
      "cell_type": "code",
      "execution_count": 25,
      "metadata": {
        "id": "3aoTW4pOsWqR"
      },
      "outputs": [],
      "source": [
        "import stanza"
      ],
      "id": "3aoTW4pOsWqR"
    },
    {
      "cell_type": "code",
      "execution_count": 26,
      "metadata": {
        "colab": {
          "base_uri": "https://localhost:8080/",
          "height": 117,
          "referenced_widgets": [
            "8ad4580eb45440faa04a8c357fcc917d",
            "84d060d20ea14da1abfa164b8bb87d28",
            "88b59263083c4019a5e39bbe54c6bf9f",
            "bce14c3d05b142228ea8a3531ce25d26",
            "b302549a99cc43a1ad32b62bdd3c510c",
            "f7a598c95cc441d7ab2acbfee8613da5",
            "473003201de145ea8891d50df013d427",
            "bcf01516441044618553d20b7071e533",
            "a54f05a7516d43b49e595e90ff8ec646",
            "18676ea03f97440a9bdf46964e2df272",
            "737f11adb37e4438b31e18a2cb0dc26c",
            "e29cde729f494b1490f51308ab28b7a3",
            "23d3ed22f15145b3a2287bfa008da11c",
            "3453df5a747a448299e7d61ff6de9e3a",
            "d0042fbda54a413dac0bbbb86dfc99fe",
            "2ba050020faf460092c740d88dbd4032",
            "c3935ea3f72442e1b2e5dc74f8972e57",
            "48d8f1ba68074a46a0460722a13f6d8d",
            "8ef818a8670e41329f729e212ad0afe9",
            "02cb97c50a384669a32935ce06f2e51a",
            "dfd2d5ca666542d18ae93fcfc51d8524",
            "890781a0e7e44e28ae38cb5874501be7"
          ]
        },
        "id": "Qy-O3xfDsjrk",
        "outputId": "e2e99fcf-c22b-44c5-b56c-ac10b6bd34ff"
      },
      "outputs": [
        {
          "output_type": "display_data",
          "data": {
            "application/vnd.jupyter.widget-view+json": {
              "model_id": "8ad4580eb45440faa04a8c357fcc917d",
              "version_minor": 0,
              "version_major": 2
            },
            "text/plain": [
              "Downloading https://raw.githubusercontent.com/stanfordnlp/stanza-resources/main/resources_1.3.0.json:   0%|   …"
            ]
          },
          "metadata": {}
        },
        {
          "output_type": "stream",
          "name": "stderr",
          "text": [
            "2021-12-27 15:31:39 INFO: Downloading default packages for language: ru (Russian)...\n"
          ]
        },
        {
          "output_type": "display_data",
          "data": {
            "application/vnd.jupyter.widget-view+json": {
              "model_id": "e29cde729f494b1490f51308ab28b7a3",
              "version_minor": 0,
              "version_major": 2
            },
            "text/plain": [
              "Downloading https://huggingface.co/stanfordnlp/stanza-ru/resolve/v1.3.0/models/default.zip:   0%|          | 0…"
            ]
          },
          "metadata": {}
        },
        {
          "output_type": "stream",
          "name": "stderr",
          "text": [
            "2021-12-27 15:32:11 INFO: Finished downloading models and saved to /root/stanza_resources.\n"
          ]
        }
      ],
      "source": [
        "stanza.download('ru')"
      ],
      "id": "Qy-O3xfDsjrk"
    },
    {
      "cell_type": "code",
      "execution_count": 27,
      "metadata": {
        "colab": {
          "base_uri": "https://localhost:8080/"
        },
        "id": "Axue_IPusa_I",
        "outputId": "aa60e583-ba8d-41a1-e899-7f44031761ed"
      },
      "outputs": [
        {
          "output_type": "stream",
          "name": "stderr",
          "text": [
            "2021-12-27 15:32:11 INFO: Loading these models for language: ru (Russian):\n",
            "=========================\n",
            "| Processor | Package   |\n",
            "-------------------------\n",
            "| tokenize  | syntagrus |\n",
            "| pos       | syntagrus |\n",
            "=========================\n",
            "\n",
            "2021-12-27 15:32:11 INFO: Use device: cpu\n",
            "2021-12-27 15:32:11 INFO: Loading: tokenize\n",
            "2021-12-27 15:32:12 INFO: Loading: pos\n",
            "2021-12-27 15:32:12 INFO: Done loading processors!\n"
          ]
        }
      ],
      "source": [
        "# nlp = stanza.Pipeline('ru', processors='tokenize')\n",
        "nlp = stanza.Pipeline('ru', processors='tokenize,pos')"
      ],
      "id": "Axue_IPusa_I"
    },
    {
      "cell_type": "code",
      "execution_count": 28,
      "metadata": {
        "id": "tO-iVnLqtjzm"
      },
      "outputs": [],
      "source": [
        "reviews = {}\n",
        "with open('train_reviews.txt') as f:\n",
        "  for line in f:\n",
        "    line = line.rstrip('\\r\\n').split('\\t')\n",
        "    reviews[line[0]] = line[1]\n",
        "\n",
        "\n",
        "reviews_test = {}\n",
        "with open('dev_reviews.txt') as f:\n",
        "  for line in f:\n",
        "    line = line.rstrip('\\r\\n').split('\\t')\n",
        "    reviews_test[line[0]] = line[1]"
      ],
      "id": "tO-iVnLqtjzm"
    },
    {
      "cell_type": "code",
      "execution_count": 29,
      "metadata": {
        "id": "SPZdN60RtwGA"
      },
      "outputs": [],
      "source": [
        "from collections import defaultdict\n",
        "aspects = defaultdict(list)"
      ],
      "id": "SPZdN60RtwGA"
    },
    {
      "cell_type": "code",
      "execution_count": 30,
      "metadata": {
        "id": "1RtIwB_8t1WA"
      },
      "outputs": [],
      "source": [
        "with open('train_aspects.txt') as f:\n",
        "  for line in f:\n",
        "    line = line.rstrip('\\r\\n').split('\\t')\n",
        "    keys = ('category', 'mention', 'start', 'end', 'sentiment')\n",
        "    # ['text_id', 'category', 'mention', 'start', 'end', 'sentiment']\n",
        "    # тут можно отдельно запомнить начало и конец каждого упоминания\n",
        "    aspects[line[0]].append(dict(zip(keys, line[1:])))"
      ],
      "id": "1RtIwB_8t1WA"
    },
    {
      "cell_type": "code",
      "source": [
        "aspects_test = defaultdict(list)\n",
        "with open('dev_aspects.txt') as f:\n",
        "  for line in f:\n",
        "    line = line.rstrip('\\r\\n').split('\\t')\n",
        "    keys = ('category', 'mention', 'start', 'end', 'sentiment')\n",
        "    # ['text_id', 'category', 'mention', 'start', 'end', 'sentiment']\n",
        "    # тут можно отдельно запомнить начало и конец каждого упоминания\n",
        "    aspects_test[line[0]].append(dict(zip(keys, line[1:])))"
      ],
      "metadata": {
        "id": "FHkYtEfObgrN"
      },
      "id": "FHkYtEfObgrN",
      "execution_count": 32,
      "outputs": []
    },
    {
      "cell_type": "code",
      "source": [
        "# здесь код для упоминаний из 1 токена\n",
        "# ВАЖНО: для более длинных упоминаний нужно доделать ещё немного\n",
        "all_data_train = []\n",
        "for text_id, text in reviews.items():\n",
        "  processed = nlp(text)\n",
        "  for token in processed.iter_tokens():\n",
        "    add = False\n",
        "    for mention in aspects[text_id]:\n",
        "      if token.start_char == int(mention['start']) and token.end_char == int(mention['end']):\n",
        "        all_data_train.append([text_id, token.text, token.words[0].pos, 'B-'+mention['category']])\n",
        "        add = True\n",
        "      elif token.start_char > int(mention['start']) and token.end_char <= int(mention['end']):\n",
        "        all_data_train.append([text_id, token.text, token.words[0].pos, 'I-'+mention['category']])\n",
        "        add = True\n",
        "    if not add:\n",
        "      all_data_train.append([text_id, token.text,  token.words[0].pos, 'O'])"
      ],
      "metadata": {
        "id": "IHu0mltshh66"
      },
      "id": "IHu0mltshh66",
      "execution_count": 64,
      "outputs": []
    },
    {
      "cell_type": "code",
      "source": [
        "text_ids_train = []\n",
        "texts_train = []\n",
        "pos_tags_train = []\n",
        "bio_tags_train = []\n",
        "\n",
        "for el in all_data_train:\n",
        "  text_ids_train.append(el[0])\n",
        "  texts_train.append(el[1])\n",
        "  pos_tags_train.append(el[2])\n",
        "  bio_tags_train.append(el[3])\n"
      ],
      "metadata": {
        "id": "LwJ613qjiflH"
      },
      "id": "LwJ613qjiflH",
      "execution_count": 65,
      "outputs": []
    },
    {
      "cell_type": "code",
      "execution_count": 66,
      "metadata": {
        "id": "4RDMW93cuORo"
      },
      "outputs": [],
      "source": [
        "all_data_test = []\n",
        "for text_id, text in reviews_test.items():\n",
        "  processed = nlp(text)\n",
        "  for token in processed.iter_tokens():\n",
        "    add = False\n",
        "    for mention in aspects[text_id]:\n",
        "      if token.start_char == int(mention['start']) and token.end_char == int(mention['end']):\n",
        "        all_data_test.append([text_id, token.text, token.words[0].pos, 'B-'+mention['category']])\n",
        "        add = True\n",
        "      elif token.start_char > int(mention['start']) and token.end_char <= int(mention['end']):\n",
        "        all_data_test.append([text_id, token.text, token.words[0].pos, 'I-'+mention['category']])\n",
        "        add = True\n",
        "    if not add:\n",
        "      all_data_test.append([text_id, token.text,  token.words[0].pos, 'O'])"
      ],
      "id": "4RDMW93cuORo"
    },
    {
      "cell_type": "code",
      "source": [
        "text_ids_test = []\n",
        "texts_test = []\n",
        "pos_tags_test = []\n",
        "bio_tags_test = []\n",
        "\n",
        "for el in all_data_test:\n",
        "  text_ids_test.append(el[0])\n",
        "  texts_test.append(el[1])\n",
        "  pos_tags_test.append(el[2])\n",
        "  bio_tags_test.append(el[3])\n"
      ],
      "metadata": {
        "id": "XlYvBaI_hyKv"
      },
      "id": "XlYvBaI_hyKv",
      "execution_count": 67,
      "outputs": []
    },
    {
      "cell_type": "code",
      "source": [
        "len(text_ids_test)"
      ],
      "metadata": {
        "colab": {
          "base_uri": "https://localhost:8080/"
        },
        "id": "8Xay4bmqmfLo",
        "outputId": "3f0d15e7-4b6c-47f2-cd8e-ebb9689425d5"
      },
      "id": "8Xay4bmqmfLo",
      "execution_count": 68,
      "outputs": [
        {
          "output_type": "execute_result",
          "data": {
            "text/plain": [
              "11827"
            ]
          },
          "metadata": {},
          "execution_count": 68
        }
      ]
    },
    {
      "cell_type": "markdown",
      "metadata": {
        "id": "3cd09b20"
      },
      "source": [
        "## CRF\n",
        "\n",
        "Популярный алгоритм для разметки последовательностей. Попробуем сначала на задаче NER с помощью [sklearn-crfsuite](https://sklearn-crfsuite.readthedocs.io/en/latest/api.html)\n",
        "\n",
        "Возьмём корпус WikiNER:"
      ],
      "id": "3cd09b20"
    },
    {
      "cell_type": "code",
      "execution_count": 69,
      "metadata": {
        "colab": {
          "base_uri": "https://localhost:8080/"
        },
        "id": "dfc01d94",
        "outputId": "0d241e58-21e6-49bf-aa93-0da57ca16f0f"
      },
      "outputs": [
        {
          "output_type": "stream",
          "name": "stdout",
          "text": [
            "Requirement already satisfied: scikit-learn<0.24 in /usr/local/lib/python3.7/dist-packages (0.23.2)\n",
            "Requirement already satisfied: numpy>=1.13.3 in /usr/local/lib/python3.7/dist-packages (from scikit-learn<0.24) (1.19.5)\n",
            "Requirement already satisfied: joblib>=0.11 in /usr/local/lib/python3.7/dist-packages (from scikit-learn<0.24) (1.1.0)\n",
            "Requirement already satisfied: threadpoolctl>=2.0.0 in /usr/local/lib/python3.7/dist-packages (from scikit-learn<0.24) (3.0.0)\n",
            "Requirement already satisfied: scipy>=0.19.1 in /usr/local/lib/python3.7/dist-packages (from scikit-learn<0.24) (1.4.1)\n"
          ]
        }
      ],
      "source": [
        "!pip install -U 'scikit-learn<0.24'"
      ],
      "id": "dfc01d94"
    },
    {
      "cell_type": "code",
      "execution_count": null,
      "metadata": {
        "id": "2558c1b9"
      },
      "outputs": [],
      "source": [
        "# from sklearn.model_selection import train_test_split"
      ],
      "id": "2558c1b9"
    },
    {
      "cell_type": "code",
      "execution_count": null,
      "metadata": {
        "id": "57c1def3"
      },
      "outputs": [],
      "source": [
        "# !wget https://github.com/dice-group/FOX/raw/master/input/Wikiner/aij-wikiner-ru-wp3.bz2"
      ],
      "id": "57c1def3"
    },
    {
      "cell_type": "code",
      "execution_count": null,
      "metadata": {
        "id": "5a8c016c"
      },
      "outputs": [],
      "source": [
        "# !pip install corus"
      ],
      "id": "5a8c016c"
    },
    {
      "cell_type": "code",
      "execution_count": null,
      "metadata": {
        "id": "e25eb418"
      },
      "outputs": [],
      "source": [
        "# from corus import load_wikiner\n",
        "# data = list(load_wikiner('aij-wikiner-ru-wp3.bz2'))"
      ],
      "id": "e25eb418"
    },
    {
      "cell_type": "markdown",
      "metadata": {
        "id": "b83c73e3"
      },
      "source": [
        "Посмотрим на разметку:"
      ],
      "id": "b83c73e3"
    },
    {
      "cell_type": "markdown",
      "metadata": {
        "id": "836ee403"
      },
      "source": [
        "# **Обучение CRF**"
      ],
      "id": "836ee403"
    },
    {
      "cell_type": "code",
      "execution_count": 70,
      "metadata": {
        "colab": {
          "base_uri": "https://localhost:8080/"
        },
        "id": "4b1c9908",
        "outputId": "8a301a52-d3a6-4c28-cbe1-063a1838103c"
      },
      "outputs": [
        {
          "output_type": "stream",
          "name": "stdout",
          "text": [
            "Requirement already satisfied: sklearn-crfsuite in /usr/local/lib/python3.7/dist-packages (0.3.6)\n",
            "Requirement already satisfied: six in /usr/local/lib/python3.7/dist-packages (from sklearn-crfsuite) (1.15.0)\n",
            "Requirement already satisfied: python-crfsuite>=0.8.3 in /usr/local/lib/python3.7/dist-packages (from sklearn-crfsuite) (0.9.7)\n",
            "Requirement already satisfied: tqdm>=2.0 in /usr/local/lib/python3.7/dist-packages (from sklearn-crfsuite) (4.62.3)\n",
            "Requirement already satisfied: tabulate in /usr/local/lib/python3.7/dist-packages (from sklearn-crfsuite) (0.8.9)\n"
          ]
        }
      ],
      "source": [
        "!pip install sklearn-crfsuite"
      ],
      "id": "4b1c9908"
    },
    {
      "cell_type": "code",
      "execution_count": 71,
      "metadata": {
        "id": "f49f098b"
      },
      "outputs": [],
      "source": [
        "import sklearn_crfsuite\n",
        "from sklearn_crfsuite import scorers\n",
        "from sklearn_crfsuite import metrics"
      ],
      "id": "f49f098b"
    },
    {
      "cell_type": "markdown",
      "metadata": {
        "id": "a1ca4ecd"
      },
      "source": [
        "Заведём экстрактор признаков и тегов:"
      ],
      "id": "a1ca4ecd"
    },
    {
      "cell_type": "code",
      "source": [
        "train_sen = []\n",
        "new = []\n",
        "for elem in range(len(text_ids_train)):\n",
        "  id = text_ids_train[elem]\n",
        "  try:\n",
        "    if id == text_ids_train[elem+1]:\n",
        "      new.append((texts_train[elem], pos_tags_train[elem], bio_tags_train[elem]))\n",
        "    else:  \n",
        "      new.append((texts_train[elem], pos_tags_train[elem], bio_tags_train[elem]))\n",
        "      train_sen.append(new)\n",
        "      new = []\n",
        "  except:\n",
        "    id = text_ids_train[-1]\n",
        "    new = []\n",
        "    for k in range(len(text_ids_train)):\n",
        "      if text_ids_train[k] == id:\n",
        "        new.append((texts_train[k], pos_tags_train[k], bio_tags_train[k]))\n",
        "    train_sen.append(new)"
      ],
      "metadata": {
        "id": "_nQHVMhWH_aP"
      },
      "id": "_nQHVMhWH_aP",
      "execution_count": 72,
      "outputs": []
    },
    {
      "cell_type": "code",
      "source": [
        "test_sen = []\n",
        "new = []\n",
        "for elem in range(len(text_ids_test)):\n",
        "  id = text_ids_test[elem]\n",
        "  try:\n",
        "    if id == text_ids_test[elem+1]:\n",
        "      new.append((texts_test[elem], pos_tags_test[elem], bio_tags_test[elem]))\n",
        "    else:  \n",
        "      new.append((texts_test[elem], pos_tags_test[elem], bio_tags_test[elem]))\n",
        "      test_sen.append(new)\n",
        "      new = []\n",
        "  except:\n",
        "    id = text_ids_test[-1]\n",
        "    new = []\n",
        "    for k in range(len(text_ids_test)):\n",
        "      if text_ids_test[k] == id:\n",
        "        new.append((texts_test[k], pos_tags_test[k], bio_tags_test[k]))\n",
        "    test_sen.append(new)"
      ],
      "metadata": {
        "id": "8nsGwE14lyJA"
      },
      "id": "8nsGwE14lyJA",
      "execution_count": 73,
      "outputs": []
    },
    {
      "cell_type": "code",
      "execution_count": 74,
      "metadata": {
        "id": "6cc018ce"
      },
      "outputs": [],
      "source": [
        "def word2features(sent, i):\n",
        "    # достаёт фичи для i-го токена в предложении\n",
        "    word = sent[i][0]\n",
        "    postag = sent[i][1]\n",
        "    \n",
        "    features = {\n",
        "        'word.lower()': word.lower(),\n",
        "        'word[-3:]': word[-3:],\n",
        "        'word[-2:]': word[-2:],\n",
        "        'word.isupper()': word.isupper(),\n",
        "        'word.istitle()': word.istitle(),\n",
        "        'word.isdigit()': word.isdigit(),\n",
        "        'postag': postag,\n",
        "    }\n",
        "    if i > 0:\n",
        "        word1 = sent[i-1][0]\n",
        "        postag1 = sent[i-1][1]\n",
        "        features.update({\n",
        "            '-1:word.lower()': word1.lower(),\n",
        "            '-1:word.istitle()': word1.istitle(),\n",
        "            '-1:word.isupper()': word1.isupper(),\n",
        "            '-1:postag': postag1,\n",
        "        })\n",
        "    else:\n",
        "        features['BOS'] = True\n",
        "        \n",
        "    if i < len(sent)-1:\n",
        "        word1 = sent[i+1][0]\n",
        "        postag1 = sent[i+1][1]\n",
        "        features.update({\n",
        "            '+1:word.lower()': word1.lower(),\n",
        "            '+1:word.istitle()': word1.istitle(),\n",
        "            '+1:word.isupper()': word1.isupper(),\n",
        "            '+1:postag': postag1,\n",
        "            '+1:postag[:2]': postag1[:2],\n",
        "        })\n",
        "    else:\n",
        "        features['EOS'] = True\n",
        "                \n",
        "    return features\n",
        "\n",
        "\n",
        "def sent2features(sent):\n",
        "    # достаёт фичи для всех токенов в предложении\n",
        "    return [word2features(sent, i) for i in range(len(sent))]\n",
        "\n",
        "def sent2labels(sent):\n",
        "    return [label for token, postag, label in sent]\n",
        "\n",
        "def sent2tokens(sent):\n",
        "    return [token for token, postag, label in sent]"
      ],
      "id": "6cc018ce"
    },
    {
      "cell_type": "code",
      "source": [
        "X_train = [sent2features(s) for s in train_sen]\n",
        "y_train = [sent2labels(s) for s in train_sen]\n",
        "\n",
        "X_test = [sent2features(s) for s in test_sen]\n",
        "y_test = [sent2labels(s) for s in test_sen]"
      ],
      "metadata": {
        "id": "tsZA7yW4SpZe"
      },
      "id": "tsZA7yW4SpZe",
      "execution_count": 75,
      "outputs": []
    },
    {
      "cell_type": "code",
      "execution_count": 76,
      "metadata": {
        "colab": {
          "base_uri": "https://localhost:8080/"
        },
        "id": "2d06a7a7",
        "outputId": "bda28153-f981-4eda-88ba-ab3d79d7583b"
      },
      "outputs": [
        {
          "output_type": "stream",
          "name": "stderr",
          "text": [
            "/usr/local/lib/python3.7/dist-packages/sklearn/base.py:213: FutureWarning: From version 0.24, get_params will raise an AttributeError if a parameter cannot be retrieved as an instance attribute. Previously it would return None.\n",
            "  FutureWarning)\n"
          ]
        },
        {
          "output_type": "execute_result",
          "data": {
            "text/plain": [
              "CRF(algorithm='lbfgs', all_possible_transitions=True, c1=0.1, c2=0.1,\n",
              "    keep_tempfiles=None, max_iterations=100)"
            ]
          },
          "metadata": {},
          "execution_count": 76
        }
      ],
      "source": [
        "crf = sklearn_crfsuite.CRF(\n",
        "    algorithm='lbfgs', \n",
        "    c1=0.1, \n",
        "    c2=0.1, \n",
        "    max_iterations=100, \n",
        "    all_possible_transitions=True\n",
        ")\n",
        "crf.fit(X_train, y_train)"
      ],
      "id": "2d06a7a7"
    },
    {
      "cell_type": "code",
      "source": [
        "labels = list(crf.classes_)\n",
        "labels.remove('O')\n",
        "y_pred = crf.predict(X_test)\n",
        "metrics.flat_f1_score(y_test, y_pred, \n",
        "                      average='weighted', labels=labels)"
      ],
      "metadata": {
        "colab": {
          "base_uri": "https://localhost:8080/"
        },
        "id": "aoiMREC2ixA_",
        "outputId": "32dae2d3-14ec-46f7-f143-3a539e0fd901"
      },
      "id": "aoiMREC2ixA_",
      "execution_count": 77,
      "outputs": [
        {
          "output_type": "execute_result",
          "data": {
            "text/plain": [
              "0.928471296931425"
            ]
          },
          "metadata": {},
          "execution_count": 77
        }
      ]
    },
    {
      "cell_type": "code",
      "source": [
        "sorted_labels = sorted(\n",
        "    labels, \n",
        "    key=lambda name: (name[1:], name[0])\n",
        ")\n",
        "print(metrics.flat_classification_report(\n",
        "    y_test, y_pred, labels=sorted_labels, digits=3\n",
        "))"
      ],
      "metadata": {
        "colab": {
          "base_uri": "https://localhost:8080/"
        },
        "id": "ALwFgeqVi2i0",
        "outputId": "2bfa4a30-5173-453b-bfd0-6781b0f8aa74"
      },
      "id": "ALwFgeqVi2i0",
      "execution_count": 79,
      "outputs": [
        {
          "output_type": "stream",
          "name": "stderr",
          "text": [
            "/usr/local/lib/python3.7/dist-packages/sklearn/utils/validation.py:70: FutureWarning: Pass labels=['B-Food', 'I-Food', 'B-Interior', 'I-Interior', 'B-Price', 'I-Price', 'B-Service', 'I-Service', 'B-Whole', 'I-Whole'] as keyword args. From version 0.25 passing these as positional arguments will result in an error\n",
            "  FutureWarning)\n"
          ]
        },
        {
          "output_type": "stream",
          "name": "stdout",
          "text": [
            "              precision    recall  f1-score   support\n",
            "\n",
            "      B-Food      0.896     0.953     0.924       317\n",
            "      I-Food      0.974     0.945     0.959       273\n",
            "  B-Interior      0.992     0.874     0.930       151\n",
            "  I-Interior      0.812     0.897     0.852        29\n",
            "     B-Price      0.935     1.000     0.967        29\n",
            "     I-Price      1.000     0.909     0.952        11\n",
            "   B-Service      0.957     0.882     0.918       280\n",
            "   I-Service      0.896     0.811     0.851        74\n",
            "     B-Whole      0.920     0.938     0.929       160\n",
            "     I-Whole      1.000     0.958     0.979        48\n",
            "\n",
            "   micro avg      0.939     0.918     0.929      1372\n",
            "   macro avg      0.938     0.917     0.926      1372\n",
            "weighted avg      0.941     0.918     0.928      1372\n",
            "\n"
          ]
        }
      ]
    },
    {
      "cell_type": "code",
      "execution_count": 80,
      "metadata": {
        "colab": {
          "base_uri": "https://localhost:8080/"
        },
        "id": "b0d9727b",
        "outputId": "20b990af-c11e-45c6-9bcd-c1fe24188f84"
      },
      "outputs": [
        {
          "output_type": "execute_result",
          "data": {
            "text/plain": [
              "0.928471296931425"
            ]
          },
          "metadata": {},
          "execution_count": 80
        }
      ],
      "source": [
        "labels = list(crf.classes_)\n",
        "labels.remove('O')\n",
        "y_pred = crf.predict(X_test)\n",
        "metrics.flat_f1_score(y_test, y_pred, \n",
        "                      average='weighted', labels=labels)"
      ],
      "id": "b0d9727b"
    },
    {
      "cell_type": "markdown",
      "source": [
        "## + Подбор лучших гиперпараметров"
      ],
      "metadata": {
        "id": "MQKXwHQS59-c"
      },
      "id": "MQKXwHQS59-c"
    },
    {
      "cell_type": "code",
      "source": [
        "from itertools import chain\n",
        "\n",
        "import nltk\n",
        "import sklearn\n",
        "import scipy.stats\n",
        "from sklearn.metrics import make_scorer\n",
        "# from sklearn.cross_validation import cross_val_score\n",
        "from sklearn.model_selection import RandomizedSearchCV\n",
        "\n",
        "import sklearn_crfsuite\n",
        "from sklearn_crfsuite import scorers\n",
        "from sklearn_crfsuite import metrics"
      ],
      "metadata": {
        "id": "AM6HXRHm6KSt"
      },
      "id": "AM6HXRHm6KSt",
      "execution_count": 82,
      "outputs": []
    },
    {
      "cell_type": "code",
      "source": [
        "%%time\n",
        "# define fixed parameters and parameters to search\n",
        "crf = sklearn_crfsuite.CRF(\n",
        "    algorithm='lbfgs',\n",
        "    max_iterations=100,\n",
        "    all_possible_transitions=True\n",
        ")\n",
        "params_space = {\n",
        "    'c1': scipy.stats.expon(scale=0.5),\n",
        "    'c2': scipy.stats.expon(scale=0.05),\n",
        "}\n",
        "\n",
        "# use the same metric for evaluation\n",
        "f1_scorer = make_scorer(metrics.flat_f1_score,\n",
        "                        average='weighted', labels=labels)\n",
        "\n",
        "# search - рандомизированный, чтобы колаб не отвалился\n",
        "rs = RandomizedSearchCV(crf, params_space,\n",
        "                        cv=3,\n",
        "                        verbose=1,\n",
        "                        n_jobs=-1,\n",
        "                        n_iter=50,\n",
        "                        scoring=f1_scorer)\n",
        "rs.fit(X_train, y_train)"
      ],
      "metadata": {
        "colab": {
          "base_uri": "https://localhost:8080/"
        },
        "id": "7CYNJ9eW6BgS",
        "outputId": "a9e75b91-3e6a-4bca-9839-922be35e24ee"
      },
      "id": "7CYNJ9eW6BgS",
      "execution_count": 83,
      "outputs": [
        {
          "output_type": "stream",
          "name": "stdout",
          "text": [
            "Fitting 3 folds for each of 50 candidates, totalling 150 fits\n"
          ]
        },
        {
          "output_type": "stream",
          "name": "stderr",
          "text": [
            "/usr/local/lib/python3.7/dist-packages/sklearn/base.py:213: FutureWarning: From version 0.24, get_params will raise an AttributeError if a parameter cannot be retrieved as an instance attribute. Previously it would return None.\n",
            "  FutureWarning)\n",
            "[Parallel(n_jobs=-1)]: Using backend LokyBackend with 2 concurrent workers.\n",
            "[Parallel(n_jobs=-1)]: Done  46 tasks      | elapsed:  6.8min\n",
            "[Parallel(n_jobs=-1)]: Done 150 out of 150 | elapsed: 21.4min finished\n"
          ]
        },
        {
          "output_type": "stream",
          "name": "stdout",
          "text": [
            "CPU times: user 15min 52s, sys: 3.59 s, total: 15min 56s\n",
            "Wall time: 21min 31s\n"
          ]
        }
      ]
    },
    {
      "cell_type": "code",
      "source": [
        "print('best params:', rs.best_params_)\n",
        "print('best CV score:', rs.best_score_)\n",
        "print('model size: {:0.2f}M'.format(rs.best_estimator_.size_ / 1000000))"
      ],
      "metadata": {
        "colab": {
          "base_uri": "https://localhost:8080/"
        },
        "id": "XhfxHm7aGTmR",
        "outputId": "72b77283-1e21-4378-fde6-3fc6815bdba6"
      },
      "id": "XhfxHm7aGTmR",
      "execution_count": 84,
      "outputs": [
        {
          "output_type": "stream",
          "name": "stdout",
          "text": [
            "best params: {'c1': 0.295563798366524, 'c2': 0.0014369369103075062}\n",
            "best CV score: 0.6316802600922803\n",
            "model size: 0.48M\n"
          ]
        }
      ]
    },
    {
      "cell_type": "code",
      "source": [
        "crf = rs.best_estimator_\n",
        "y_pred = crf.predict(X_test)\n",
        "print(metrics.flat_classification_report(\n",
        "    y_test, y_pred, labels=sorted_labels, digits=3\n",
        "))"
      ],
      "metadata": {
        "colab": {
          "base_uri": "https://localhost:8080/"
        },
        "id": "18_PGF3MGdQQ",
        "outputId": "a26b6c1b-1881-4323-c3c8-97df9ab87adf"
      },
      "id": "18_PGF3MGdQQ",
      "execution_count": 85,
      "outputs": [
        {
          "output_type": "stream",
          "name": "stdout",
          "text": [
            "              precision    recall  f1-score   support\n",
            "\n",
            "      B-Food      0.911     0.965     0.937       317\n",
            "      I-Food      0.977     0.952     0.965       273\n",
            "  B-Interior      0.993     0.934     0.962       151\n",
            "  I-Interior      0.806     0.862     0.833        29\n",
            "     B-Price      0.967     1.000     0.983        29\n",
            "     I-Price      1.000     0.818     0.900        11\n",
            "   B-Service      0.970     0.918     0.943       280\n",
            "   I-Service      0.929     0.878     0.903        74\n",
            "     B-Whole      0.922     0.956     0.939       160\n",
            "     I-Whole      1.000     0.958     0.979        48\n",
            "\n",
            "   micro avg      0.949     0.941     0.945      1372\n",
            "   macro avg      0.947     0.924     0.934      1372\n",
            "weighted avg      0.950     0.941     0.945      1372\n",
            "\n"
          ]
        },
        {
          "output_type": "stream",
          "name": "stderr",
          "text": [
            "/usr/local/lib/python3.7/dist-packages/sklearn/utils/validation.py:70: FutureWarning: Pass labels=['B-Food', 'I-Food', 'B-Interior', 'I-Interior', 'B-Price', 'I-Price', 'B-Service', 'I-Service', 'B-Whole', 'I-Whole'] as keyword args. From version 0.25 passing these as positional arguments will result in an error\n",
            "  FutureWarning)\n"
          ]
        }
      ]
    },
    {
      "cell_type": "code",
      "source": [
        "labels.extend('O')"
      ],
      "metadata": {
        "id": "tdOI2Qcht-Jv"
      },
      "id": "tdOI2Qcht-Jv",
      "execution_count": 94,
      "outputs": []
    },
    {
      "cell_type": "code",
      "source": [
        "from sklearn.metrics import confusion_matrix\n",
        "import seaborn as sn\n",
        "import matplotlib.pyplot  as plt\n",
        "ytrue = []\n",
        "for k in y_test:\n",
        "  ytrue.extend(k)\n",
        "\n",
        "ypreds = []\n",
        "for k in y_pred:\n",
        "  ypreds.extend(k)\n",
        "\n",
        "plt.figure()\n",
        "array=confusion_matrix(ytrue, ypreds)\n",
        "a = labels\n",
        "df_cm = pd.DataFrame(array, index=a, columns=a)\n",
        "sn.set(font_scale=1.0)\n",
        "sn.heatmap(df_cm, annot=True, annot_kws={'size':20}, cmap='Blues', fmt=\"d\")\n",
        "plt.xticks(rotation=60)\n",
        "plt.xlabel('Предсказанный класс')\n",
        "plt.ylabel('Реальный класс')\n",
        "plt.savefig('image_all.png')\n",
        "plt.show()"
      ],
      "metadata": {
        "colab": {
          "base_uri": "https://localhost:8080/",
          "height": 324
        },
        "id": "U7DamvywJD9H",
        "outputId": "e4266d4b-d672-49e8-ea3c-515d74bcef55"
      },
      "id": "U7DamvywJD9H",
      "execution_count": 101,
      "outputs": [
        {
          "output_type": "display_data",
          "data": {
            "image/png": "[encoded data removed]",
            "text/plain": [
              "<Figure size 432x288 with 2 Axes>"
            ]
          },
          "metadata": {}
        }
      ]
    },
    {
      "cell_type": "code",
      "source": [
        "crf_preds = []\n",
        "for i in y_pred:\n",
        "   crf_preds.extend(i)"
      ],
      "metadata": {
        "id": "dylr4oiXGd1D"
      },
      "id": "dylr4oiXGd1D",
      "execution_count": 102,
      "outputs": []
    },
    {
      "cell_type": "code",
      "source": [
        "with open('dev_pred_aspects.txt', 'w')as f:\n",
        "  for k in range(len(crf_preds)):\n",
        "    if crf_preds[k].startswith('O'):\n",
        "      pass\n",
        "    elif crf_preds[k].startswith('B'):\n",
        "      f.write('\\t'.join([text_ids_test[k], texts_test[k], crf_preds[k].replace('B-','')]) + '\\n')\n",
        "    elif crf_preds[k].startswith('I'):\n",
        "      f.write('\\t'.join([text_ids_test[k], texts_test[k], crf_preds[k].replace('I-','')]) + '\\n')"
      ],
      "metadata": {
        "id": "xXF9fj2kGd4P"
      },
      "id": "xXF9fj2kGd4P",
      "execution_count": 121,
      "outputs": []
    },
    {
      "cell_type": "markdown",
      "metadata": {
        "id": "816cfa63"
      },
      "source": [
        "## См. также\n",
        "\n",
        "[python-crfsuite](https://github.com/scrapinghub/python-crfsuite/blob/master/examples/CoNLL%202002.ipynb) - без зависимости от версии scikit-learn\n",
        "\n",
        "[BERT + CRF for NER](https://github.com/shushanxingzhe/transformers_ner)"
      ],
      "id": "816cfa63"
    },
    {
      "cell_type": "code",
      "execution_count": null,
      "metadata": {
        "id": "b3e0d952"
      },
      "outputs": [],
      "source": [
        ""
      ],
      "id": "b3e0d952"
    }
  ],
  "metadata": {
    "colab": {
      "collapsed_sections": [],
      "name": "AspectExtraction_ipynb_ (1).ipynb",
      "provenance": []
    },
    "kernelspec": {
      "display_name": "Python 3",
      "language": "python",
      "name": "python3"
    },
    "language_info": {
      "codemirror_mode": {
        "name": "ipython",
        "version": 3
      },
      "file_extension": ".py",
      "mimetype": "text/x-python",
      "name": "python",
      "nbconvert_exporter": "python",
      "pygments_lexer": "ipython3",
      "version": "3.9.4"
    },
    "widgets": {
      "application/vnd.jupyter.widget-state+json": {
        "8ad4580eb45440faa04a8c357fcc917d": {
          "model_module": "@jupyter-widgets/controls",
          "model_name": "HBoxModel",
          "model_module_version": "1.5.0",
          "state": {
            "_view_name": "HBoxView",
            "_dom_classes": [],
            "_model_name": "HBoxModel",
            "_view_module": "@jupyter-widgets/controls",
            "_model_module_version": "1.5.0",
            "_view_count": null,
            "_view_module_version": "1.5.0",
            "box_style": "",
            "layout": "IPY_MODEL_84d060d20ea14da1abfa164b8bb87d28",
            "_model_module": "@jupyter-widgets/controls",
            "children": [
              "IPY_MODEL_88b59263083c4019a5e39bbe54c6bf9f",
              "IPY_MODEL_bce14c3d05b142228ea8a3531ce25d26",
              "IPY_MODEL_b302549a99cc43a1ad32b62bdd3c510c"
            ]
          }
        },
        "84d060d20ea14da1abfa164b8bb87d28": {
          "model_module": "@jupyter-widgets/base",
          "model_name": "LayoutModel",
          "model_module_version": "1.2.0",
          "state": {
            "_view_name": "LayoutView",
            "grid_template_rows": null,
            "right": null,
            "justify_content": null,
            "_view_module": "@jupyter-widgets/base",
            "overflow": null,
            "_model_module_version": "1.2.0",
            "_view_count": null,
            "flex_flow": null,
            "width": null,
            "min_width": null,
            "border": null,
            "align_items": null,
            "bottom": null,
            "_model_module": "@jupyter-widgets/base",
            "top": null,
            "grid_column": null,
            "overflow_y": null,
            "overflow_x": null,
            "grid_auto_flow": null,
            "grid_area": null,
            "grid_template_columns": null,
            "flex": null,
            "_model_name": "LayoutModel",
            "justify_items": null,
            "grid_row": null,
            "max_height": null,
            "align_content": null,
            "visibility": null,
            "align_self": null,
            "height": null,
            "min_height": null,
            "padding": null,
            "grid_auto_rows": null,
            "grid_gap": null,
            "max_width": null,
            "order": null,
            "_view_module_version": "1.2.0",
            "grid_template_areas": null,
            "object_position": null,
            "object_fit": null,
            "grid_auto_columns": null,
            "margin": null,
            "display": null,
            "left": null
          }
        },
        "88b59263083c4019a5e39bbe54c6bf9f": {
          "model_module": "@jupyter-widgets/controls",
          "model_name": "HTMLModel",
          "model_module_version": "1.5.0",
          "state": {
            "_view_name": "HTMLView",
            "style": "IPY_MODEL_f7a598c95cc441d7ab2acbfee8613da5",
            "_dom_classes": [],
            "description": "",
            "_model_name": "HTMLModel",
            "placeholder": "​",
            "_view_module": "@jupyter-widgets/controls",
            "_model_module_version": "1.5.0",
            "value": "Downloading https://raw.githubusercontent.com/stanfordnlp/stanza-resources/main/resources_1.3.0.json: ",
            "_view_count": null,
            "_view_module_version": "1.5.0",
            "description_tooltip": null,
            "_model_module": "@jupyter-widgets/controls",
            "layout": "IPY_MODEL_473003201de145ea8891d50df013d427"
          }
        },
        "bce14c3d05b142228ea8a3531ce25d26": {
          "model_module": "@jupyter-widgets/controls",
          "model_name": "FloatProgressModel",
          "model_module_version": "1.5.0",
          "state": {
            "_view_name": "ProgressView",
            "style": "IPY_MODEL_bcf01516441044618553d20b7071e533",
            "_dom_classes": [],
            "description": "",
            "_model_name": "FloatProgressModel",
            "bar_style": "success",
            "max": 24459,
            "_view_module": "@jupyter-widgets/controls",
            "_model_module_version": "1.5.0",
            "value": 24459,
            "_view_count": null,
            "_view_module_version": "1.5.0",
            "orientation": "horizontal",
            "min": 0,
            "description_tooltip": null,
            "_model_module": "@jupyter-widgets/controls",
            "layout": "IPY_MODEL_a54f05a7516d43b49e595e90ff8ec646"
          }
        },
        "b302549a99cc43a1ad32b62bdd3c510c": {
          "model_module": "@jupyter-widgets/controls",
          "model_name": "HTMLModel",
          "model_module_version": "1.5.0",
          "state": {
            "_view_name": "HTMLView",
            "style": "IPY_MODEL_18676ea03f97440a9bdf46964e2df272",
            "_dom_classes": [],
            "description": "",
            "_model_name": "HTMLModel",
            "placeholder": "​",
            "_view_module": "@jupyter-widgets/controls",
            "_model_module_version": "1.5.0",
            "value": " 142k/? [00:00&lt;00:00, 719kB/s]",
            "_view_count": null,
            "_view_module_version": "1.5.0",
            "description_tooltip": null,
            "_model_module": "@jupyter-widgets/controls",
            "layout": "IPY_MODEL_737f11adb37e4438b31e18a2cb0dc26c"
          }
        },
        "f7a598c95cc441d7ab2acbfee8613da5": {
          "model_module": "@jupyter-widgets/controls",
          "model_name": "DescriptionStyleModel",
          "model_module_version": "1.5.0",
          "state": {
            "_view_name": "StyleView",
            "_model_name": "DescriptionStyleModel",
            "description_width": "",
            "_view_module": "@jupyter-widgets/base",
            "_model_module_version": "1.5.0",
            "_view_count": null,
            "_view_module_version": "1.2.0",
            "_model_module": "@jupyter-widgets/controls"
          }
        },
        "473003201de145ea8891d50df013d427": {
          "model_module": "@jupyter-widgets/base",
          "model_name": "LayoutModel",
          "model_module_version": "1.2.0",
          "state": {
            "_view_name": "LayoutView",
            "grid_template_rows": null,
            "right": null,
            "justify_content": null,
            "_view_module": "@jupyter-widgets/base",
            "overflow": null,
            "_model_module_version": "1.2.0",
            "_view_count": null,
            "flex_flow": null,
            "width": null,
            "min_width": null,
            "border": null,
            "align_items": null,
            "bottom": null,
            "_model_module": "@jupyter-widgets/base",
            "top": null,
            "grid_column": null,
            "overflow_y": null,
            "overflow_x": null,
            "grid_auto_flow": null,
            "grid_area": null,
            "grid_template_columns": null,
            "flex": null,
            "_model_name": "LayoutModel",
            "justify_items": null,
            "grid_row": null,
            "max_height": null,
            "align_content": null,
            "visibility": null,
            "align_self": null,
            "height": null,
            "min_height": null,
            "padding": null,
            "grid_auto_rows": null,
            "grid_gap": null,
            "max_width": null,
            "order": null,
            "_view_module_version": "1.2.0",
            "grid_template_areas": null,
            "object_position": null,
            "object_fit": null,
            "grid_auto_columns": null,
            "margin": null,
            "display": null,
            "left": null
          }
        },
        "bcf01516441044618553d20b7071e533": {
          "model_module": "@jupyter-widgets/controls",
          "model_name": "ProgressStyleModel",
          "model_module_version": "1.5.0",
          "state": {
            "_view_name": "StyleView",
            "_model_name": "ProgressStyleModel",
            "description_width": "",
            "_view_module": "@jupyter-widgets/base",
            "_model_module_version": "1.5.0",
            "_view_count": null,
            "_view_module_version": "1.2.0",
            "bar_color": null,
            "_model_module": "@jupyter-widgets/controls"
          }
        },
        "a54f05a7516d43b49e595e90ff8ec646": {
          "model_module": "@jupyter-widgets/base",
          "model_name": "LayoutModel",
          "model_module_version": "1.2.0",
          "state": {
            "_view_name": "LayoutView",
            "grid_template_rows": null,
            "right": null,
            "justify_content": null,
            "_view_module": "@jupyter-widgets/base",
            "overflow": null,
            "_model_module_version": "1.2.0",
            "_view_count": null,
            "flex_flow": null,
            "width": null,
            "min_width": null,
            "border": null,
            "align_items": null,
            "bottom": null,
            "_model_module": "@jupyter-widgets/base",
            "top": null,
            "grid_column": null,
            "overflow_y": null,
            "overflow_x": null,
            "grid_auto_flow": null,
            "grid_area": null,
            "grid_template_columns": null,
            "flex": null,
            "_model_name": "LayoutModel",
            "justify_items": null,
            "grid_row": null,
            "max_height": null,
            "align_content": null,
            "visibility": null,
            "align_self": null,
            "height": null,
            "min_height": null,
            "padding": null,
            "grid_auto_rows": null,
            "grid_gap": null,
            "max_width": null,
            "order": null,
            "_view_module_version": "1.2.0",
            "grid_template_areas": null,
            "object_position": null,
            "object_fit": null,
            "grid_auto_columns": null,
            "margin": null,
            "display": null,
            "left": null
          }
        },
        "18676ea03f97440a9bdf46964e2df272": {
          "model_module": "@jupyter-widgets/controls",
          "model_name": "DescriptionStyleModel",
          "model_module_version": "1.5.0",
          "state": {
            "_view_name": "StyleView",
            "_model_name": "DescriptionStyleModel",
            "description_width": "",
            "_view_module": "@jupyter-widgets/base",
            "_model_module_version": "1.5.0",
            "_view_count": null,
            "_view_module_version": "1.2.0",
            "_model_module": "@jupyter-widgets/controls"
          }
        },
        "737f11adb37e4438b31e18a2cb0dc26c": {
          "model_module": "@jupyter-widgets/base",
          "model_name": "LayoutModel",
          "model_module_version": "1.2.0",
          "state": {
            "_view_name": "LayoutView",
            "grid_template_rows": null,
            "right": null,
            "justify_content": null,
            "_view_module": "@jupyter-widgets/base",
            "overflow": null,
            "_model_module_version": "1.2.0",
            "_view_count": null,
            "flex_flow": null,
            "width": null,
            "min_width": null,
            "border": null,
            "align_items": null,
            "bottom": null,
            "_model_module": "@jupyter-widgets/base",
            "top": null,
            "grid_column": null,
            "overflow_y": null,
            "overflow_x": null,
            "grid_auto_flow": null,
            "grid_area": null,
            "grid_template_columns": null,
            "flex": null,
            "_model_name": "LayoutModel",
            "justify_items": null,
            "grid_row": null,
            "max_height": null,
            "align_content": null,
            "visibility": null,
            "align_self": null,
            "height": null,
            "min_height": null,
            "padding": null,
            "grid_auto_rows": null,
            "grid_gap": null,
            "max_width": null,
            "order": null,
            "_view_module_version": "1.2.0",
            "grid_template_areas": null,
            "object_position": null,
            "object_fit": null,
            "grid_auto_columns": null,
            "margin": null,
            "display": null,
            "left": null
          }
        },
        "e29cde729f494b1490f51308ab28b7a3": {
          "model_module": "@jupyter-widgets/controls",
          "model_name": "HBoxModel",
          "model_module_version": "1.5.0",
          "state": {
            "_view_name": "HBoxView",
            "_dom_classes": [],
            "_model_name": "HBoxModel",
            "_view_module": "@jupyter-widgets/controls",
            "_model_module_version": "1.5.0",
            "_view_count": null,
            "_view_module_version": "1.5.0",
            "box_style": "",
            "layout": "IPY_MODEL_23d3ed22f15145b3a2287bfa008da11c",
            "_model_module": "@jupyter-widgets/controls",
            "children": [
              "IPY_MODEL_3453df5a747a448299e7d61ff6de9e3a",
              "IPY_MODEL_d0042fbda54a413dac0bbbb86dfc99fe",
              "IPY_MODEL_2ba050020faf460092c740d88dbd4032"
            ]
          }
        },
        "23d3ed22f15145b3a2287bfa008da11c": {
          "model_module": "@jupyter-widgets/base",
          "model_name": "LayoutModel",
          "model_module_version": "1.2.0",
          "state": {
            "_view_name": "LayoutView",
            "grid_template_rows": null,
            "right": null,
            "justify_content": null,
            "_view_module": "@jupyter-widgets/base",
            "overflow": null,
            "_model_module_version": "1.2.0",
            "_view_count": null,
            "flex_flow": null,
            "width": null,
            "min_width": null,
            "border": null,
            "align_items": null,
            "bottom": null,
            "_model_module": "@jupyter-widgets/base",
            "top": null,
            "grid_column": null,
            "overflow_y": null,
            "overflow_x": null,
            "grid_auto_flow": null,
            "grid_area": null,
            "grid_template_columns": null,
            "flex": null,
            "_model_name": "LayoutModel",
            "justify_items": null,
            "grid_row": null,
            "max_height": null,
            "align_content": null,
            "visibility": null,
            "align_self": null,
            "height": null,
            "min_height": null,
            "padding": null,
            "grid_auto_rows": null,
            "grid_gap": null,
            "max_width": null,
            "order": null,
            "_view_module_version": "1.2.0",
            "grid_template_areas": null,
            "object_position": null,
            "object_fit": null,
            "grid_auto_columns": null,
            "margin": null,
            "display": null,
            "left": null
          }
        },
        "3453df5a747a448299e7d61ff6de9e3a": {
          "model_module": "@jupyter-widgets/controls",
          "model_name": "HTMLModel",
          "model_module_version": "1.5.0",
          "state": {
            "_view_name": "HTMLView",
            "style": "IPY_MODEL_c3935ea3f72442e1b2e5dc74f8972e57",
            "_dom_classes": [],
            "description": "",
            "_model_name": "HTMLModel",
            "placeholder": "​",
            "_view_module": "@jupyter-widgets/controls",
            "_model_module_version": "1.5.0",
            "value": "Downloading https://huggingface.co/stanfordnlp/stanza-ru/resolve/v1.3.0/models/default.zip: 100%",
            "_view_count": null,
            "_view_module_version": "1.5.0",
            "description_tooltip": null,
            "_model_module": "@jupyter-widgets/controls",
            "layout": "IPY_MODEL_48d8f1ba68074a46a0460722a13f6d8d"
          }
        },
        "d0042fbda54a413dac0bbbb86dfc99fe": {
          "model_module": "@jupyter-widgets/controls",
          "model_name": "FloatProgressModel",
          "model_module_version": "1.5.0",
          "state": {
            "_view_name": "ProgressView",
            "style": "IPY_MODEL_8ef818a8670e41329f729e212ad0afe9",
            "_dom_classes": [],
            "description": "",
            "_model_name": "FloatProgressModel",
            "bar_style": "success",
            "max": 574067219,
            "_view_module": "@jupyter-widgets/controls",
            "_model_module_version": "1.5.0",
            "value": 574067219,
            "_view_count": null,
            "_view_module_version": "1.5.0",
            "orientation": "horizontal",
            "min": 0,
            "description_tooltip": null,
            "_model_module": "@jupyter-widgets/controls",
            "layout": "IPY_MODEL_02cb97c50a384669a32935ce06f2e51a"
          }
        },
        "2ba050020faf460092c740d88dbd4032": {
          "model_module": "@jupyter-widgets/controls",
          "model_name": "HTMLModel",
          "model_module_version": "1.5.0",
          "state": {
            "_view_name": "HTMLView",
            "style": "IPY_MODEL_dfd2d5ca666542d18ae93fcfc51d8524",
            "_dom_classes": [],
            "description": "",
            "_model_name": "HTMLModel",
            "placeholder": "​",
            "_view_module": "@jupyter-widgets/controls",
            "_model_module_version": "1.5.0",
            "value": " 574M/574M [00:11&lt;00:00, 67.3MB/s]",
            "_view_count": null,
            "_view_module_version": "1.5.0",
            "description_tooltip": null,
            "_model_module": "@jupyter-widgets/controls",
            "layout": "IPY_MODEL_890781a0e7e44e28ae38cb5874501be7"
          }
        },
        "c3935ea3f72442e1b2e5dc74f8972e57": {
          "model_module": "@jupyter-widgets/controls",
          "model_name": "DescriptionStyleModel",
          "model_module_version": "1.5.0",
          "state": {
            "_view_name": "StyleView",
            "_model_name": "DescriptionStyleModel",
            "description_width": "",
            "_view_module": "@jupyter-widgets/base",
            "_model_module_version": "1.5.0",
            "_view_count": null,
            "_view_module_version": "1.2.0",
            "_model_module": "@jupyter-widgets/controls"
          }
        },
        "48d8f1ba68074a46a0460722a13f6d8d": {
          "model_module": "@jupyter-widgets/base",
          "model_name": "LayoutModel",
          "model_module_version": "1.2.0",
          "state": {
            "_view_name": "LayoutView",
            "grid_template_rows": null,
            "right": null,
            "justify_content": null,
            "_view_module": "@jupyter-widgets/base",
            "overflow": null,
            "_model_module_version": "1.2.0",
            "_view_count": null,
            "flex_flow": null,
            "width": null,
            "min_width": null,
            "border": null,
            "align_items": null,
            "bottom": null,
            "_model_module": "@jupyter-widgets/base",
            "top": null,
            "grid_column": null,
            "overflow_y": null,
            "overflow_x": null,
            "grid_auto_flow": null,
            "grid_area": null,
            "grid_template_columns": null,
            "flex": null,
            "_model_name": "LayoutModel",
            "justify_items": null,
            "grid_row": null,
            "max_height": null,
            "align_content": null,
            "visibility": null,
            "align_self": null,
            "height": null,
            "min_height": null,
            "padding": null,
            "grid_auto_rows": null,
            "grid_gap": null,
            "max_width": null,
            "order": null,
            "_view_module_version": "1.2.0",
            "grid_template_areas": null,
            "object_position": null,
            "object_fit": null,
            "grid_auto_columns": null,
            "margin": null,
            "display": null,
            "left": null
          }
        },
        "8ef818a8670e41329f729e212ad0afe9": {
          "model_module": "@jupyter-widgets/controls",
          "model_name": "ProgressStyleModel",
          "model_module_version": "1.5.0",
          "state": {
            "_view_name": "StyleView",
            "_model_name": "ProgressStyleModel",
            "description_width": "",
            "_view_module": "@jupyter-widgets/base",
            "_model_module_version": "1.5.0",
            "_view_count": null,
            "_view_module_version": "1.2.0",
            "bar_color": null,
            "_model_module": "@jupyter-widgets/controls"
          }
        },
        "02cb97c50a384669a32935ce06f2e51a": {
          "model_module": "@jupyter-widgets/base",
          "model_name": "LayoutModel",
          "model_module_version": "1.2.0",
          "state": {
            "_view_name": "LayoutView",
            "grid_template_rows": null,
            "right": null,
            "justify_content": null,
            "_view_module": "@jupyter-widgets/base",
            "overflow": null,
            "_model_module_version": "1.2.0",
            "_view_count": null,
            "flex_flow": null,
            "width": null,
            "min_width": null,
            "border": null,
            "align_items": null,
            "bottom": null,
            "_model_module": "@jupyter-widgets/base",
            "top": null,
            "grid_column": null,
            "overflow_y": null,
            "overflow_x": null,
            "grid_auto_flow": null,
            "grid_area": null,
            "grid_template_columns": null,
            "flex": null,
            "_model_name": "LayoutModel",
            "justify_items": null,
            "grid_row": null,
            "max_height": null,
            "align_content": null,
            "visibility": null,
            "align_self": null,
            "height": null,
            "min_height": null,
            "padding": null,
            "grid_auto_rows": null,
            "grid_gap": null,
            "max_width": null,
            "order": null,
            "_view_module_version": "1.2.0",
            "grid_template_areas": null,
            "object_position": null,
            "object_fit": null,
            "grid_auto_columns": null,
            "margin": null,
            "display": null,
            "left": null
          }
        },
        "dfd2d5ca666542d18ae93fcfc51d8524": {
          "model_module": "@jupyter-widgets/controls",
          "model_name": "DescriptionStyleModel",
          "model_module_version": "1.5.0",
          "state": {
            "_view_name": "StyleView",
            "_model_name": "DescriptionStyleModel",
            "description_width": "",
            "_view_module": "@jupyter-widgets/base",
            "_model_module_version": "1.5.0",
            "_view_count": null,
            "_view_module_version": "1.2.0",
            "_model_module": "@jupyter-widgets/controls"
          }
        },
        "890781a0e7e44e28ae38cb5874501be7": {
          "model_module": "@jupyter-widgets/base",
          "model_name": "LayoutModel",
          "model_module_version": "1.2.0",
          "state": {
            "_view_name": "LayoutView",
            "grid_template_rows": null,
            "right": null,
            "justify_content": null,
            "_view_module": "@jupyter-widgets/base",
            "overflow": null,
            "_model_module_version": "1.2.0",
            "_view_count": null,
            "flex_flow": null,
            "width": null,
            "min_width": null,
            "border": null,
            "align_items": null,
            "bottom": null,
            "_model_module": "@jupyter-widgets/base",
            "top": null,
            "grid_column": null,
            "overflow_y": null,
            "overflow_x": null,
            "grid_auto_flow": null,
            "grid_area": null,
            "grid_template_columns": null,
            "flex": null,
            "_model_name": "LayoutModel",
            "justify_items": null,
            "grid_row": null,
            "max_height": null,
            "align_content": null,
            "visibility": null,
            "align_self": null,
            "height": null,
            "min_height": null,
            "padding": null,
            "grid_auto_rows": null,
            "grid_gap": null,
            "max_width": null,
            "order": null,
            "_view_module_version": "1.2.0",
            "grid_template_areas": null,
            "object_position": null,
            "object_fit": null,
            "grid_auto_columns": null,
            "margin": null,
            "display": null,
            "left": null
          }
        }
      }
    }
  },
  "nbformat": 4,
  "nbformat_minor": 5
}