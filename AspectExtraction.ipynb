{
  "cells": [
    {
      "cell_type": "markdown",
      "metadata": {
        "id": "c312efa1"
      },
      "source": [
        "# Aspect-based SA\n"
      ],
      "id": "c312efa1"
    },
    {
      "cell_type": "code",
      "execution_count": 1,
      "metadata": {
        "colab": {
          "base_uri": "https://localhost:8080/"
        },
        "id": "tfmd13rcgFjL",
        "outputId": "63871d6a-afdc-4b32-f8c4-391e2e6fc5af"
      },
      "outputs": [
        {
          "output_type": "stream",
          "name": "stdout",
          "text": [
            "Requirement already satisfied: nltk in /usr/local/lib/python3.7/dist-packages (3.2.5)\n",
            "Collecting pymorphy2\n",
            "  Downloading pymorphy2-0.9.1-py3-none-any.whl (55 kB)\n",
            "\u001b[K     |████████████████████████████████| 55 kB 2.0 MB/s \n",
            "\u001b[?25hRequirement already satisfied: six in /usr/local/lib/python3.7/dist-packages (from nltk) (1.15.0)\n",
            "Collecting pymorphy2-dicts-ru<3.0,>=2.4\n",
            "  Downloading pymorphy2_dicts_ru-2.4.417127.4579844-py2.py3-none-any.whl (8.2 MB)\n",
            "\u001b[K     |████████████████████████████████| 8.2 MB 8.0 MB/s \n",
            "\u001b[?25hRequirement already satisfied: docopt>=0.6 in /usr/local/lib/python3.7/dist-packages (from pymorphy2) (0.6.2)\n",
            "Collecting dawg-python>=0.7.1\n",
            "  Downloading DAWG_Python-0.7.2-py2.py3-none-any.whl (11 kB)\n",
            "Installing collected packages: pymorphy2-dicts-ru, dawg-python, pymorphy2\n",
            "Successfully installed dawg-python-0.7.2 pymorphy2-0.9.1 pymorphy2-dicts-ru-2.4.417127.4579844\n"
          ]
        }
      ],
      "source": [
        "!pip install nltk pymorphy2"
      ],
      "id": "tfmd13rcgFjL"
    },
    {
      "cell_type": "code",
      "execution_count": 2,
      "metadata": {
        "id": "z_Yv_thKgJWG"
      },
      "outputs": [],
      "source": [
        "import pandas as pd"
      ],
      "id": "z_Yv_thKgJWG"
    },
    {
      "cell_type": "code",
      "execution_count": 3,
      "metadata": {
        "colab": {
          "base_uri": "https://localhost:8080/"
        },
        "id": "Ihg7bB1bgK66",
        "outputId": "34acbf38-f01c-4b20-da5f-7e5679eb85c7"
      },
      "outputs": [
        {
          "output_type": "stream",
          "name": "stdout",
          "text": [
            "Collecting scikit-learn<0.24\n",
            "  Downloading scikit_learn-0.23.2-cp37-cp37m-manylinux1_x86_64.whl (6.8 MB)\n",
            "\u001b[K     |████████████████████████████████| 6.8 MB 4.1 MB/s \n",
            "\u001b[?25hRequirement already satisfied: threadpoolctl>=2.0.0 in /usr/local/lib/python3.7/dist-packages (from scikit-learn<0.24) (3.0.0)\n",
            "Requirement already satisfied: joblib>=0.11 in /usr/local/lib/python3.7/dist-packages (from scikit-learn<0.24) (1.1.0)\n",
            "Requirement already satisfied: numpy>=1.13.3 in /usr/local/lib/python3.7/dist-packages (from scikit-learn<0.24) (1.19.5)\n",
            "Requirement already satisfied: scipy>=0.19.1 in /usr/local/lib/python3.7/dist-packages (from scikit-learn<0.24) (1.4.1)\n",
            "Installing collected packages: scikit-learn\n",
            "  Attempting uninstall: scikit-learn\n",
            "    Found existing installation: scikit-learn 1.0.1\n",
            "    Uninstalling scikit-learn-1.0.1:\n",
            "      Successfully uninstalled scikit-learn-1.0.1\n",
            "\u001b[31mERROR: pip's dependency resolver does not currently take into account all the packages that are installed. This behaviour is the source of the following dependency conflicts.\n",
            "imbalanced-learn 0.8.1 requires scikit-learn>=0.24, but you have scikit-learn 0.23.2 which is incompatible.\u001b[0m\n",
            "Successfully installed scikit-learn-0.23.2\n"
          ]
        }
      ],
      "source": [
        "!pip install -U 'scikit-learn<0.24'"
      ],
      "id": "Ihg7bB1bgK66"
    },
    {
      "cell_type": "code",
      "execution_count": 4,
      "metadata": {
        "colab": {
          "base_uri": "https://localhost:8080/"
        },
        "id": "3I-26XMNgOd_",
        "outputId": "ad209c97-1132-414c-f4f8-2ce298a79852"
      },
      "outputs": [
        {
          "output_type": "stream",
          "name": "stdout",
          "text": [
            "--2021-12-27 20:59:42--  https://github.com/named-entity/hse-nlp/raw/master/4th_year/Project/train_aspects.txt\n",
            "Resolving github.com (github.com)... 52.69.186.44\n",
            "Connecting to github.com (github.com)|52.69.186.44|:443... connected.\n",
            "HTTP request sent, awaiting response... 302 Found\n",
            "Location: https://raw.githubusercontent.com/named-entity/hse-nlp/master/4th_year/Project/train_aspects.txt [following]\n",
            "--2021-12-27 20:59:43--  https://raw.githubusercontent.com/named-entity/hse-nlp/master/4th_year/Project/train_aspects.txt\n",
            "Resolving raw.githubusercontent.com (raw.githubusercontent.com)... 185.199.108.133, 185.199.110.133, 185.199.109.133, ...\n",
            "Connecting to raw.githubusercontent.com (raw.githubusercontent.com)|185.199.108.133|:443... connected.\n",
            "HTTP request sent, awaiting response... 200 OK\n",
            "Length: 228391 (223K) [text/plain]\n",
            "Saving to: ‘train_aspects.txt’\n",
            "\n",
            "train_aspects.txt   100%[===================>] 223.04K  --.-KB/s    in 0.03s   \n",
            "\n",
            "2021-12-27 20:59:43 (6.44 MB/s) - ‘train_aspects.txt’ saved [228391/228391]\n",
            "\n",
            "--2021-12-27 20:59:43--  https://github.com/named-entity/hse-nlp/raw/master/4th_year/Project/train_reviews.txt\n",
            "Resolving github.com (github.com)... 52.69.186.44\n",
            "Connecting to github.com (github.com)|52.69.186.44|:443... connected.\n",
            "HTTP request sent, awaiting response... 302 Found\n",
            "Location: https://raw.githubusercontent.com/named-entity/hse-nlp/master/4th_year/Project/train_reviews.txt [following]\n",
            "--2021-12-27 20:59:44--  https://raw.githubusercontent.com/named-entity/hse-nlp/master/4th_year/Project/train_reviews.txt\n",
            "Resolving raw.githubusercontent.com (raw.githubusercontent.com)... 185.199.108.133, 185.199.109.133, 185.199.110.133, ...\n",
            "Connecting to raw.githubusercontent.com (raw.githubusercontent.com)|185.199.108.133|:443... connected.\n",
            "HTTP request sent, awaiting response... 200 OK\n",
            "Length: 446118 (436K) [text/plain]\n",
            "Saving to: ‘train_reviews.txt’\n",
            "\n",
            "train_reviews.txt   100%[===================>] 435.66K  --.-KB/s    in 0.05s   \n",
            "\n",
            "2021-12-27 20:59:44 (8.78 MB/s) - ‘train_reviews.txt’ saved [446118/446118]\n",
            "\n",
            "--2021-12-27 20:59:44--  https://github.com/named-entity/hse-nlp/raw/master/4th_year/Project/dev_aspects.txt\n",
            "Resolving github.com (github.com)... 13.114.40.48\n",
            "Connecting to github.com (github.com)|13.114.40.48|:443... connected.\n",
            "HTTP request sent, awaiting response... 302 Found\n",
            "Location: https://raw.githubusercontent.com/named-entity/hse-nlp/master/4th_year/Project/dev_aspects.txt [following]\n",
            "--2021-12-27 20:59:45--  https://raw.githubusercontent.com/named-entity/hse-nlp/master/4th_year/Project/dev_aspects.txt\n",
            "Resolving raw.githubusercontent.com (raw.githubusercontent.com)... 185.199.108.133, 185.199.109.133, 185.199.110.133, ...\n",
            "Connecting to raw.githubusercontent.com (raw.githubusercontent.com)|185.199.108.133|:443... connected.\n",
            "HTTP request sent, awaiting response... 200 OK\n",
            "Length: 57508 (56K) [text/plain]\n",
            "Saving to: ‘dev_aspects.txt’\n",
            "\n",
            "dev_aspects.txt     100%[===================>]  56.16K  --.-KB/s    in 0.01s   \n",
            "\n",
            "2021-12-27 20:59:45 (4.10 MB/s) - ‘dev_aspects.txt’ saved [57508/57508]\n",
            "\n",
            "--2021-12-27 20:59:45--  https://github.com/named-entity/hse-nlp/raw/master/4th_year/Project/dev_reviews.txt\n",
            "Resolving github.com (github.com)... 13.114.40.48\n",
            "Connecting to github.com (github.com)|13.114.40.48|:443... connected.\n",
            "HTTP request sent, awaiting response... 302 Found\n",
            "Location: https://raw.githubusercontent.com/named-entity/hse-nlp/master/4th_year/Project/dev_reviews.txt [following]\n",
            "--2021-12-27 20:59:45--  https://raw.githubusercontent.com/named-entity/hse-nlp/master/4th_year/Project/dev_reviews.txt\n",
            "Resolving raw.githubusercontent.com (raw.githubusercontent.com)... 185.199.111.133, 185.199.109.133, 185.199.110.133, ...\n",
            "Connecting to raw.githubusercontent.com (raw.githubusercontent.com)|185.199.111.133|:443... connected.\n",
            "HTTP request sent, awaiting response... 200 OK\n",
            "Length: 110515 (108K) [text/plain]\n",
            "Saving to: ‘dev_reviews.txt’\n",
            "\n",
            "dev_reviews.txt     100%[===================>] 107.92K  --.-KB/s    in 0.02s   \n",
            "\n",
            "2021-12-27 20:59:46 (4.32 MB/s) - ‘dev_reviews.txt’ saved [110515/110515]\n",
            "\n"
          ]
        }
      ],
      "source": [
        "!wget https://github.com/named-entity/hse-nlp/raw/master/4th_year/Project/train_aspects.txt\n",
        "!wget https://github.com/named-entity/hse-nlp/raw/master/4th_year/Project/train_reviews.txt\n",
        "!wget https://github.com/named-entity/hse-nlp/raw/master/4th_year/Project/dev_aspects.txt\n",
        "!wget https://github.com/named-entity/hse-nlp/raw/master/4th_year/Project/dev_reviews.txt"
      ],
      "id": "3I-26XMNgOd_"
    },
    {
      "cell_type": "code",
      "execution_count": 5,
      "metadata": {
        "id": "v_EHJeutgjJs"
      },
      "outputs": [],
      "source": [
        "train_asp = pd.read_csv(\n",
        "    'train_aspects.txt', \n",
        "    delimiter='\\t', \n",
        "    names=['text_id', 'category', 'mention', 'start', 'end', 'sentiment']\n",
        ")\n",
        "train_texts = pd.read_csv('train_reviews.txt', delimiter='\\t', names=['text_id','text'])"
      ],
      "id": "v_EHJeutgjJs"
    },
    {
      "cell_type": "code",
      "execution_count": 6,
      "metadata": {
        "id": "r-i7YBEtgj-1"
      },
      "outputs": [],
      "source": [
        "test_asp = pd.read_csv(\n",
        "    'dev_aspects.txt', \n",
        "    delimiter='\\t', \n",
        "    names=['text_id', 'category', 'mention', 'start', 'end', 'sentiment']\n",
        ")\n",
        "test_texts = pd.read_csv('dev_reviews.txt', delimiter='\\t', names=['text_id','text'])"
      ],
      "id": "r-i7YBEtgj-1"
    },
    {
      "cell_type": "code",
      "execution_count": 7,
      "metadata": {
        "id": "32dc09c9"
      },
      "outputs": [],
      "source": [
        "from nltk.tokenize import RegexpTokenizer\n",
        "from pymorphy2 import MorphAnalyzer\n",
        "\n",
        "morph = MorphAnalyzer()\n",
        "token = RegexpTokenizer('\\w+')\n",
        "\n",
        "def normalize(text):\n",
        "    words = [morph.parse(word)[0].normal_form for word in tokenize(text) if word]\n",
        "    return words\n",
        "\n",
        "def tokenize(text):\n",
        "    return token.tokenize(text)"
      ],
      "id": "32dc09c9"
    },
    {
      "cell_type": "code",
      "execution_count": 8,
      "metadata": {
        "colab": {
          "base_uri": "https://localhost:8080/",
          "height": 143
        },
        "id": "334d9359",
        "outputId": "30594efd-dd69-43e8-e810-2db3d537db8b"
      },
      "outputs": [
        {
          "output_type": "execute_result",
          "data": {
            "text/html": [
              "\n",
              "  <div id=\"df-a5e19291-4c34-4c6c-82bd-7c09e8ae829a\">\n",
              "    <div class=\"colab-df-container\">\n",
              "      <div>\n",
              "<style scoped>\n",
              "    .dataframe tbody tr th:only-of-type {\n",
              "        vertical-align: middle;\n",
              "    }\n",
              "\n",
              "    .dataframe tbody tr th {\n",
              "        vertical-align: top;\n",
              "    }\n",
              "\n",
              "    .dataframe thead th {\n",
              "        text-align: right;\n",
              "    }\n",
              "</style>\n",
              "<table border=\"1\" class=\"dataframe\">\n",
              "  <thead>\n",
              "    <tr style=\"text-align: right;\">\n",
              "      <th></th>\n",
              "      <th>text_id</th>\n",
              "      <th>category</th>\n",
              "      <th>mention</th>\n",
              "      <th>start</th>\n",
              "      <th>end</th>\n",
              "      <th>sentiment</th>\n",
              "    </tr>\n",
              "  </thead>\n",
              "  <tbody>\n",
              "    <tr>\n",
              "      <th>0</th>\n",
              "      <td>3976</td>\n",
              "      <td>Whole</td>\n",
              "      <td>ресторане</td>\n",
              "      <td>71</td>\n",
              "      <td>80</td>\n",
              "      <td>neutral</td>\n",
              "    </tr>\n",
              "    <tr>\n",
              "      <th>1</th>\n",
              "      <td>3976</td>\n",
              "      <td>Whole</td>\n",
              "      <td>ресторанах</td>\n",
              "      <td>198</td>\n",
              "      <td>208</td>\n",
              "      <td>neutral</td>\n",
              "    </tr>\n",
              "    <tr>\n",
              "      <th>2</th>\n",
              "      <td>3976</td>\n",
              "      <td>Whole</td>\n",
              "      <td>ресторане</td>\n",
              "      <td>256</td>\n",
              "      <td>265</td>\n",
              "      <td>neutral</td>\n",
              "    </tr>\n",
              "  </tbody>\n",
              "</table>\n",
              "</div>\n",
              "      <button class=\"colab-df-convert\" onclick=\"convertToInteractive('df-a5e19291-4c34-4c6c-82bd-7c09e8ae829a')\"\n",
              "              title=\"Convert this dataframe to an interactive table.\"\n",
              "              style=\"display:none;\">\n",
              "        \n",
              "  <svg xmlns=\"http://www.w3.org/2000/svg\" height=\"24px\"viewBox=\"0 0 24 24\"\n",
              "       width=\"24px\">\n",
              "    <path d=\"M0 0h24v24H0V0z\" fill=\"none\"/>\n",
              "    <path d=\"M18.56 5.44l.94 2.06.94-2.06 2.06-.94-2.06-.94-.94-2.06-.94 2.06-2.06.94zm-11 1L8.5 8.5l.94-2.06 2.06-.94-2.06-.94L8.5 2.5l-.94 2.06-2.06.94zm10 10l.94 2.06.94-2.06 2.06-.94-2.06-.94-.94-2.06-.94 2.06-2.06.94z\"/><path d=\"M17.41 7.96l-1.37-1.37c-.4-.4-.92-.59-1.43-.59-.52 0-1.04.2-1.43.59L10.3 9.45l-7.72 7.72c-.78.78-.78 2.05 0 2.83L4 21.41c.39.39.9.59 1.41.59.51 0 1.02-.2 1.41-.59l7.78-7.78 2.81-2.81c.8-.78.8-2.07 0-2.86zM5.41 20L4 18.59l7.72-7.72 1.47 1.35L5.41 20z\"/>\n",
              "  </svg>\n",
              "      </button>\n",
              "      \n",
              "  <style>\n",
              "    .colab-df-container {\n",
              "      display:flex;\n",
              "      flex-wrap:wrap;\n",
              "      gap: 12px;\n",
              "    }\n",
              "\n",
              "    .colab-df-convert {\n",
              "      background-color: #E8F0FE;\n",
              "      border: none;\n",
              "      border-radius: 50%;\n",
              "      cursor: pointer;\n",
              "      display: none;\n",
              "      fill: #1967D2;\n",
              "      height: 32px;\n",
              "      padding: 0 0 0 0;\n",
              "      width: 32px;\n",
              "    }\n",
              "\n",
              "    .colab-df-convert:hover {\n",
              "      background-color: #E2EBFA;\n",
              "      box-shadow: 0px 1px 2px rgba(60, 64, 67, 0.3), 0px 1px 3px 1px rgba(60, 64, 67, 0.15);\n",
              "      fill: #174EA6;\n",
              "    }\n",
              "\n",
              "    [theme=dark] .colab-df-convert {\n",
              "      background-color: #3B4455;\n",
              "      fill: #D2E3FC;\n",
              "    }\n",
              "\n",
              "    [theme=dark] .colab-df-convert:hover {\n",
              "      background-color: #434B5C;\n",
              "      box-shadow: 0px 1px 3px 1px rgba(0, 0, 0, 0.15);\n",
              "      filter: drop-shadow(0px 1px 2px rgba(0, 0, 0, 0.3));\n",
              "      fill: #FFFFFF;\n",
              "    }\n",
              "  </style>\n",
              "\n",
              "      <script>\n",
              "        const buttonEl =\n",
              "          document.querySelector('#df-a5e19291-4c34-4c6c-82bd-7c09e8ae829a button.colab-df-convert');\n",
              "        buttonEl.style.display =\n",
              "          google.colab.kernel.accessAllowed ? 'block' : 'none';\n",
              "\n",
              "        async function convertToInteractive(key) {\n",
              "          const element = document.querySelector('#df-a5e19291-4c34-4c6c-82bd-7c09e8ae829a');\n",
              "          const dataTable =\n",
              "            await google.colab.kernel.invokeFunction('convertToInteractive',\n",
              "                                                     [key], {});\n",
              "          if (!dataTable) return;\n",
              "\n",
              "          const docLinkHtml = 'Like what you see? Visit the ' +\n",
              "            '<a target=\"_blank\" href=https://colab.research.google.com/notebooks/data_table.ipynb>data table notebook</a>'\n",
              "            + ' to learn more about interactive tables.';\n",
              "          element.innerHTML = '';\n",
              "          dataTable['output_type'] = 'display_data';\n",
              "          await google.colab.output.renderOutput(dataTable, element);\n",
              "          const docLink = document.createElement('div');\n",
              "          docLink.innerHTML = docLinkHtml;\n",
              "          element.appendChild(docLink);\n",
              "        }\n",
              "      </script>\n",
              "    </div>\n",
              "  </div>\n",
              "  "
            ],
            "text/plain": [
              "   text_id category     mention  start  end sentiment\n",
              "0     3976    Whole   ресторане     71   80   neutral\n",
              "1     3976    Whole  ресторанах    198  208   neutral\n",
              "2     3976    Whole   ресторане    256  265   neutral"
            ]
          },
          "metadata": {},
          "execution_count": 8
        }
      ],
      "source": [
        "train_asp.head(3)"
      ],
      "id": "334d9359"
    },
    {
      "cell_type": "code",
      "execution_count": 9,
      "metadata": {
        "colab": {
          "base_uri": "https://localhost:8080/",
          "height": 143
        },
        "id": "e82410db",
        "outputId": "c129729b-6680-43fe-a55e-4ffd873b43f6"
      },
      "outputs": [
        {
          "output_type": "execute_result",
          "data": {
            "text/html": [
              "\n",
              "  <div id=\"df-a98393d1-666c-4c12-a828-33c2cfd3d4e6\">\n",
              "    <div class=\"colab-df-container\">\n",
              "      <div>\n",
              "<style scoped>\n",
              "    .dataframe tbody tr th:only-of-type {\n",
              "        vertical-align: middle;\n",
              "    }\n",
              "\n",
              "    .dataframe tbody tr th {\n",
              "        vertical-align: top;\n",
              "    }\n",
              "\n",
              "    .dataframe thead th {\n",
              "        text-align: right;\n",
              "    }\n",
              "</style>\n",
              "<table border=\"1\" class=\"dataframe\">\n",
              "  <thead>\n",
              "    <tr style=\"text-align: right;\">\n",
              "      <th></th>\n",
              "      <th>text_id</th>\n",
              "      <th>text</th>\n",
              "    </tr>\n",
              "  </thead>\n",
              "  <tbody>\n",
              "    <tr>\n",
              "      <th>0</th>\n",
              "      <td>3976</td>\n",
              "      <td>День 8-го марта прошёл, можно и итоги подвести...</td>\n",
              "    </tr>\n",
              "    <tr>\n",
              "      <th>1</th>\n",
              "      <td>30808</td>\n",
              "      <td>Отмечали в этом ресторане день рождение на пер...</td>\n",
              "    </tr>\n",
              "    <tr>\n",
              "      <th>2</th>\n",
              "      <td>14031</td>\n",
              "      <td>Хочу поделиться своим впечатлением от посещени...</td>\n",
              "    </tr>\n",
              "  </tbody>\n",
              "</table>\n",
              "</div>\n",
              "      <button class=\"colab-df-convert\" onclick=\"convertToInteractive('df-a98393d1-666c-4c12-a828-33c2cfd3d4e6')\"\n",
              "              title=\"Convert this dataframe to an interactive table.\"\n",
              "              style=\"display:none;\">\n",
              "        \n",
              "  <svg xmlns=\"http://www.w3.org/2000/svg\" height=\"24px\"viewBox=\"0 0 24 24\"\n",
              "       width=\"24px\">\n",
              "    <path d=\"M0 0h24v24H0V0z\" fill=\"none\"/>\n",
              "    <path d=\"M18.56 5.44l.94 2.06.94-2.06 2.06-.94-2.06-.94-.94-2.06-.94 2.06-2.06.94zm-11 1L8.5 8.5l.94-2.06 2.06-.94-2.06-.94L8.5 2.5l-.94 2.06-2.06.94zm10 10l.94 2.06.94-2.06 2.06-.94-2.06-.94-.94-2.06-.94 2.06-2.06.94z\"/><path d=\"M17.41 7.96l-1.37-1.37c-.4-.4-.92-.59-1.43-.59-.52 0-1.04.2-1.43.59L10.3 9.45l-7.72 7.72c-.78.78-.78 2.05 0 2.83L4 21.41c.39.39.9.59 1.41.59.51 0 1.02-.2 1.41-.59l7.78-7.78 2.81-2.81c.8-.78.8-2.07 0-2.86zM5.41 20L4 18.59l7.72-7.72 1.47 1.35L5.41 20z\"/>\n",
              "  </svg>\n",
              "      </button>\n",
              "      \n",
              "  <style>\n",
              "    .colab-df-container {\n",
              "      display:flex;\n",
              "      flex-wrap:wrap;\n",
              "      gap: 12px;\n",
              "    }\n",
              "\n",
              "    .colab-df-convert {\n",
              "      background-color: #E8F0FE;\n",
              "      border: none;\n",
              "      border-radius: 50%;\n",
              "      cursor: pointer;\n",
              "      display: none;\n",
              "      fill: #1967D2;\n",
              "      height: 32px;\n",
              "      padding: 0 0 0 0;\n",
              "      width: 32px;\n",
              "    }\n",
              "\n",
              "    .colab-df-convert:hover {\n",
              "      background-color: #E2EBFA;\n",
              "      box-shadow: 0px 1px 2px rgba(60, 64, 67, 0.3), 0px 1px 3px 1px rgba(60, 64, 67, 0.15);\n",
              "      fill: #174EA6;\n",
              "    }\n",
              "\n",
              "    [theme=dark] .colab-df-convert {\n",
              "      background-color: #3B4455;\n",
              "      fill: #D2E3FC;\n",
              "    }\n",
              "\n",
              "    [theme=dark] .colab-df-convert:hover {\n",
              "      background-color: #434B5C;\n",
              "      box-shadow: 0px 1px 3px 1px rgba(0, 0, 0, 0.15);\n",
              "      filter: drop-shadow(0px 1px 2px rgba(0, 0, 0, 0.3));\n",
              "      fill: #FFFFFF;\n",
              "    }\n",
              "  </style>\n",
              "\n",
              "      <script>\n",
              "        const buttonEl =\n",
              "          document.querySelector('#df-a98393d1-666c-4c12-a828-33c2cfd3d4e6 button.colab-df-convert');\n",
              "        buttonEl.style.display =\n",
              "          google.colab.kernel.accessAllowed ? 'block' : 'none';\n",
              "\n",
              "        async function convertToInteractive(key) {\n",
              "          const element = document.querySelector('#df-a98393d1-666c-4c12-a828-33c2cfd3d4e6');\n",
              "          const dataTable =\n",
              "            await google.colab.kernel.invokeFunction('convertToInteractive',\n",
              "                                                     [key], {});\n",
              "          if (!dataTable) return;\n",
              "\n",
              "          const docLinkHtml = 'Like what you see? Visit the ' +\n",
              "            '<a target=\"_blank\" href=https://colab.research.google.com/notebooks/data_table.ipynb>data table notebook</a>'\n",
              "            + ' to learn more about interactive tables.';\n",
              "          element.innerHTML = '';\n",
              "          dataTable['output_type'] = 'display_data';\n",
              "          await google.colab.output.renderOutput(dataTable, element);\n",
              "          const docLink = document.createElement('div');\n",
              "          docLink.innerHTML = docLinkHtml;\n",
              "          element.appendChild(docLink);\n",
              "        }\n",
              "      </script>\n",
              "    </div>\n",
              "  </div>\n",
              "  "
            ],
            "text/plain": [
              "   text_id                                               text\n",
              "0     3976  День 8-го марта прошёл, можно и итоги подвести...\n",
              "1    30808  Отмечали в этом ресторане день рождение на пер...\n",
              "2    14031  Хочу поделиться своим впечатлением от посещени..."
            ]
          },
          "metadata": {},
          "execution_count": 9
        }
      ],
      "source": [
        "train_texts.head(3)"
      ],
      "id": "e82410db"
    },
    {
      "cell_type": "code",
      "execution_count": 13,
      "metadata": {
        "colab": {
          "base_uri": "https://localhost:8080/"
        },
        "id": "148d6f7c",
        "outputId": "119441f0-7253-4547-9aee-2791f5d02d27"
      },
      "outputs": [
        {
          "output_type": "execute_result",
          "data": {
            "text/plain": [
              "mention                  category\n",
              "ресторан                 Whole       100\n",
              "место                    Whole        97\n",
              "обслуживание             Service      96\n",
              "интерьер                 Interior     87\n",
              "ресторане                Whole        75\n",
              "                                    ... \n",
              "пирожными                Food          1\n",
              "пирожок к первому блюду  Food          1\n",
              "пицц                     Food          1\n",
              "пиццами                  Food          1\n",
              " Цезарь                  Food          1\n",
              "Length: 1955, dtype: int64"
            ]
          },
          "metadata": {},
          "execution_count": 13
        }
      ],
      "source": [
        "train_asp.value_counts(subset=['mention', 'category'])"
      ],
      "id": "148d6f7c"
    },
    {
      "cell_type": "code",
      "execution_count": 15,
      "metadata": {
        "id": "zwiZgMj1myZ8"
      },
      "outputs": [],
      "source": [
        "train_asp['lemmas'] = [tuple(normalize(text)) for text in train_asp['mention']]"
      ],
      "id": "zwiZgMj1myZ8"
    },
    {
      "cell_type": "code",
      "execution_count": 16,
      "metadata": {
        "colab": {
          "base_uri": "https://localhost:8080/",
          "height": 423
        },
        "id": "QG_8AGSFm7rL",
        "outputId": "082b2e86-ce1e-457f-f05d-b06d7929f10e"
      },
      "outputs": [
        {
          "output_type": "execute_result",
          "data": {
            "text/html": [
              "\n",
              "  <div id=\"df-9f14c46d-81d5-4c10-94c1-3c62e436a1d0\">\n",
              "    <div class=\"colab-df-container\">\n",
              "      <div>\n",
              "<style scoped>\n",
              "    .dataframe tbody tr th:only-of-type {\n",
              "        vertical-align: middle;\n",
              "    }\n",
              "\n",
              "    .dataframe tbody tr th {\n",
              "        vertical-align: top;\n",
              "    }\n",
              "\n",
              "    .dataframe thead th {\n",
              "        text-align: right;\n",
              "    }\n",
              "</style>\n",
              "<table border=\"1\" class=\"dataframe\">\n",
              "  <thead>\n",
              "    <tr style=\"text-align: right;\">\n",
              "      <th></th>\n",
              "      <th>text_id</th>\n",
              "      <th>category</th>\n",
              "      <th>mention</th>\n",
              "      <th>start</th>\n",
              "      <th>end</th>\n",
              "      <th>sentiment</th>\n",
              "      <th>lemmas</th>\n",
              "    </tr>\n",
              "  </thead>\n",
              "  <tbody>\n",
              "    <tr>\n",
              "      <th>0</th>\n",
              "      <td>3976</td>\n",
              "      <td>Whole</td>\n",
              "      <td>ресторане</td>\n",
              "      <td>71</td>\n",
              "      <td>80</td>\n",
              "      <td>neutral</td>\n",
              "      <td>(ресторан,)</td>\n",
              "    </tr>\n",
              "    <tr>\n",
              "      <th>1</th>\n",
              "      <td>3976</td>\n",
              "      <td>Whole</td>\n",
              "      <td>ресторанах</td>\n",
              "      <td>198</td>\n",
              "      <td>208</td>\n",
              "      <td>neutral</td>\n",
              "      <td>(ресторан,)</td>\n",
              "    </tr>\n",
              "    <tr>\n",
              "      <th>2</th>\n",
              "      <td>3976</td>\n",
              "      <td>Whole</td>\n",
              "      <td>ресторане</td>\n",
              "      <td>256</td>\n",
              "      <td>265</td>\n",
              "      <td>neutral</td>\n",
              "      <td>(ресторан,)</td>\n",
              "    </tr>\n",
              "    <tr>\n",
              "      <th>3</th>\n",
              "      <td>3976</td>\n",
              "      <td>Service</td>\n",
              "      <td>Столик бронировали</td>\n",
              "      <td>267</td>\n",
              "      <td>285</td>\n",
              "      <td>neutral</td>\n",
              "      <td>(столик, бронировать)</td>\n",
              "    </tr>\n",
              "    <tr>\n",
              "      <th>4</th>\n",
              "      <td>3976</td>\n",
              "      <td>Service</td>\n",
              "      <td>администратор</td>\n",
              "      <td>322</td>\n",
              "      <td>335</td>\n",
              "      <td>positive</td>\n",
              "      <td>(администратор,)</td>\n",
              "    </tr>\n",
              "    <tr>\n",
              "      <th>...</th>\n",
              "      <td>...</td>\n",
              "      <td>...</td>\n",
              "      <td>...</td>\n",
              "      <td>...</td>\n",
              "      <td>...</td>\n",
              "      <td>...</td>\n",
              "      <td>...</td>\n",
              "    </tr>\n",
              "    <tr>\n",
              "      <th>4758</th>\n",
              "      <td>16630</td>\n",
              "      <td>Service</td>\n",
              "      <td>обслуживание</td>\n",
              "      <td>85</td>\n",
              "      <td>97</td>\n",
              "      <td>positive</td>\n",
              "      <td>(обслуживание,)</td>\n",
              "    </tr>\n",
              "    <tr>\n",
              "      <th>4759</th>\n",
              "      <td>16630</td>\n",
              "      <td>Food</td>\n",
              "      <td>Еда</td>\n",
              "      <td>99</td>\n",
              "      <td>102</td>\n",
              "      <td>positive</td>\n",
              "      <td>(еда,)</td>\n",
              "    </tr>\n",
              "    <tr>\n",
              "      <th>4760</th>\n",
              "      <td>16630</td>\n",
              "      <td>Service</td>\n",
              "      <td>персоналу</td>\n",
              "      <td>244</td>\n",
              "      <td>253</td>\n",
              "      <td>positive</td>\n",
              "      <td>(персонал,)</td>\n",
              "    </tr>\n",
              "    <tr>\n",
              "      <th>4761</th>\n",
              "      <td>16630</td>\n",
              "      <td>Whole</td>\n",
              "      <td>ресторан</td>\n",
              "      <td>294</td>\n",
              "      <td>302</td>\n",
              "      <td>positive</td>\n",
              "      <td>(ресторан,)</td>\n",
              "    </tr>\n",
              "    <tr>\n",
              "      <th>4762</th>\n",
              "      <td>16630</td>\n",
              "      <td>Whole</td>\n",
              "      <td>место</td>\n",
              "      <td>315</td>\n",
              "      <td>320</td>\n",
              "      <td>positive</td>\n",
              "      <td>(место,)</td>\n",
              "    </tr>\n",
              "  </tbody>\n",
              "</table>\n",
              "<p>4763 rows × 7 columns</p>\n",
              "</div>\n",
              "      <button class=\"colab-df-convert\" onclick=\"convertToInteractive('df-9f14c46d-81d5-4c10-94c1-3c62e436a1d0')\"\n",
              "              title=\"Convert this dataframe to an interactive table.\"\n",
              "              style=\"display:none;\">\n",
              "        \n",
              "  <svg xmlns=\"http://www.w3.org/2000/svg\" height=\"24px\"viewBox=\"0 0 24 24\"\n",
              "       width=\"24px\">\n",
              "    <path d=\"M0 0h24v24H0V0z\" fill=\"none\"/>\n",
              "    <path d=\"M18.56 5.44l.94 2.06.94-2.06 2.06-.94-2.06-.94-.94-2.06-.94 2.06-2.06.94zm-11 1L8.5 8.5l.94-2.06 2.06-.94-2.06-.94L8.5 2.5l-.94 2.06-2.06.94zm10 10l.94 2.06.94-2.06 2.06-.94-2.06-.94-.94-2.06-.94 2.06-2.06.94z\"/><path d=\"M17.41 7.96l-1.37-1.37c-.4-.4-.92-.59-1.43-.59-.52 0-1.04.2-1.43.59L10.3 9.45l-7.72 7.72c-.78.78-.78 2.05 0 2.83L4 21.41c.39.39.9.59 1.41.59.51 0 1.02-.2 1.41-.59l7.78-7.78 2.81-2.81c.8-.78.8-2.07 0-2.86zM5.41 20L4 18.59l7.72-7.72 1.47 1.35L5.41 20z\"/>\n",
              "  </svg>\n",
              "      </button>\n",
              "      \n",
              "  <style>\n",
              "    .colab-df-container {\n",
              "      display:flex;\n",
              "      flex-wrap:wrap;\n",
              "      gap: 12px;\n",
              "    }\n",
              "\n",
              "    .colab-df-convert {\n",
              "      background-color: #E8F0FE;\n",
              "      border: none;\n",
              "      border-radius: 50%;\n",
              "      cursor: pointer;\n",
              "      display: none;\n",
              "      fill: #1967D2;\n",
              "      height: 32px;\n",
              "      padding: 0 0 0 0;\n",
              "      width: 32px;\n",
              "    }\n",
              "\n",
              "    .colab-df-convert:hover {\n",
              "      background-color: #E2EBFA;\n",
              "      box-shadow: 0px 1px 2px rgba(60, 64, 67, 0.3), 0px 1px 3px 1px rgba(60, 64, 67, 0.15);\n",
              "      fill: #174EA6;\n",
              "    }\n",
              "\n",
              "    [theme=dark] .colab-df-convert {\n",
              "      background-color: #3B4455;\n",
              "      fill: #D2E3FC;\n",
              "    }\n",
              "\n",
              "    [theme=dark] .colab-df-convert:hover {\n",
              "      background-color: #434B5C;\n",
              "      box-shadow: 0px 1px 3px 1px rgba(0, 0, 0, 0.15);\n",
              "      filter: drop-shadow(0px 1px 2px rgba(0, 0, 0, 0.3));\n",
              "      fill: #FFFFFF;\n",
              "    }\n",
              "  </style>\n",
              "\n",
              "      <script>\n",
              "        const buttonEl =\n",
              "          document.querySelector('#df-9f14c46d-81d5-4c10-94c1-3c62e436a1d0 button.colab-df-convert');\n",
              "        buttonEl.style.display =\n",
              "          google.colab.kernel.accessAllowed ? 'block' : 'none';\n",
              "\n",
              "        async function convertToInteractive(key) {\n",
              "          const element = document.querySelector('#df-9f14c46d-81d5-4c10-94c1-3c62e436a1d0');\n",
              "          const dataTable =\n",
              "            await google.colab.kernel.invokeFunction('convertToInteractive',\n",
              "                                                     [key], {});\n",
              "          if (!dataTable) return;\n",
              "\n",
              "          const docLinkHtml = 'Like what you see? Visit the ' +\n",
              "            '<a target=\"_blank\" href=https://colab.research.google.com/notebooks/data_table.ipynb>data table notebook</a>'\n",
              "            + ' to learn more about interactive tables.';\n",
              "          element.innerHTML = '';\n",
              "          dataTable['output_type'] = 'display_data';\n",
              "          await google.colab.output.renderOutput(dataTable, element);\n",
              "          const docLink = document.createElement('div');\n",
              "          docLink.innerHTML = docLinkHtml;\n",
              "          element.appendChild(docLink);\n",
              "        }\n",
              "      </script>\n",
              "    </div>\n",
              "  </div>\n",
              "  "
            ],
            "text/plain": [
              "      text_id category  ... sentiment                 lemmas\n",
              "0        3976    Whole  ...   neutral            (ресторан,)\n",
              "1        3976    Whole  ...   neutral            (ресторан,)\n",
              "2        3976    Whole  ...   neutral            (ресторан,)\n",
              "3        3976  Service  ...   neutral  (столик, бронировать)\n",
              "4        3976  Service  ...  positive       (администратор,)\n",
              "...       ...      ...  ...       ...                    ...\n",
              "4758    16630  Service  ...  positive        (обслуживание,)\n",
              "4759    16630     Food  ...  positive                 (еда,)\n",
              "4760    16630  Service  ...  positive            (персонал,)\n",
              "4761    16630    Whole  ...  positive            (ресторан,)\n",
              "4762    16630    Whole  ...  positive               (место,)\n",
              "\n",
              "[4763 rows x 7 columns]"
            ]
          },
          "metadata": {},
          "execution_count": 16
        }
      ],
      "source": [
        "train_asp"
      ],
      "id": "QG_8AGSFm7rL"
    },
    {
      "cell_type": "code",
      "source": [
        "import seaborn as sns\n",
        "from collections import Counter\n",
        "import matplotlib as plt\n",
        "c = train_asp.sentiment.value_counts().to_dict()\n",
        "xs = []\n",
        "ys = []\n",
        "for key, value in c.items():\n",
        "  if key != 'O':\n",
        "    xs.append(key)\n",
        "    ys.append(value)\n",
        "sns.set(rc={'figure.figsize':(11.7,8.27)})\n",
        "sns.barplot(\n",
        "    x=xs, \n",
        "    y=ys)"
      ],
      "metadata": {
        "colab": {
          "base_uri": "https://localhost:8080/",
          "height": 518
        },
        "id": "R_a55hsxvWSX",
        "outputId": "88cf5ed1-cf2b-4a60-e98d-888c22bed444"
      },
      "id": "R_a55hsxvWSX",
      "execution_count": 56,
      "outputs": [
        {
          "output_type": "execute_result",
          "data": {
            "text/plain": [
              "<matplotlib.axes._subplots.AxesSubplot at 0x7f0a4aec8d50>"
            ]
          },
          "metadata": {},
          "execution_count": 56
        },
        {
          "output_type": "display_data",
          "data": {
            "image/png": "[encoded data removed]",
            "text/plain": [
              "<Figure size 842.4x595.44 with 1 Axes>"
            ]
          },
          "metadata": {}
        }
      ]
    },
    {
      "cell_type": "code",
      "execution_count": 17,
      "metadata": {
        "colab": {
          "base_uri": "https://localhost:8080/"
        },
        "id": "mBp6UIjdm-1F",
        "outputId": "286f2b2e-5c2c-4ee3-b943-6aed6b7eeb32"
      },
      "outputs": [
        {
          "output_type": "execute_result",
          "data": {
            "text/plain": [
              "lemmas                     category\n",
              "(ресторан,)                Whole       255\n",
              "(обслуживание,)            Service     168\n",
              "(интерьер,)                Interior    166\n",
              "(официант,)                Service     143\n",
              "(кухня,)                   Food        135\n",
              "                                      ... \n",
              "(предварительный, заказ)   Service       1\n",
              "(появляться,)              Service       1\n",
              "(появиться,)               Service       1\n",
              "(поступить,)               Service       1\n",
              "(1450, 1750р, с, человек)  Price         1\n",
              "Length: 1336, dtype: int64"
            ]
          },
          "metadata": {},
          "execution_count": 17
        }
      ],
      "source": [
        "train_asp.value_counts(subset=['lemmas', 'category'])"
      ],
      "id": "mBp6UIjdm-1F"
    },
    {
      "cell_type": "code",
      "execution_count": 18,
      "metadata": {
        "colab": {
          "base_uri": "https://localhost:8080/"
        },
        "id": "a8884f3e",
        "outputId": "c5b1a230-d09e-4c03-92e8-cce50abe0d77"
      },
      "outputs": [
        {
          "output_type": "stream",
          "name": "stdout",
          "text": [
            "Collecting stanza\n",
            "  Downloading stanza-1.3.0-py3-none-any.whl (432 kB)\n",
            "\u001b[K     |████████████████████████████████| 432 kB 4.1 MB/s \n",
            "\u001b[?25hRequirement already satisfied: six in /usr/local/lib/python3.7/dist-packages (from stanza) (1.15.0)\n",
            "Requirement already satisfied: protobuf in /usr/local/lib/python3.7/dist-packages (from stanza) (3.17.3)\n",
            "Requirement already satisfied: requests in /usr/local/lib/python3.7/dist-packages (from stanza) (2.23.0)\n",
            "Collecting emoji\n",
            "  Downloading emoji-1.6.1.tar.gz (170 kB)\n",
            "\u001b[K     |████████████████████████████████| 170 kB 47.8 MB/s \n",
            "\u001b[?25hRequirement already satisfied: numpy in /usr/local/lib/python3.7/dist-packages (from stanza) (1.19.5)\n",
            "Requirement already satisfied: torch>=1.3.0 in /usr/local/lib/python3.7/dist-packages (from stanza) (1.10.0+cu111)\n",
            "Requirement already satisfied: tqdm in /usr/local/lib/python3.7/dist-packages (from stanza) (4.62.3)\n",
            "Requirement already satisfied: typing-extensions in /usr/local/lib/python3.7/dist-packages (from torch>=1.3.0->stanza) (3.10.0.2)\n",
            "Requirement already satisfied: idna<3,>=2.5 in /usr/local/lib/python3.7/dist-packages (from requests->stanza) (2.10)\n",
            "Requirement already satisfied: urllib3!=1.25.0,!=1.25.1,<1.26,>=1.21.1 in /usr/local/lib/python3.7/dist-packages (from requests->stanza) (1.24.3)\n",
            "Requirement already satisfied: chardet<4,>=3.0.2 in /usr/local/lib/python3.7/dist-packages (from requests->stanza) (3.0.4)\n",
            "Requirement already satisfied: certifi>=2017.4.17 in /usr/local/lib/python3.7/dist-packages (from requests->stanza) (2021.10.8)\n",
            "Building wheels for collected packages: emoji\n",
            "  Building wheel for emoji (setup.py) ... \u001b[?25l\u001b[?25hdone\n",
            "  Created wheel for emoji: filename=emoji-1.6.1-py3-none-any.whl size=169314 sha256=5f82caec05d0dfcf392aaf4ff50e5d03de9e596ee91fd1b4fd153e2e4c2f91d9\n",
            "  Stored in directory: /root/.cache/pip/wheels/ea/5f/d3/03d313ddb3c2a1a427bb4690f1621eea60fe6f2a30cc95940f\n",
            "Successfully built emoji\n",
            "Installing collected packages: emoji, stanza\n",
            "Successfully installed emoji-1.6.1 stanza-1.3.0\n"
          ]
        }
      ],
      "source": [
        "!pip install stanza"
      ],
      "id": "a8884f3e"
    },
    {
      "cell_type": "code",
      "execution_count": 19,
      "metadata": {
        "id": "3aoTW4pOsWqR"
      },
      "outputs": [],
      "source": [
        "import stanza"
      ],
      "id": "3aoTW4pOsWqR"
    },
    {
      "cell_type": "code",
      "execution_count": 20,
      "metadata": {
        "colab": {
          "base_uri": "https://localhost:8080/",
          "height": 117,
          "referenced_widgets": [
            "c6d77505f492472693140839eab09891",
            "5c281ebe56c2466498d1bfa15fde68ee",
            "75a59fc0d4314749ac55568b3ca92efc",
            "80ec784df50643d5b78b419af48fc1c5",
            "bc98e2861d7c48eab3cca2f4613a2406",
            "0859f14cbd43454aba10a72a6105ea78",
            "85d4ec2a3b794b77b4bbe55f3b247dc2",
            "aba2479c5dfd42bb9625de10db89130e",
            "150b0bdf4c9e4bcaacfe548fd66a03f7",
            "b8eb5e88d0494ca5b9cdabcbc147cae6",
            "174b9806803e42079a2b74bf22915a2c",
            "b267b13aaced4e5ebf528c9baab25af2",
            "95a4d08cfd324e0c8df37907beb541fd",
            "1b7a28065e3444cdb07894d4b1336e9b",
            "e8e2290873ed4c209992eef6497c07dd",
            "cc3a76159bc44184a423e849e677bec1",
            "0a278075f9a1439e892eaa1ace503147",
            "6c8fff53f8d24c938bee96bb5edb6811",
            "bf7e87c582e842b19a8655155ce32d7d",
            "ef9eb7a0c65a410c89c1c7b44efecb28",
            "cda78d5b9dff4566baddaee6a07e5dfa",
            "ece78d3efc804fd19ea69e32c39ff605"
          ]
        },
        "id": "Qy-O3xfDsjrk",
        "outputId": "d39f3d04-6ab2-4efc-e0f1-440ae2f24d69"
      },
      "outputs": [
        {
          "output_type": "display_data",
          "data": {
            "application/vnd.jupyter.widget-view+json": {
              "model_id": "c6d77505f492472693140839eab09891",
              "version_minor": 0,
              "version_major": 2
            },
            "text/plain": [
              "Downloading https://raw.githubusercontent.com/stanfordnlp/stanza-resources/main/resources_1.3.0.json:   0%|   …"
            ]
          },
          "metadata": {}
        },
        {
          "output_type": "stream",
          "name": "stderr",
          "text": [
            "2021-12-27 21:00:25 INFO: Downloading default packages for language: ru (Russian)...\n"
          ]
        },
        {
          "output_type": "display_data",
          "data": {
            "application/vnd.jupyter.widget-view+json": {
              "model_id": "b267b13aaced4e5ebf528c9baab25af2",
              "version_minor": 0,
              "version_major": 2
            },
            "text/plain": [
              "Downloading https://huggingface.co/stanfordnlp/stanza-ru/resolve/v1.3.0/models/default.zip:   0%|          | 0…"
            ]
          },
          "metadata": {}
        },
        {
          "output_type": "stream",
          "name": "stderr",
          "text": [
            "2021-12-27 21:00:46 INFO: Finished downloading models and saved to /root/stanza_resources.\n"
          ]
        }
      ],
      "source": [
        "stanza.download('ru')"
      ],
      "id": "Qy-O3xfDsjrk"
    },
    {
      "cell_type": "code",
      "execution_count": 21,
      "metadata": {
        "colab": {
          "base_uri": "https://localhost:8080/"
        },
        "id": "Axue_IPusa_I",
        "outputId": "c009740d-17b7-4f56-f6d9-c8c9d5d33e11"
      },
      "outputs": [
        {
          "output_type": "stream",
          "name": "stderr",
          "text": [
            "2021-12-27 21:00:46 INFO: Loading these models for language: ru (Russian):\n",
            "=========================\n",
            "| Processor | Package   |\n",
            "-------------------------\n",
            "| tokenize  | syntagrus |\n",
            "| pos       | syntagrus |\n",
            "=========================\n",
            "\n",
            "2021-12-27 21:00:46 INFO: Use device: cpu\n",
            "2021-12-27 21:00:46 INFO: Loading: tokenize\n",
            "2021-12-27 21:00:46 INFO: Loading: pos\n",
            "2021-12-27 21:00:47 INFO: Done loading processors!\n"
          ]
        }
      ],
      "source": [
        "# nlp = stanza.Pipeline('ru', processors='tokenize')\n",
        "nlp = stanza.Pipeline('ru', processors='tokenize,pos')"
      ],
      "id": "Axue_IPusa_I"
    },
    {
      "cell_type": "code",
      "execution_count": 22,
      "metadata": {
        "id": "tO-iVnLqtjzm"
      },
      "outputs": [],
      "source": [
        "reviews = {}\n",
        "with open('train_reviews.txt') as f:\n",
        "  for line in f:\n",
        "    line = line.rstrip('\\r\\n').split('\\t')\n",
        "    reviews[line[0]] = line[1]\n",
        "\n",
        "\n",
        "reviews_test = {}\n",
        "with open('dev_reviews.txt') as f:\n",
        "  for line in f:\n",
        "    line = line.rstrip('\\r\\n').split('\\t')\n",
        "    reviews_test[line[0]] = line[1]"
      ],
      "id": "tO-iVnLqtjzm"
    },
    {
      "cell_type": "code",
      "execution_count": 23,
      "metadata": {
        "id": "SPZdN60RtwGA"
      },
      "outputs": [],
      "source": [
        "from collections import defaultdict\n",
        "aspects = defaultdict(list)"
      ],
      "id": "SPZdN60RtwGA"
    },
    {
      "cell_type": "code",
      "execution_count": 24,
      "metadata": {
        "id": "1RtIwB_8t1WA"
      },
      "outputs": [],
      "source": [
        "with open('train_aspects.txt') as f:\n",
        "  for line in f:\n",
        "    line = line.rstrip('\\r\\n').split('\\t')\n",
        "    keys = ('category', 'mention', 'start', 'end', 'sentiment')\n",
        "    # ['text_id', 'category', 'mention', 'start', 'end', 'sentiment']\n",
        "    # тут можно отдельно запомнить начало и конец каждого упоминания\n",
        "    aspects[line[0]].append(dict(zip(keys, line[1:])))"
      ],
      "id": "1RtIwB_8t1WA"
    },
    {
      "cell_type": "code",
      "execution_count": 25,
      "metadata": {
        "id": "FHkYtEfObgrN"
      },
      "outputs": [],
      "source": [
        "aspects_test = defaultdict(list)\n",
        "with open('dev_aspects.txt') as f:\n",
        "  for line in f:\n",
        "    line = line.rstrip('\\r\\n').split('\\t')\n",
        "    keys = ('category', 'mention', 'start', 'end', 'sentiment')\n",
        "    # ['text_id', 'category', 'mention', 'start', 'end', 'sentiment']\n",
        "    # тут можно отдельно запомнить начало и конец каждого упоминания\n",
        "    aspects_test[line[0]].append(dict(zip(keys, line[1:])))"
      ],
      "id": "FHkYtEfObgrN"
    },
    {
      "cell_type": "code",
      "execution_count": 26,
      "metadata": {
        "id": "IHu0mltshh66"
      },
      "outputs": [],
      "source": [
        "all_data_train = []\n",
        "for text_id, text in reviews.items():\n",
        "  processed = nlp(text)\n",
        "  for token in processed.iter_tokens():\n",
        "    add = False\n",
        "    for mention in aspects[text_id]:\n",
        "      if token.start_char == int(mention['start']) and token.end_char == int(mention['end']):\n",
        "        all_data_train.append([text_id, token.text, token.words[0].pos, 'B-'+mention['category']])\n",
        "        add = True\n",
        "      elif token.start_char > int(mention['start']) and token.end_char <= int(mention['end']):\n",
        "        all_data_train.append([text_id, token.text, token.words[0].pos, 'I-'+mention['category']])\n",
        "        add = True\n",
        "    if not add:\n",
        "      all_data_train.append([text_id, token.text,  token.words[0].pos, 'O'])"
      ],
      "id": "IHu0mltshh66"
    },
    {
      "cell_type": "code",
      "execution_count": 27,
      "metadata": {
        "id": "LwJ613qjiflH"
      },
      "outputs": [],
      "source": [
        "text_ids_train = []\n",
        "texts_train = []\n",
        "pos_tags_train = []\n",
        "bio_tags_train = []\n",
        "\n",
        "for el in all_data_train:\n",
        "  text_ids_train.append(el[0])\n",
        "  texts_train.append(el[1])\n",
        "  pos_tags_train.append(el[2])\n",
        "  bio_tags_train.append(el[3])\n"
      ],
      "id": "LwJ613qjiflH"
    },
    {
      "cell_type": "code",
      "execution_count": 28,
      "metadata": {
        "id": "4RDMW93cuORo"
      },
      "outputs": [],
      "source": [
        "all_data_test = []\n",
        "for text_id, text in reviews_test.items():\n",
        "  processed = nlp(text)\n",
        "  for token in processed.iter_tokens():\n",
        "    add = False\n",
        "    for mention in aspects[text_id]:\n",
        "      if token.start_char == int(mention['start']) and token.end_char == int(mention['end']):\n",
        "        all_data_test.append([text_id, token.text, token.words[0].pos, 'B-'+mention['category']])\n",
        "        add = True\n",
        "      elif token.start_char > int(mention['start']) and token.end_char <= int(mention['end']):\n",
        "        all_data_test.append([text_id, token.text, token.words[0].pos, 'I-'+mention['category']])\n",
        "        add = True\n",
        "    if not add:\n",
        "      all_data_test.append([text_id, token.text,  token.words[0].pos, 'O'])"
      ],
      "id": "4RDMW93cuORo"
    },
    {
      "cell_type": "code",
      "execution_count": 29,
      "metadata": {
        "id": "XlYvBaI_hyKv"
      },
      "outputs": [],
      "source": [
        "text_ids_test = []\n",
        "texts_test = []\n",
        "pos_tags_test = []\n",
        "bio_tags_test = []\n",
        "\n",
        "for el in all_data_test:\n",
        "  text_ids_test.append(el[0])\n",
        "  texts_test.append(el[1])\n",
        "  pos_tags_test.append(el[2])\n",
        "  bio_tags_test.append(el[3])\n"
      ],
      "id": "XlYvBaI_hyKv"
    },
    {
      "cell_type": "code",
      "execution_count": 30,
      "metadata": {
        "colab": {
          "base_uri": "https://localhost:8080/"
        },
        "id": "8Xay4bmqmfLo",
        "outputId": "db0c23e6-ae57-42e6-f0d9-d43e897aee79"
      },
      "outputs": [
        {
          "output_type": "execute_result",
          "data": {
            "text/plain": [
              "11827"
            ]
          },
          "metadata": {},
          "execution_count": 30
        }
      ],
      "source": [
        "len(text_ids_test)"
      ],
      "id": "8Xay4bmqmfLo"
    },
    {
      "cell_type": "markdown",
      "metadata": {
        "id": "3cd09b20"
      },
      "source": [
        "## CRF\n",
        "\n",
        "Популярный алгоритм для разметки последовательностей. Попробуем сначала на задаче NER с помощью [sklearn-crfsuite](https://sklearn-crfsuite.readthedocs.io/en/latest/api.html)\n",
        "\n",
        "Возьмём корпус WikiNER:"
      ],
      "id": "3cd09b20"
    },
    {
      "cell_type": "code",
      "execution_count": null,
      "metadata": {
        "colab": {
          "base_uri": "https://localhost:8080/"
        },
        "id": "dfc01d94",
        "outputId": "3d933cce-005f-4b18-9c0d-8399429a98b5"
      },
      "outputs": [
        {
          "name": "stdout",
          "output_type": "stream",
          "text": [
            "Requirement already satisfied: scikit-learn<0.24 in /usr/local/lib/python3.7/dist-packages (0.23.2)\n",
            "Requirement already satisfied: threadpoolctl>=2.0.0 in /usr/local/lib/python3.7/dist-packages (from scikit-learn<0.24) (3.0.0)\n",
            "Requirement already satisfied: scipy>=0.19.1 in /usr/local/lib/python3.7/dist-packages (from scikit-learn<0.24) (1.4.1)\n",
            "Requirement already satisfied: numpy>=1.13.3 in /usr/local/lib/python3.7/dist-packages (from scikit-learn<0.24) (1.19.5)\n",
            "Requirement already satisfied: joblib>=0.11 in /usr/local/lib/python3.7/dist-packages (from scikit-learn<0.24) (1.1.0)\n"
          ]
        }
      ],
      "source": [
        "!pip install -U 'scikit-learn<0.24'"
      ],
      "id": "dfc01d94"
    },
    {
      "cell_type": "markdown",
      "metadata": {
        "id": "b83c73e3"
      },
      "source": [
        "Посмотрим на разметку:"
      ],
      "id": "b83c73e3"
    },
    {
      "cell_type": "markdown",
      "metadata": {
        "id": "836ee403"
      },
      "source": [
        "# **Обучение CRF**"
      ],
      "id": "836ee403"
    },
    {
      "cell_type": "code",
      "execution_count": 34,
      "metadata": {
        "colab": {
          "base_uri": "https://localhost:8080/"
        },
        "id": "4b1c9908",
        "outputId": "2e39ca3d-cee4-4175-da97-cc2b5bdf4236"
      },
      "outputs": [
        {
          "output_type": "stream",
          "name": "stdout",
          "text": [
            "Collecting sklearn-crfsuite\n",
            "  Downloading sklearn_crfsuite-0.3.6-py2.py3-none-any.whl (12 kB)\n",
            "Collecting python-crfsuite>=0.8.3\n",
            "  Downloading python_crfsuite-0.9.7-cp37-cp37m-manylinux1_x86_64.whl (743 kB)\n",
            "\u001b[K     |████████████████████████████████| 743 kB 5.1 MB/s \n",
            "\u001b[?25hRequirement already satisfied: tqdm>=2.0 in /usr/local/lib/python3.7/dist-packages (from sklearn-crfsuite) (4.62.3)\n",
            "Requirement already satisfied: six in /usr/local/lib/python3.7/dist-packages (from sklearn-crfsuite) (1.15.0)\n",
            "Requirement already satisfied: tabulate in /usr/local/lib/python3.7/dist-packages (from sklearn-crfsuite) (0.8.9)\n",
            "Installing collected packages: python-crfsuite, sklearn-crfsuite\n",
            "Successfully installed python-crfsuite-0.9.7 sklearn-crfsuite-0.3.6\n"
          ]
        }
      ],
      "source": [
        "!pip install sklearn-crfsuite"
      ],
      "id": "4b1c9908"
    },
    {
      "cell_type": "code",
      "execution_count": 35,
      "metadata": {
        "id": "f49f098b"
      },
      "outputs": [],
      "source": [
        "import sklearn_crfsuite\n",
        "from sklearn_crfsuite import scorers\n",
        "from sklearn_crfsuite import metrics"
      ],
      "id": "f49f098b"
    },
    {
      "cell_type": "markdown",
      "metadata": {
        "id": "a1ca4ecd"
      },
      "source": [
        "Заведём экстрактор признаков и тегов:"
      ],
      "id": "a1ca4ecd"
    },
    {
      "cell_type": "code",
      "execution_count": 36,
      "metadata": {
        "id": "_nQHVMhWH_aP"
      },
      "outputs": [],
      "source": [
        "train_sen = []\n",
        "new = []\n",
        "for elem in range(len(text_ids_train)):\n",
        "  id = text_ids_train[elem]\n",
        "  try:\n",
        "    if id == text_ids_train[elem+1]:\n",
        "      new.append((texts_train[elem], pos_tags_train[elem], bio_tags_train[elem]))\n",
        "    else:  \n",
        "      new.append((texts_train[elem], pos_tags_train[elem], bio_tags_train[elem]))\n",
        "      train_sen.append(new)\n",
        "      new = []\n",
        "  except:\n",
        "    id = text_ids_train[-1]\n",
        "    new = []\n",
        "    for k in range(len(text_ids_train)):\n",
        "      if text_ids_train[k] == id:\n",
        "        new.append((texts_train[k], pos_tags_train[k], bio_tags_train[k]))\n",
        "    train_sen.append(new)"
      ],
      "id": "_nQHVMhWH_aP"
    },
    {
      "cell_type": "code",
      "execution_count": 37,
      "metadata": {
        "id": "8nsGwE14lyJA"
      },
      "outputs": [],
      "source": [
        "test_sen = []\n",
        "new = []\n",
        "for elem in range(len(text_ids_test)):\n",
        "  id = text_ids_test[elem]\n",
        "  try:\n",
        "    if id == text_ids_test[elem+1]:\n",
        "      new.append((texts_test[elem], pos_tags_test[elem], bio_tags_test[elem]))\n",
        "    else:  \n",
        "      new.append((texts_test[elem], pos_tags_test[elem], bio_tags_test[elem]))\n",
        "      test_sen.append(new)\n",
        "      new = []\n",
        "  except:\n",
        "    id = text_ids_test[-1]\n",
        "    new = []\n",
        "    for k in range(len(text_ids_test)):\n",
        "      if text_ids_test[k] == id:\n",
        "        new.append((texts_test[k], pos_tags_test[k], bio_tags_test[k]))\n",
        "    test_sen.append(new)"
      ],
      "id": "8nsGwE14lyJA"
    },
    {
      "cell_type": "code",
      "execution_count": 38,
      "metadata": {
        "id": "6cc018ce"
      },
      "outputs": [],
      "source": [
        "def word2features(sent, i):\n",
        "    # достаёт фичи для i-го токена в предложении\n",
        "    word = sent[i][0]\n",
        "    postag = sent[i][1]\n",
        "    \n",
        "    features = {\n",
        "        'word.lower()': word.lower(),\n",
        "        'word[-3:]': word[-3:],\n",
        "        'word[-2:]': word[-2:],\n",
        "        'word.isupper()': word.isupper(),\n",
        "        'word.istitle()': word.istitle(),\n",
        "        'word.isdigit()': word.isdigit(),\n",
        "        'postag': postag,\n",
        "    }\n",
        "    if i > 0:\n",
        "        word1 = sent[i-1][0]\n",
        "        postag1 = sent[i-1][1]\n",
        "        features.update({\n",
        "            '-1:word.lower()': word1.lower(),\n",
        "            '-1:word.istitle()': word1.istitle(),\n",
        "            '-1:word.isupper()': word1.isupper(),\n",
        "            '-1:postag': postag1,\n",
        "        })\n",
        "    else:\n",
        "        features['BOS'] = True\n",
        "        \n",
        "    if i < len(sent)-1:\n",
        "        word1 = sent[i+1][0]\n",
        "        postag1 = sent[i+1][1]\n",
        "        features.update({\n",
        "            '+1:word.lower()': word1.lower(),\n",
        "            '+1:word.istitle()': word1.istitle(),\n",
        "            '+1:word.isupper()': word1.isupper(),\n",
        "            '+1:postag': postag1,\n",
        "            '+1:postag[:2]': postag1[:2],\n",
        "        })\n",
        "    else:\n",
        "        features['EOS'] = True\n",
        "                \n",
        "    return features\n",
        "\n",
        "\n",
        "def sent2features(sent):\n",
        "    # достаёт фичи для всех токенов в предложении\n",
        "    return [word2features(sent, i) for i in range(len(sent))]\n",
        "\n",
        "def sent2labels(sent):\n",
        "    return [label for token, postag, label in sent]\n",
        "\n",
        "def sent2tokens(sent):\n",
        "    return [token for token, postag, label in sent]"
      ],
      "id": "6cc018ce"
    },
    {
      "cell_type": "code",
      "execution_count": 39,
      "metadata": {
        "id": "tsZA7yW4SpZe"
      },
      "outputs": [],
      "source": [
        "X_train = [sent2features(s) for s in train_sen]\n",
        "y_train = [sent2labels(s) for s in train_sen]\n",
        "\n",
        "X_test = [sent2features(s) for s in test_sen]\n",
        "y_test = [sent2labels(s) for s in test_sen]"
      ],
      "id": "tsZA7yW4SpZe"
    },
    {
      "cell_type": "code",
      "execution_count": null,
      "metadata": {
        "colab": {
          "base_uri": "https://localhost:8080/",
          "height": 518
        },
        "id": "QLPNbX43Iwer",
        "outputId": "1f50c5d1-02d6-4a8a-c2ab-dd1fbb654cfa"
      },
      "outputs": [
        {
          "data": {
            "text/plain": [
              "<matplotlib.axes._subplots.AxesSubplot at 0x7efc735603d0>"
            ]
          },
          "execution_count": 64,
          "metadata": {},
          "output_type": "execute_result"
        },
        {
          "data": {
            "image/png": "[encoded data removed]",
            "text/plain": [
              "<Figure size 842.4x595.44 with 1 Axes>"
            ]
          },
          "metadata": {},
          "output_type": "display_data"
        }
      ],
      "source": [
        "import seaborn as sns\n",
        "from collections import Counter\n",
        "import matplotlib as plt\n",
        "y_train_ext = []\n",
        "for k in y_train:\n",
        "  y_train_ext.extend(k)\n",
        "ys_counts = Counter(y_train_ext)\n",
        "\n",
        "xs = []\n",
        "ys = []\n",
        "for key, value in ys_counts.items():\n",
        "  if key != 'O':\n",
        "    xs.append(key)\n",
        "    ys.append(value)\n",
        "\n",
        "\n",
        "sns.set(rc={'figure.figsize':(11.7,8.27)})\n",
        "sns.barplot(\n",
        "    x=xs, \n",
        "    y=ys)"
      ],
      "id": "QLPNbX43Iwer"
    },
    {
      "cell_type": "code",
      "execution_count": null,
      "metadata": {
        "colab": {
          "base_uri": "https://localhost:8080/"
        },
        "id": "2d06a7a7",
        "outputId": "6eee0375-9e9c-4fd3-e1da-01be490fc432"
      },
      "outputs": [
        {
          "name": "stderr",
          "output_type": "stream",
          "text": [
            "/usr/local/lib/python3.7/dist-packages/sklearn/base.py:213: FutureWarning: From version 0.24, get_params will raise an AttributeError if a parameter cannot be retrieved as an instance attribute. Previously it would return None.\n",
            "  FutureWarning)\n"
          ]
        },
        {
          "data": {
            "text/plain": [
              "CRF(algorithm='lbfgs', all_possible_transitions=True, c1=0.1, c2=0.1,\n",
              "    keep_tempfiles=None, max_iterations=100)"
            ]
          },
          "execution_count": 44,
          "metadata": {},
          "output_type": "execute_result"
        }
      ],
      "source": [
        "crf = sklearn_crfsuite.CRF(\n",
        "    algorithm='lbfgs', \n",
        "    c1=0.1, \n",
        "    c2=0.1, \n",
        "    max_iterations=100, \n",
        "    all_possible_transitions=True\n",
        ")\n",
        "crf.fit(X_train, y_train)"
      ],
      "id": "2d06a7a7"
    },
    {
      "cell_type": "code",
      "execution_count": null,
      "metadata": {
        "colab": {
          "base_uri": "https://localhost:8080/"
        },
        "id": "aoiMREC2ixA_",
        "outputId": "345dc569-27b9-474d-f9f0-126bd155e635"
      },
      "outputs": [
        {
          "data": {
            "text/plain": [
              "0.928471296931425"
            ]
          },
          "execution_count": 45,
          "metadata": {},
          "output_type": "execute_result"
        }
      ],
      "source": [
        "labels = list(crf.classes_)\n",
        "labels.remove('O')\n",
        "y_pred = crf.predict(X_test)\n",
        "metrics.flat_f1_score(y_test, y_pred, \n",
        "                      average='weighted', labels=labels)"
      ],
      "id": "aoiMREC2ixA_"
    },
    {
      "cell_type": "code",
      "execution_count": null,
      "metadata": {
        "colab": {
          "base_uri": "https://localhost:8080/"
        },
        "id": "ALwFgeqVi2i0",
        "outputId": "6a4e7432-59a3-46f3-ae2a-d511c271cd40"
      },
      "outputs": [
        {
          "name": "stderr",
          "output_type": "stream",
          "text": [
            "/usr/local/lib/python3.7/dist-packages/sklearn/utils/validation.py:70: FutureWarning: Pass labels=['B-Food', 'I-Food', 'B-Interior', 'I-Interior', 'B-Price', 'I-Price', 'B-Service', 'I-Service', 'B-Whole', 'I-Whole'] as keyword args. From version 0.25 passing these as positional arguments will result in an error\n",
            "  FutureWarning)\n"
          ]
        },
        {
          "name": "stdout",
          "output_type": "stream",
          "text": [
            "              precision    recall  f1-score   support\n",
            "\n",
            "      B-Food      0.896     0.953     0.924       317\n",
            "      I-Food      0.974     0.945     0.959       273\n",
            "  B-Interior      0.992     0.874     0.930       151\n",
            "  I-Interior      0.812     0.897     0.852        29\n",
            "     B-Price      0.935     1.000     0.967        29\n",
            "     I-Price      1.000     0.909     0.952        11\n",
            "   B-Service      0.957     0.882     0.918       280\n",
            "   I-Service      0.896     0.811     0.851        74\n",
            "     B-Whole      0.920     0.938     0.929       160\n",
            "     I-Whole      1.000     0.958     0.979        48\n",
            "\n",
            "   micro avg      0.939     0.918     0.929      1372\n",
            "   macro avg      0.938     0.917     0.926      1372\n",
            "weighted avg      0.941     0.918     0.928      1372\n",
            "\n"
          ]
        }
      ],
      "source": [
        "sorted_labels = sorted(\n",
        "    labels, \n",
        "    key=lambda name: (name[1:], name[0])\n",
        ")\n",
        "print(metrics.flat_classification_report(\n",
        "    y_test, y_pred, labels=sorted_labels, digits=3\n",
        "))"
      ],
      "id": "ALwFgeqVi2i0"
    },
    {
      "cell_type": "markdown",
      "metadata": {
        "id": "qcAJ5mVCKnKA"
      },
      "source": [
        "Несмотря на дисбаланс классов, с высоким Ф-скором видим performance модели."
      ],
      "id": "qcAJ5mVCKnKA"
    },
    {
      "cell_type": "code",
      "execution_count": null,
      "metadata": {
        "colab": {
          "base_uri": "https://localhost:8080/"
        },
        "id": "b0d9727b",
        "outputId": "5c068241-636a-4394-ce14-0c137f28ad20"
      },
      "outputs": [
        {
          "data": {
            "text/plain": [
              "0.928471296931425"
            ]
          },
          "execution_count": 47,
          "metadata": {},
          "output_type": "execute_result"
        }
      ],
      "source": [
        "labels = list(crf.classes_)\n",
        "labels.remove('O')\n",
        "y_pred = crf.predict(X_test)\n",
        "metrics.flat_f1_score(y_test, y_pred, \n",
        "                      average='weighted', labels=labels)"
      ],
      "id": "b0d9727b"
    },
    {
      "cell_type": "markdown",
      "metadata": {
        "id": "MQKXwHQS59-c"
      },
      "source": [
        "## + Подбор лучших гиперпараметров"
      ],
      "id": "MQKXwHQS59-c"
    },
    {
      "cell_type": "code",
      "execution_count": 40,
      "metadata": {
        "id": "AM6HXRHm6KSt"
      },
      "outputs": [],
      "source": [
        "from itertools import chain\n",
        "\n",
        "import nltk\n",
        "import sklearn\n",
        "import scipy.stats\n",
        "from sklearn.metrics import make_scorer\n",
        "# from sklearn.cross_validation import cross_val_score\n",
        "from sklearn.model_selection import RandomizedSearchCV\n",
        "\n",
        "import sklearn_crfsuite\n",
        "from sklearn_crfsuite import scorers\n",
        "from sklearn_crfsuite import metrics"
      ],
      "id": "AM6HXRHm6KSt"
    },
    {
      "cell_type": "code",
      "execution_count": null,
      "metadata": {
        "colab": {
          "background_save": true,
          "base_uri": "https://localhost:8080/"
        },
        "id": "7CYNJ9eW6BgS",
        "outputId": "781c4609-b97b-479f-9d0e-8b84361d6d06"
      },
      "outputs": [
        {
          "name": "stdout",
          "output_type": "stream",
          "text": [
            "Fitting 3 folds for each of 50 candidates, totalling 150 fits\n"
          ]
        },
        {
          "name": "stderr",
          "output_type": "stream",
          "text": [
            "/usr/local/lib/python3.7/dist-packages/sklearn/base.py:213: FutureWarning: From version 0.24, get_params will raise an AttributeError if a parameter cannot be retrieved as an instance attribute. Previously it would return None.\n",
            "  FutureWarning)\n",
            "[Parallel(n_jobs=-1)]: Using backend LokyBackend with 2 concurrent workers.\n",
            "[Parallel(n_jobs=-1)]: Done  46 tasks      | elapsed:  6.8min\n",
            "[Parallel(n_jobs=-1)]: Done 150 out of 150 | elapsed: 21.6min finished\n"
          ]
        },
        {
          "name": "stdout",
          "output_type": "stream",
          "text": [
            "CPU times: user 16min 5s, sys: 3.52 s, total: 16min 8s\n",
            "Wall time: 21min 47s\n"
          ]
        }
      ],
      "source": [
        "%%time\n",
        "# define fixed parameters and parameters to search\n",
        "crf = sklearn_crfsuite.CRF(\n",
        "    algorithm='lbfgs',\n",
        "    max_iterations=100,\n",
        "    all_possible_transitions=True\n",
        ")\n",
        "params_space = {\n",
        "    'c1': scipy.stats.expon(scale=0.5),\n",
        "    'c2': scipy.stats.expon(scale=0.05),\n",
        "}\n",
        "\n",
        "# use the same metric for evaluation\n",
        "f1_scorer = make_scorer(metrics.flat_f1_score,\n",
        "                        average='weighted', labels=labels)\n",
        "\n",
        "# search - рандомизированный, чтобы колаб не отвалился\n",
        "rs = RandomizedSearchCV(crf, params_space,\n",
        "                        cv=3,\n",
        "                        verbose=1,\n",
        "                        n_jobs=-1,\n",
        "                        n_iter=50,\n",
        "                        scoring=f1_scorer)\n",
        "rs.fit(X_train, y_train)"
      ],
      "id": "7CYNJ9eW6BgS"
    },
    {
      "cell_type": "code",
      "execution_count": null,
      "metadata": {
        "colab": {
          "background_save": true
        },
        "id": "XhfxHm7aGTmR",
        "outputId": "9806b90c-8afe-40e4-ee4d-944174d008d0"
      },
      "outputs": [
        {
          "name": "stdout",
          "output_type": "stream",
          "text": [
            "best params: {'c1': 0.3196504797629, 'c2': 0.00034474520532276035}\n",
            "best CV score: 0.6324798059218001\n",
            "model size: 0.46M\n"
          ]
        }
      ],
      "source": [
        "print('best params:', rs.best_params_)\n",
        "print('best CV score:', rs.best_score_)\n",
        "print('model size: {:0.2f}M'.format(rs.best_estimator_.size_ / 1000000))"
      ],
      "id": "XhfxHm7aGTmR"
    },
    {
      "cell_type": "code",
      "execution_count": null,
      "metadata": {
        "colab": {
          "background_save": true
        },
        "id": "18_PGF3MGdQQ",
        "outputId": "97e80d39-cd2a-499a-8ccb-a6ff4a28d5e9"
      },
      "outputs": [
        {
          "name": "stdout",
          "output_type": "stream",
          "text": [
            "              precision    recall  f1-score   support\n",
            "\n",
            "      B-Food      0.919     0.962     0.940       317\n",
            "      I-Food      0.974     0.960     0.967       273\n",
            "  B-Interior      0.993     0.934     0.962       151\n",
            "  I-Interior      0.806     0.862     0.833        29\n",
            "     B-Price      1.000     1.000     1.000        29\n",
            "     I-Price      1.000     0.818     0.900        11\n",
            "   B-Service      0.970     0.911     0.939       280\n",
            "   I-Service      0.917     0.892     0.904        74\n",
            "     B-Whole      0.922     0.956     0.939       160\n",
            "     I-Whole      1.000     0.958     0.979        48\n",
            "\n",
            "   micro avg      0.950     0.941     0.945      1372\n",
            "   macro avg      0.950     0.925     0.936      1372\n",
            "weighted avg      0.951     0.941     0.946      1372\n",
            "\n"
          ]
        },
        {
          "name": "stderr",
          "output_type": "stream",
          "text": [
            "/usr/local/lib/python3.7/dist-packages/sklearn/utils/validation.py:70: FutureWarning: Pass labels=['B-Food', 'I-Food', 'B-Interior', 'I-Interior', 'B-Price', 'I-Price', 'B-Service', 'I-Service', 'B-Whole', 'I-Whole'] as keyword args. From version 0.25 passing these as positional arguments will result in an error\n",
            "  FutureWarning)\n"
          ]
        }
      ],
      "source": [
        "crf = rs.best_estimator_\n",
        "y_pred = crf.predict(X_test)\n",
        "print(metrics.flat_classification_report(\n",
        "    y_test, y_pred, labels=sorted_labels, digits=3\n",
        "))"
      ],
      "id": "18_PGF3MGdQQ"
    },
    {
      "cell_type": "code",
      "execution_count": 51,
      "metadata": {
        "id": "tdOI2Qcht-Jv"
      },
      "outputs": [],
      "source": [
        "labels.extend('O')"
      ],
      "id": "tdOI2Qcht-Jv"
    },
    {
      "cell_type": "code",
      "source": [
        "crf = rs.best_estimator_\n",
        "y_pred = crf.predict(X_test)\n",
        "print(metrics.flat_classification_report(\n",
        "    y_test, y_pred, labels=sorted_labels, digits=3\n",
        "))"
      ],
      "metadata": {
        "colab": {
          "base_uri": "https://localhost:8080/"
        },
        "id": "1kpYsIfctaXF",
        "outputId": "519274ea-6755-428b-fe7e-e9def43ad777"
      },
      "id": "1kpYsIfctaXF",
      "execution_count": 48,
      "outputs": [
        {
          "output_type": "stream",
          "name": "stdout",
          "text": [
            "              precision    recall  f1-score   support\n",
            "\n",
            "      B-Food      0.919     0.962     0.940       317\n",
            "      I-Food      0.974     0.960     0.967       273\n",
            "  B-Interior      0.993     0.934     0.962       151\n",
            "  I-Interior      0.806     0.862     0.833        29\n",
            "     B-Price      1.000     1.000     1.000        29\n",
            "     I-Price      1.000     0.818     0.900        11\n",
            "   B-Service      0.970     0.911     0.939       280\n",
            "   I-Service      0.917     0.892     0.904        74\n",
            "     B-Whole      0.922     0.956     0.939       160\n",
            "     I-Whole      1.000     0.958     0.979        48\n",
            "\n",
            "   micro avg      0.950     0.941     0.945      1372\n",
            "   macro avg      0.950     0.925     0.936      1372\n",
            "weighted avg      0.951     0.941     0.946      1372\n",
            "\n"
          ]
        },
        {
          "output_type": "stream",
          "name": "stderr",
          "text": [
            "/usr/local/lib/python3.7/dist-packages/sklearn/utils/validation.py:70: FutureWarning: Pass labels=['B-Food', 'I-Food', 'B-Interior', 'I-Interior', 'B-Price', 'I-Price', 'B-Service', 'I-Service', 'B-Whole', 'I-Whole'] as keyword args. From version 0.25 passing these as positional arguments will result in an error\n",
            "  FutureWarning)\n"
          ]
        }
      ]
    },
    {
      "cell_type": "code",
      "execution_count": null,
      "metadata": {
        "colab": {
          "background_save": true
        },
        "id": "U7DamvywJD9H",
        "outputId": "166231ee-c6d0-41c7-a389-a7e21ae67dd3"
      },
      "outputs": [
        {
          "data": {
            "image/png": "[encoded data removed]",
            "text/plain": [
              "<Figure size 842.4x595.44 with 2 Axes>"
            ]
          },
          "metadata": {},
          "output_type": "display_data"
        }
      ],
      "source": [
        "from sklearn.metrics import confusion_matrix\n",
        "import seaborn as sn\n",
        "import matplotlib.pyplot  as plt\n",
        "ytrue = []\n",
        "for k in y_test:\n",
        "  ytrue.extend(k)\n",
        "\n",
        "ypreds = []\n",
        "for k in y_pred:\n",
        "  ypreds.extend(k)\n",
        "\n",
        "plt.figure()\n",
        "array=confusion_matrix(ytrue, ypreds)\n",
        "a = labels\n",
        "df_cm = pd.DataFrame(array, index=a, columns=a)\n",
        "sn.set(font_scale=1.0)\n",
        "sn.heatmap(df_cm, annot=True, annot_kws={'size':20}, cmap='Blues', fmt=\"d\")\n",
        "plt.xticks(rotation=60)\n",
        "plt.xlabel('Предсказанный класс')\n",
        "plt.ylabel('Реальный класс')\n",
        "plt.savefig('image_all.png')\n",
        "plt.show()"
      ],
      "id": "U7DamvywJD9H"
    },
    {
      "cell_type": "code",
      "execution_count": 58,
      "metadata": {
        "id": "dylr4oiXGd1D"
      },
      "outputs": [],
      "source": [
        "crf_preds = []\n",
        "for i in y_pred:\n",
        "   crf_preds.extend(i)"
      ],
      "id": "dylr4oiXGd1D"
    },
    {
      "cell_type": "code",
      "source": [
        "y_trues = []\n",
        "for i in y_test:\n",
        "  y_trues.extend(i)"
      ],
      "metadata": {
        "id": "B-yTUPQ05Dhh"
      },
      "id": "B-yTUPQ05Dhh",
      "execution_count": 70,
      "outputs": []
    },
    {
      "cell_type": "code",
      "source": [
        "num_errors = 0\n",
        "for i, pred in enumerate(crf_preds):\n",
        "  if pred != y_trues[i]:\n",
        "    num_errors += 1\n",
        "    print(pred, ' ---', y_trues[i])"
      ],
      "metadata": {
        "colab": {
          "base_uri": "https://localhost:8080/"
        },
        "id": "oDWTzLyY5Iqz",
        "outputId": "5e0ae5fd-d512-4097-fc69-fb85a6dcc08f"
      },
      "id": "oDWTzLyY5Iqz",
      "execution_count": 88,
      "outputs": [
        {
          "output_type": "stream",
          "name": "stdout",
          "text": [
            "I-Service  --- O\n",
            "O  --- B-Whole\n",
            "O  --- B-Service\n",
            "O  --- B-Service\n",
            "B-Food  --- B-Service\n",
            "O  --- B-Service\n",
            "O  --- B-Service\n",
            "O  --- B-Whole\n",
            "B-Food  --- O\n",
            "B-Service  --- O\n",
            "B-Food  --- O\n",
            "O  --- B-Interior\n",
            "I-Interior  --- I-Service\n",
            "I-Interior  --- I-Service\n",
            "B-Service  --- O\n",
            "O  --- B-Food\n",
            "B-Food  --- O\n",
            "I-Food  --- O\n",
            "B-Food  --- O\n",
            "B-Food  --- O\n",
            "B-Food  --- O\n",
            "O  --- B-Interior\n",
            "B-Whole  --- O\n",
            "B-Whole  --- O\n",
            "O  --- B-Food\n",
            "B-Service  --- O\n",
            "O  --- B-Service\n",
            "B-Service  --- O\n",
            "O  --- I-Price\n",
            "O  --- I-Price\n",
            "O  --- I-Food\n",
            "O  --- I-Food\n",
            "O  --- B-Whole\n",
            "O  --- B-Service\n",
            "O  --- B-Service\n",
            "O  --- I-Service\n",
            "B-Food  --- O\n",
            "O  --- I-Service\n",
            "B-Food  --- O\n",
            "I-Interior  --- O\n",
            "B-Whole  --- B-Service\n",
            "I-Food  --- O\n",
            "I-Food  --- B-Food\n",
            "B-Food  --- O\n",
            "O  --- B-Food\n",
            "O  --- B-Service\n",
            "O  --- I-Service\n",
            "I-Food  --- B-Food\n",
            "O  --- B-Food\n",
            "O  --- B-Whole\n",
            "I-Food  --- O\n",
            "B-Food  --- O\n",
            "O  --- B-Interior\n",
            "B-Food  --- I-Food\n",
            "B-Food  --- O\n",
            "B-Service  --- O\n",
            "I-Service  --- O\n",
            "B-Food  --- B-Service\n",
            "B-Food  --- O\n",
            "O  --- B-Interior\n",
            "B-Service  --- B-Food\n",
            "O  --- B-Whole\n",
            "B-Service  --- O\n",
            "O  --- I-Service\n",
            "O  --- B-Food\n",
            "B-Interior  --- O\n",
            "I-Interior  --- O\n",
            "I-Interior  --- O\n",
            "O  --- I-Food\n",
            "O  --- I-Food\n",
            "I-Food  --- B-Food\n",
            "O  --- B-Interior\n",
            "B-Food  --- I-Food\n",
            "B-Service  --- O\n",
            "O  --- I-Service\n",
            "O  --- I-Whole\n",
            "O  --- I-Food\n",
            "O  --- I-Interior\n",
            "B-Food  --- B-Service\n",
            "B-Whole  --- O\n",
            "I-Interior  --- B-Interior\n",
            "O  --- B-Interior\n",
            "B-Food  --- O\n",
            "O  --- B-Interior\n",
            "B-Whole  --- B-Interior\n",
            "O  --- B-Service\n",
            "I-Service  --- B-Service\n",
            "I-Service  --- O\n",
            "O  --- B-Service\n",
            "B-Whole  --- O\n",
            "O  --- B-Service\n",
            "O  --- I-Food\n",
            "O  --- I-Food\n",
            "B-Food  --- I-Food\n",
            "O  --- B-Service\n",
            "B-Whole  --- O\n",
            "B-Whole  --- O\n",
            "I-Service  --- O\n",
            "B-Food  --- O\n",
            "O  --- I-Service\n",
            "B-Food  --- O\n",
            "O  --- B-Food\n",
            "I-Food  --- O\n",
            "O  --- B-Food\n",
            "O  --- B-Service\n",
            "O  --- B-Service\n",
            "O  --- I-Interior\n",
            "O  --- I-Interior\n",
            "O  --- B-Whole\n",
            "B-Food  --- O\n",
            "O  --- B-Service\n",
            "O  --- B-Whole\n",
            "I-Service  --- O\n",
            "O  --- B-Interior\n",
            "B-Food  --- O\n",
            "B-Whole  --- O\n",
            "O  --- I-Interior\n",
            "B-Food  --- B-Service\n",
            "B-Whole  --- O\n",
            "O  --- B-Service\n",
            "B-Food  --- O\n",
            "B-Whole  --- O\n",
            "B-Food  --- O\n",
            "B-Whole  --- B-Service\n",
            "O  --- B-Service\n",
            "B-Food  --- O\n",
            "O  --- B-Service\n",
            "O  --- I-Food\n",
            "B-Whole  --- O\n",
            "O  --- I-Whole\n",
            "O  --- B-Food\n"
          ]
        }
      ]
    },
    {
      "cell_type": "code",
      "source": [
        "all_ok = [k for k in crf_preds if k !='O']\n",
        "print(f'Errors - {num_errors}, Correctly predicted - {len(all_ok) - num_errors}')"
      ],
      "metadata": {
        "colab": {
          "base_uri": "https://localhost:8080/"
        },
        "id": "f9iT_TqG5dZ4",
        "outputId": "577bec0b-744f-4301-d860-554598b95b95"
      },
      "id": "f9iT_TqG5dZ4",
      "execution_count": 82,
      "outputs": [
        {
          "output_type": "stream",
          "name": "stdout",
          "text": [
            "Errors - 131, Correctly predicted - 1228\n"
          ]
        }
      ]
    },
    {
      "cell_type": "code",
      "execution_count": 61,
      "metadata": {
        "id": "xXF9fj2kGd4P"
      },
      "outputs": [],
      "source": [
        "with open('dev_pred_aspects_1.txt', 'w')as f:\n",
        "  for k in range(len(crf_preds)):\n",
        "\n",
        "      f.write('\\t'.join([text_ids_test[k], texts_test[k], crf_preds[k]]) + '\\n')\n",
        "\n"
      ],
      "id": "xXF9fj2kGd4P"
    },
    {
      "cell_type": "code",
      "execution_count": 69,
      "metadata": {
        "id": "b3e0d952"
      },
      "outputs": [],
      "source": [
        "with open('dev_pred_aspects_ans.txt', 'w')as f:\n",
        "  i = 0\n",
        "  while i < (len(crf_preds)) - 1:\n",
        "    if crf_preds[i] == 'O':\n",
        "      f.write('\\t'.join([text_ids_test[i], texts_test[i], crf_preds[i]]) + '\\n')\n",
        "      i += 1\n",
        "     \n",
        "    else:\n",
        "      plus = 0\n",
        "      dom = crf_preds[i].split('-')[-1]\n",
        "      while dom in crf_preds[i+plus]:\n",
        "        plus +=1\n",
        "      f.write('\\t'.join([text_ids_test[i], ' '.join(texts_test[i:i+plus]), dom]) + '\\n')\n",
        "      i += plus"
      ],
      "id": "b3e0d952"
    }
  ],
  "metadata": {
    "colab": {
      "collapsed_sections": [],
      "name": "AspectExtraction.ipynb",
      "provenance": []
    },
    "kernelspec": {
      "display_name": "Python 3",
      "language": "python",
      "name": "python3"
    },
    "language_info": {
      "codemirror_mode": {
        "name": "ipython",
        "version": 3
      },
      "file_extension": ".py",
      "mimetype": "text/x-python",
      "name": "python",
      "nbconvert_exporter": "python",
      "pygments_lexer": "ipython3",
      "version": "3.9.4"
    },
    "widgets": {
      "application/vnd.jupyter.widget-state+json": {
        "c6d77505f492472693140839eab09891": {
          "model_module": "@jupyter-widgets/controls",
          "model_name": "HBoxModel",
          "model_module_version": "1.5.0",
          "state": {
            "_view_name": "HBoxView",
            "_dom_classes": [],
            "_model_name": "HBoxModel",
            "_view_module": "@jupyter-widgets/controls",
            "_model_module_version": "1.5.0",
            "_view_count": null,
            "_view_module_version": "1.5.0",
            "box_style": "",
            "layout": "IPY_MODEL_5c281ebe56c2466498d1bfa15fde68ee",
            "_model_module": "@jupyter-widgets/controls",
            "children": [
              "IPY_MODEL_75a59fc0d4314749ac55568b3ca92efc",
              "IPY_MODEL_80ec784df50643d5b78b419af48fc1c5",
              "IPY_MODEL_bc98e2861d7c48eab3cca2f4613a2406"
            ]
          }
        },
        "5c281ebe56c2466498d1bfa15fde68ee": {
          "model_module": "@jupyter-widgets/base",
          "model_name": "LayoutModel",
          "model_module_version": "1.2.0",
          "state": {
            "_view_name": "LayoutView",
            "grid_template_rows": null,
            "right": null,
            "justify_content": null,
            "_view_module": "@jupyter-widgets/base",
            "overflow": null,
            "_model_module_version": "1.2.0",
            "_view_count": null,
            "flex_flow": null,
            "width": null,
            "min_width": null,
            "border": null,
            "align_items": null,
            "bottom": null,
            "_model_module": "@jupyter-widgets/base",
            "top": null,
            "grid_column": null,
            "overflow_y": null,
            "overflow_x": null,
            "grid_auto_flow": null,
            "grid_area": null,
            "grid_template_columns": null,
            "flex": null,
            "_model_name": "LayoutModel",
            "justify_items": null,
            "grid_row": null,
            "max_height": null,
            "align_content": null,
            "visibility": null,
            "align_self": null,
            "height": null,
            "min_height": null,
            "padding": null,
            "grid_auto_rows": null,
            "grid_gap": null,
            "max_width": null,
            "order": null,
            "_view_module_version": "1.2.0",
            "grid_template_areas": null,
            "object_position": null,
            "object_fit": null,
            "grid_auto_columns": null,
            "margin": null,
            "display": null,
            "left": null
          }
        },
        "75a59fc0d4314749ac55568b3ca92efc": {
          "model_module": "@jupyter-widgets/controls",
          "model_name": "HTMLModel",
          "model_module_version": "1.5.0",
          "state": {
            "_view_name": "HTMLView",
            "style": "IPY_MODEL_0859f14cbd43454aba10a72a6105ea78",
            "_dom_classes": [],
            "description": "",
            "_model_name": "HTMLModel",
            "placeholder": "​",
            "_view_module": "@jupyter-widgets/controls",
            "_model_module_version": "1.5.0",
            "value": "Downloading https://raw.githubusercontent.com/stanfordnlp/stanza-resources/main/resources_1.3.0.json: ",
            "_view_count": null,
            "_view_module_version": "1.5.0",
            "description_tooltip": null,
            "_model_module": "@jupyter-widgets/controls",
            "layout": "IPY_MODEL_85d4ec2a3b794b77b4bbe55f3b247dc2"
          }
        },
        "80ec784df50643d5b78b419af48fc1c5": {
          "model_module": "@jupyter-widgets/controls",
          "model_name": "FloatProgressModel",
          "model_module_version": "1.5.0",
          "state": {
            "_view_name": "ProgressView",
            "style": "IPY_MODEL_aba2479c5dfd42bb9625de10db89130e",
            "_dom_classes": [],
            "description": "",
            "_model_name": "FloatProgressModel",
            "bar_style": "success",
            "max": 24459,
            "_view_module": "@jupyter-widgets/controls",
            "_model_module_version": "1.5.0",
            "value": 24459,
            "_view_count": null,
            "_view_module_version": "1.5.0",
            "orientation": "horizontal",
            "min": 0,
            "description_tooltip": null,
            "_model_module": "@jupyter-widgets/controls",
            "layout": "IPY_MODEL_150b0bdf4c9e4bcaacfe548fd66a03f7"
          }
        },
        "bc98e2861d7c48eab3cca2f4613a2406": {
          "model_module": "@jupyter-widgets/controls",
          "model_name": "HTMLModel",
          "model_module_version": "1.5.0",
          "state": {
            "_view_name": "HTMLView",
            "style": "IPY_MODEL_b8eb5e88d0494ca5b9cdabcbc147cae6",
            "_dom_classes": [],
            "description": "",
            "_model_name": "HTMLModel",
            "placeholder": "​",
            "_view_module": "@jupyter-widgets/controls",
            "_model_module_version": "1.5.0",
            "value": " 142k/? [00:00&lt;00:00, 1.19MB/s]",
            "_view_count": null,
            "_view_module_version": "1.5.0",
            "description_tooltip": null,
            "_model_module": "@jupyter-widgets/controls",
            "layout": "IPY_MODEL_174b9806803e42079a2b74bf22915a2c"
          }
        },
        "0859f14cbd43454aba10a72a6105ea78": {
          "model_module": "@jupyter-widgets/controls",
          "model_name": "DescriptionStyleModel",
          "model_module_version": "1.5.0",
          "state": {
            "_view_name": "StyleView",
            "_model_name": "DescriptionStyleModel",
            "description_width": "",
            "_view_module": "@jupyter-widgets/base",
            "_model_module_version": "1.5.0",
            "_view_count": null,
            "_view_module_version": "1.2.0",
            "_model_module": "@jupyter-widgets/controls"
          }
        },
        "85d4ec2a3b794b77b4bbe55f3b247dc2": {
          "model_module": "@jupyter-widgets/base",
          "model_name": "LayoutModel",
          "model_module_version": "1.2.0",
          "state": {
            "_view_name": "LayoutView",
            "grid_template_rows": null,
            "right": null,
            "justify_content": null,
            "_view_module": "@jupyter-widgets/base",
            "overflow": null,
            "_model_module_version": "1.2.0",
            "_view_count": null,
            "flex_flow": null,
            "width": null,
            "min_width": null,
            "border": null,
            "align_items": null,
            "bottom": null,
            "_model_module": "@jupyter-widgets/base",
            "top": null,
            "grid_column": null,
            "overflow_y": null,
            "overflow_x": null,
            "grid_auto_flow": null,
            "grid_area": null,
            "grid_template_columns": null,
            "flex": null,
            "_model_name": "LayoutModel",
            "justify_items": null,
            "grid_row": null,
            "max_height": null,
            "align_content": null,
            "visibility": null,
            "align_self": null,
            "height": null,
            "min_height": null,
            "padding": null,
            "grid_auto_rows": null,
            "grid_gap": null,
            "max_width": null,
            "order": null,
            "_view_module_version": "1.2.0",
            "grid_template_areas": null,
            "object_position": null,
            "object_fit": null,
            "grid_auto_columns": null,
            "margin": null,
            "display": null,
            "left": null
          }
        },
        "aba2479c5dfd42bb9625de10db89130e": {
          "model_module": "@jupyter-widgets/controls",
          "model_name": "ProgressStyleModel",
          "model_module_version": "1.5.0",
          "state": {
            "_view_name": "StyleView",
            "_model_name": "ProgressStyleModel",
            "description_width": "",
            "_view_module": "@jupyter-widgets/base",
            "_model_module_version": "1.5.0",
            "_view_count": null,
            "_view_module_version": "1.2.0",
            "bar_color": null,
            "_model_module": "@jupyter-widgets/controls"
          }
        },
        "150b0bdf4c9e4bcaacfe548fd66a03f7": {
          "model_module": "@jupyter-widgets/base",
          "model_name": "LayoutModel",
          "model_module_version": "1.2.0",
          "state": {
            "_view_name": "LayoutView",
            "grid_template_rows": null,
            "right": null,
            "justify_content": null,
            "_view_module": "@jupyter-widgets/base",
            "overflow": null,
            "_model_module_version": "1.2.0",
            "_view_count": null,
            "flex_flow": null,
            "width": null,
            "min_width": null,
            "border": null,
            "align_items": null,
            "bottom": null,
            "_model_module": "@jupyter-widgets/base",
            "top": null,
            "grid_column": null,
            "overflow_y": null,
            "overflow_x": null,
            "grid_auto_flow": null,
            "grid_area": null,
            "grid_template_columns": null,
            "flex": null,
            "_model_name": "LayoutModel",
            "justify_items": null,
            "grid_row": null,
            "max_height": null,
            "align_content": null,
            "visibility": null,
            "align_self": null,
            "height": null,
            "min_height": null,
            "padding": null,
            "grid_auto_rows": null,
            "grid_gap": null,
            "max_width": null,
            "order": null,
            "_view_module_version": "1.2.0",
            "grid_template_areas": null,
            "object_position": null,
            "object_fit": null,
            "grid_auto_columns": null,
            "margin": null,
            "display": null,
            "left": null
          }
        },
        "b8eb5e88d0494ca5b9cdabcbc147cae6": {
          "model_module": "@jupyter-widgets/controls",
          "model_name": "DescriptionStyleModel",
          "model_module_version": "1.5.0",
          "state": {
            "_view_name": "StyleView",
            "_model_name": "DescriptionStyleModel",
            "description_width": "",
            "_view_module": "@jupyter-widgets/base",
            "_model_module_version": "1.5.0",
            "_view_count": null,
            "_view_module_version": "1.2.0",
            "_model_module": "@jupyter-widgets/controls"
          }
        },
        "174b9806803e42079a2b74bf22915a2c": {
          "model_module": "@jupyter-widgets/base",
          "model_name": "LayoutModel",
          "model_module_version": "1.2.0",
          "state": {
            "_view_name": "LayoutView",
            "grid_template_rows": null,
            "right": null,
            "justify_content": null,
            "_view_module": "@jupyter-widgets/base",
            "overflow": null,
            "_model_module_version": "1.2.0",
            "_view_count": null,
            "flex_flow": null,
            "width": null,
            "min_width": null,
            "border": null,
            "align_items": null,
            "bottom": null,
            "_model_module": "@jupyter-widgets/base",
            "top": null,
            "grid_column": null,
            "overflow_y": null,
            "overflow_x": null,
            "grid_auto_flow": null,
            "grid_area": null,
            "grid_template_columns": null,
            "flex": null,
            "_model_name": "LayoutModel",
            "justify_items": null,
            "grid_row": null,
            "max_height": null,
            "align_content": null,
            "visibility": null,
            "align_self": null,
            "height": null,
            "min_height": null,
            "padding": null,
            "grid_auto_rows": null,
            "grid_gap": null,
            "max_width": null,
            "order": null,
            "_view_module_version": "1.2.0",
            "grid_template_areas": null,
            "object_position": null,
            "object_fit": null,
            "grid_auto_columns": null,
            "margin": null,
            "display": null,
            "left": null
          }
        },
        "b267b13aaced4e5ebf528c9baab25af2": {
          "model_module": "@jupyter-widgets/controls",
          "model_name": "HBoxModel",
          "model_module_version": "1.5.0",
          "state": {
            "_view_name": "HBoxView",
            "_dom_classes": [],
            "_model_name": "HBoxModel",
            "_view_module": "@jupyter-widgets/controls",
            "_model_module_version": "1.5.0",
            "_view_count": null,
            "_view_module_version": "1.5.0",
            "box_style": "",
            "layout": "IPY_MODEL_95a4d08cfd324e0c8df37907beb541fd",
            "_model_module": "@jupyter-widgets/controls",
            "children": [
              "IPY_MODEL_1b7a28065e3444cdb07894d4b1336e9b",
              "IPY_MODEL_e8e2290873ed4c209992eef6497c07dd",
              "IPY_MODEL_cc3a76159bc44184a423e849e677bec1"
            ]
          }
        },
        "95a4d08cfd324e0c8df37907beb541fd": {
          "model_module": "@jupyter-widgets/base",
          "model_name": "LayoutModel",
          "model_module_version": "1.2.0",
          "state": {
            "_view_name": "LayoutView",
            "grid_template_rows": null,
            "right": null,
            "justify_content": null,
            "_view_module": "@jupyter-widgets/base",
            "overflow": null,
            "_model_module_version": "1.2.0",
            "_view_count": null,
            "flex_flow": null,
            "width": null,
            "min_width": null,
            "border": null,
            "align_items": null,
            "bottom": null,
            "_model_module": "@jupyter-widgets/base",
            "top": null,
            "grid_column": null,
            "overflow_y": null,
            "overflow_x": null,
            "grid_auto_flow": null,
            "grid_area": null,
            "grid_template_columns": null,
            "flex": null,
            "_model_name": "LayoutModel",
            "justify_items": null,
            "grid_row": null,
            "max_height": null,
            "align_content": null,
            "visibility": null,
            "align_self": null,
            "height": null,
            "min_height": null,
            "padding": null,
            "grid_auto_rows": null,
            "grid_gap": null,
            "max_width": null,
            "order": null,
            "_view_module_version": "1.2.0",
            "grid_template_areas": null,
            "object_position": null,
            "object_fit": null,
            "grid_auto_columns": null,
            "margin": null,
            "display": null,
            "left": null
          }
        },
        "1b7a28065e3444cdb07894d4b1336e9b": {
          "model_module": "@jupyter-widgets/controls",
          "model_name": "HTMLModel",
          "model_module_version": "1.5.0",
          "state": {
            "_view_name": "HTMLView",
            "style": "IPY_MODEL_0a278075f9a1439e892eaa1ace503147",
            "_dom_classes": [],
            "description": "",
            "_model_name": "HTMLModel",
            "placeholder": "​",
            "_view_module": "@jupyter-widgets/controls",
            "_model_module_version": "1.5.0",
            "value": "Downloading https://huggingface.co/stanfordnlp/stanza-ru/resolve/v1.3.0/models/default.zip: 100%",
            "_view_count": null,
            "_view_module_version": "1.5.0",
            "description_tooltip": null,
            "_model_module": "@jupyter-widgets/controls",
            "layout": "IPY_MODEL_6c8fff53f8d24c938bee96bb5edb6811"
          }
        },
        "e8e2290873ed4c209992eef6497c07dd": {
          "model_module": "@jupyter-widgets/controls",
          "model_name": "FloatProgressModel",
          "model_module_version": "1.5.0",
          "state": {
            "_view_name": "ProgressView",
            "style": "IPY_MODEL_bf7e87c582e842b19a8655155ce32d7d",
            "_dom_classes": [],
            "description": "",
            "_model_name": "FloatProgressModel",
            "bar_style": "success",
            "max": 574067219,
            "_view_module": "@jupyter-widgets/controls",
            "_model_module_version": "1.5.0",
            "value": 574067219,
            "_view_count": null,
            "_view_module_version": "1.5.0",
            "orientation": "horizontal",
            "min": 0,
            "description_tooltip": null,
            "_model_module": "@jupyter-widgets/controls",
            "layout": "IPY_MODEL_ef9eb7a0c65a410c89c1c7b44efecb28"
          }
        },
        "cc3a76159bc44184a423e849e677bec1": {
          "model_module": "@jupyter-widgets/controls",
          "model_name": "HTMLModel",
          "model_module_version": "1.5.0",
          "state": {
            "_view_name": "HTMLView",
            "style": "IPY_MODEL_cda78d5b9dff4566baddaee6a07e5dfa",
            "_dom_classes": [],
            "description": "",
            "_model_name": "HTMLModel",
            "placeholder": "​",
            "_view_module": "@jupyter-widgets/controls",
            "_model_module_version": "1.5.0",
            "value": " 574M/574M [00:05&lt;00:00, 120MB/s]",
            "_view_count": null,
            "_view_module_version": "1.5.0",
            "description_tooltip": null,
            "_model_module": "@jupyter-widgets/controls",
            "layout": "IPY_MODEL_ece78d3efc804fd19ea69e32c39ff605"
          }
        },
        "0a278075f9a1439e892eaa1ace503147": {
          "model_module": "@jupyter-widgets/controls",
          "model_name": "DescriptionStyleModel",
          "model_module_version": "1.5.0",
          "state": {
            "_view_name": "StyleView",
            "_model_name": "DescriptionStyleModel",
            "description_width": "",
            "_view_module": "@jupyter-widgets/base",
            "_model_module_version": "1.5.0",
            "_view_count": null,
            "_view_module_version": "1.2.0",
            "_model_module": "@jupyter-widgets/controls"
          }
        },
        "6c8fff53f8d24c938bee96bb5edb6811": {
          "model_module": "@jupyter-widgets/base",
          "model_name": "LayoutModel",
          "model_module_version": "1.2.0",
          "state": {
            "_view_name": "LayoutView",
            "grid_template_rows": null,
            "right": null,
            "justify_content": null,
            "_view_module": "@jupyter-widgets/base",
            "overflow": null,
            "_model_module_version": "1.2.0",
            "_view_count": null,
            "flex_flow": null,
            "width": null,
            "min_width": null,
            "border": null,
            "align_items": null,
            "bottom": null,
            "_model_module": "@jupyter-widgets/base",
            "top": null,
            "grid_column": null,
            "overflow_y": null,
            "overflow_x": null,
            "grid_auto_flow": null,
            "grid_area": null,
            "grid_template_columns": null,
            "flex": null,
            "_model_name": "LayoutModel",
            "justify_items": null,
            "grid_row": null,
            "max_height": null,
            "align_content": null,
            "visibility": null,
            "align_self": null,
            "height": null,
            "min_height": null,
            "padding": null,
            "grid_auto_rows": null,
            "grid_gap": null,
            "max_width": null,
            "order": null,
            "_view_module_version": "1.2.0",
            "grid_template_areas": null,
            "object_position": null,
            "object_fit": null,
            "grid_auto_columns": null,
            "margin": null,
            "display": null,
            "left": null
          }
        },
        "bf7e87c582e842b19a8655155ce32d7d": {
          "model_module": "@jupyter-widgets/controls",
          "model_name": "ProgressStyleModel",
          "model_module_version": "1.5.0",
          "state": {
            "_view_name": "StyleView",
            "_model_name": "ProgressStyleModel",
            "description_width": "",
            "_view_module": "@jupyter-widgets/base",
            "_model_module_version": "1.5.0",
            "_view_count": null,
            "_view_module_version": "1.2.0",
            "bar_color": null,
            "_model_module": "@jupyter-widgets/controls"
          }
        },
        "ef9eb7a0c65a410c89c1c7b44efecb28": {
          "model_module": "@jupyter-widgets/base",
          "model_name": "LayoutModel",
          "model_module_version": "1.2.0",
          "state": {
            "_view_name": "LayoutView",
            "grid_template_rows": null,
            "right": null,
            "justify_content": null,
            "_view_module": "@jupyter-widgets/base",
            "overflow": null,
            "_model_module_version": "1.2.0",
            "_view_count": null,
            "flex_flow": null,
            "width": null,
            "min_width": null,
            "border": null,
            "align_items": null,
            "bottom": null,
            "_model_module": "@jupyter-widgets/base",
            "top": null,
            "grid_column": null,
            "overflow_y": null,
            "overflow_x": null,
            "grid_auto_flow": null,
            "grid_area": null,
            "grid_template_columns": null,
            "flex": null,
            "_model_name": "LayoutModel",
            "justify_items": null,
            "grid_row": null,
            "max_height": null,
            "align_content": null,
            "visibility": null,
            "align_self": null,
            "height": null,
            "min_height": null,
            "padding": null,
            "grid_auto_rows": null,
            "grid_gap": null,
            "max_width": null,
            "order": null,
            "_view_module_version": "1.2.0",
            "grid_template_areas": null,
            "object_position": null,
            "object_fit": null,
            "grid_auto_columns": null,
            "margin": null,
            "display": null,
            "left": null
          }
        },
        "cda78d5b9dff4566baddaee6a07e5dfa": {
          "model_module": "@jupyter-widgets/controls",
          "model_name": "DescriptionStyleModel",
          "model_module_version": "1.5.0",
          "state": {
            "_view_name": "StyleView",
            "_model_name": "DescriptionStyleModel",
            "description_width": "",
            "_view_module": "@jupyter-widgets/base",
            "_model_module_version": "1.5.0",
            "_view_count": null,
            "_view_module_version": "1.2.0",
            "_model_module": "@jupyter-widgets/controls"
          }
        },
        "ece78d3efc804fd19ea69e32c39ff605": {
          "model_module": "@jupyter-widgets/base",
          "model_name": "LayoutModel",
          "model_module_version": "1.2.0",
          "state": {
            "_view_name": "LayoutView",
            "grid_template_rows": null,
            "right": null,
            "justify_content": null,
            "_view_module": "@jupyter-widgets/base",
            "overflow": null,
            "_model_module_version": "1.2.0",
            "_view_count": null,
            "flex_flow": null,
            "width": null,
            "min_width": null,
            "border": null,
            "align_items": null,
            "bottom": null,
            "_model_module": "@jupyter-widgets/base",
            "top": null,
            "grid_column": null,
            "overflow_y": null,
            "overflow_x": null,
            "grid_auto_flow": null,
            "grid_area": null,
            "grid_template_columns": null,
            "flex": null,
            "_model_name": "LayoutModel",
            "justify_items": null,
            "grid_row": null,
            "max_height": null,
            "align_content": null,
            "visibility": null,
            "align_self": null,
            "height": null,
            "min_height": null,
            "padding": null,
            "grid_auto_rows": null,
            "grid_gap": null,
            "max_width": null,
            "order": null,
            "_view_module_version": "1.2.0",
            "grid_template_areas": null,
            "object_position": null,
            "object_fit": null,
            "grid_auto_columns": null,
            "margin": null,
            "display": null,
            "left": null
          }
        }
      }
    }
  },
  "nbformat": 4,
  "nbformat_minor": 5
}