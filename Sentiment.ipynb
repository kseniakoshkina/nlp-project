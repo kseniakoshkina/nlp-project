{
  "nbformat": 4,
  "nbformat_minor": 0,
  "metadata": {
    "colab": {
      "name": "Sentiment.ipynb",
      "provenance": [],
      "collapsed_sections": []
    },
    "kernelspec": {
      "name": "python3",
      "display_name": "Python 3"
    },
    "language_info": {
      "name": "python"
    }
  },
  "cells": [
    {
      "cell_type": "code",
      "execution_count": 1,
      "metadata": {
        "id": "5nohVXkajEZD"
      },
      "outputs": [],
      "source": [
        "import pandas as pd"
      ]
    },
    {
      "cell_type": "code",
      "source": [
        "!wget https://raw.githubusercontent.com/named-entity/hse-nlp/master/4th_year/Project/train_aspects.txt\n",
        "!wget https://raw.githubusercontent.com/named-entity/hse-nlp/master/4th_year/Project/train_reviews.txt\n",
        "!wget https://raw.githubusercontent.com/named-entity/hse-nlp/master/4th_year/Project/train_cats.txt"
      ],
      "metadata": {
        "colab": {
          "base_uri": "https://localhost:8080/"
        },
        "id": "Jap6tm_ooQgm",
        "outputId": "e46a47e2-1cdc-49db-995c-7b741ca32c98"
      },
      "execution_count": 2,
      "outputs": [
        {
          "output_type": "stream",
          "name": "stdout",
          "text": [
            "--2021-12-27 16:02:38--  https://raw.githubusercontent.com/named-entity/hse-nlp/master/4th_year/Project/train_aspects.txt\n",
            "Resolving raw.githubusercontent.com (raw.githubusercontent.com)... 185.199.109.133, 185.199.108.133, 185.199.111.133, ...\n",
            "Connecting to raw.githubusercontent.com (raw.githubusercontent.com)|185.199.109.133|:443... connected.\n",
            "HTTP request sent, awaiting response... 200 OK\n",
            "Length: 228391 (223K) [text/plain]\n",
            "Saving to: ‘train_aspects.txt’\n",
            "\n",
            "train_aspects.txt   100%[===================>] 223.04K  --.-KB/s    in 0.03s   \n",
            "\n",
            "2021-12-27 16:02:38 (8.55 MB/s) - ‘train_aspects.txt’ saved [228391/228391]\n",
            "\n",
            "--2021-12-27 16:02:38--  https://raw.githubusercontent.com/named-entity/hse-nlp/master/4th_year/Project/train_reviews.txt\n",
            "Resolving raw.githubusercontent.com (raw.githubusercontent.com)... 185.199.108.133, 185.199.109.133, 185.199.110.133, ...\n",
            "Connecting to raw.githubusercontent.com (raw.githubusercontent.com)|185.199.108.133|:443... connected.\n",
            "HTTP request sent, awaiting response... 200 OK\n",
            "Length: 446118 (436K) [text/plain]\n",
            "Saving to: ‘train_reviews.txt’\n",
            "\n",
            "train_reviews.txt   100%[===================>] 435.66K  --.-KB/s    in 0.03s   \n",
            "\n",
            "2021-12-27 16:02:38 (12.3 MB/s) - ‘train_reviews.txt’ saved [446118/446118]\n",
            "\n",
            "--2021-12-27 16:02:38--  https://raw.githubusercontent.com/named-entity/hse-nlp/master/4th_year/Project/train_cats.txt\n",
            "Resolving raw.githubusercontent.com (raw.githubusercontent.com)... 185.199.110.133, 185.199.108.133, 185.199.111.133, ...\n",
            "Connecting to raw.githubusercontent.com (raw.githubusercontent.com)|185.199.110.133|:443... connected.\n",
            "HTTP request sent, awaiting response... 200 OK\n",
            "Length: 29515 (29K) [text/plain]\n",
            "Saving to: ‘train_cats.txt’\n",
            "\n",
            "train_cats.txt      100%[===================>]  28.82K  --.-KB/s    in 0.002s  \n",
            "\n",
            "2021-12-27 16:02:38 (16.0 MB/s) - ‘train_cats.txt’ saved [29515/29515]\n",
            "\n"
          ]
        }
      ]
    },
    {
      "cell_type": "code",
      "source": [
        "!wget https://raw.githubusercontent.com/named-entity/hse-nlp/master/4th_year/Project/dev_aspects.txt\n",
        "!wget https://raw.githubusercontent.com/named-entity/hse-nlp/master/4th_year/Project/dev_reviews.txt\n",
        "!wget https://raw.githubusercontent.com/named-entity/hse-nlp/master/4th_year/Project/dev_cats.txt\n",
        "!wget https://raw.githubusercontent.com/named-entity/hse-nlp/master/4th_year/Project/dev_pred_aspects.txt"
      ],
      "metadata": {
        "colab": {
          "base_uri": "https://localhost:8080/"
        },
        "id": "9t9IH-JZoSVO",
        "outputId": "1d6f35d3-e860-40a7-e9fa-974eb8c5a6f1"
      },
      "execution_count": 3,
      "outputs": [
        {
          "output_type": "stream",
          "name": "stdout",
          "text": [
            "--2021-12-27 16:02:41--  https://raw.githubusercontent.com/named-entity/hse-nlp/master/4th_year/Project/dev_aspects.txt\n",
            "Resolving raw.githubusercontent.com (raw.githubusercontent.com)... 185.199.108.133, 185.199.110.133, 185.199.109.133, ...\n",
            "Connecting to raw.githubusercontent.com (raw.githubusercontent.com)|185.199.108.133|:443... connected.\n",
            "HTTP request sent, awaiting response... 200 OK\n",
            "Length: 57508 (56K) [text/plain]\n",
            "Saving to: ‘dev_aspects.txt’\n",
            "\n",
            "\rdev_aspects.txt       0%[                    ]       0  --.-KB/s               \rdev_aspects.txt     100%[===================>]  56.16K  --.-KB/s    in 0.01s   \n",
            "\n",
            "2021-12-27 16:02:42 (5.08 MB/s) - ‘dev_aspects.txt’ saved [57508/57508]\n",
            "\n",
            "--2021-12-27 16:02:42--  https://raw.githubusercontent.com/named-entity/hse-nlp/master/4th_year/Project/dev_reviews.txt\n",
            "Resolving raw.githubusercontent.com (raw.githubusercontent.com)... 185.199.108.133, 185.199.109.133, 185.199.110.133, ...\n",
            "Connecting to raw.githubusercontent.com (raw.githubusercontent.com)|185.199.108.133|:443... connected.\n",
            "HTTP request sent, awaiting response... 200 OK\n",
            "Length: 110515 (108K) [text/plain]\n",
            "Saving to: ‘dev_reviews.txt’\n",
            "\n",
            "dev_reviews.txt     100%[===================>] 107.92K  --.-KB/s    in 0.02s   \n",
            "\n",
            "2021-12-27 16:02:42 (5.18 MB/s) - ‘dev_reviews.txt’ saved [110515/110515]\n",
            "\n",
            "--2021-12-27 16:02:42--  https://raw.githubusercontent.com/named-entity/hse-nlp/master/4th_year/Project/dev_cats.txt\n",
            "Resolving raw.githubusercontent.com (raw.githubusercontent.com)... 185.199.109.133, 185.199.108.133, 185.199.110.133, ...\n",
            "Connecting to raw.githubusercontent.com (raw.githubusercontent.com)|185.199.109.133|:443... connected.\n",
            "HTTP request sent, awaiting response... 200 OK\n",
            "Length: 7400 (7.2K) [text/plain]\n",
            "Saving to: ‘dev_cats.txt’\n",
            "\n",
            "dev_cats.txt        100%[===================>]   7.23K  --.-KB/s    in 0s      \n",
            "\n",
            "2021-12-27 16:02:42 (60.3 MB/s) - ‘dev_cats.txt’ saved [7400/7400]\n",
            "\n",
            "--2021-12-27 16:02:42--  https://raw.githubusercontent.com/named-entity/hse-nlp/master/4th_year/Project/dev_pred_aspects.txt\n",
            "Resolving raw.githubusercontent.com (raw.githubusercontent.com)... 185.199.109.133, 185.199.108.133, 185.199.110.133, ...\n",
            "Connecting to raw.githubusercontent.com (raw.githubusercontent.com)|185.199.109.133|:443... connected.\n",
            "HTTP request sent, awaiting response... 200 OK\n",
            "Length: 79631 (78K) [text/plain]\n",
            "Saving to: ‘dev_pred_aspects.txt’\n",
            "\n",
            "dev_pred_aspects.tx 100%[===================>]  77.76K  --.-KB/s    in 0.01s   \n",
            "\n",
            "2021-12-27 16:02:42 (6.19 MB/s) - ‘dev_pred_aspects.txt’ saved [79631/79631]\n",
            "\n"
          ]
        }
      ]
    },
    {
      "cell_type": "code",
      "source": [
        "! pip install pymorphy2"
      ],
      "metadata": {
        "colab": {
          "base_uri": "https://localhost:8080/"
        },
        "id": "yCHCjPuO4w_m",
        "outputId": "0686fac6-0daf-451b-b0fa-5a19307554e2"
      },
      "execution_count": 35,
      "outputs": [
        {
          "output_type": "stream",
          "name": "stdout",
          "text": [
            "Collecting pymorphy2\n",
            "  Downloading pymorphy2-0.9.1-py3-none-any.whl (55 kB)\n",
            "\u001b[?25l\r\u001b[K     |██████                          | 10 kB 21.6 MB/s eta 0:00:01\r\u001b[K     |███████████▉                    | 20 kB 14.4 MB/s eta 0:00:01\r\u001b[K     |█████████████████▊              | 30 kB 7.1 MB/s eta 0:00:01\r\u001b[K     |███████████████████████▋        | 40 kB 6.3 MB/s eta 0:00:01\r\u001b[K     |█████████████████████████████▌  | 51 kB 5.4 MB/s eta 0:00:01\r\u001b[K     |████████████████████████████████| 55 kB 2.3 MB/s \n",
            "\u001b[?25hRequirement already satisfied: docopt>=0.6 in /usr/local/lib/python3.7/dist-packages (from pymorphy2) (0.6.2)\n",
            "Collecting pymorphy2-dicts-ru<3.0,>=2.4\n",
            "  Downloading pymorphy2_dicts_ru-2.4.417127.4579844-py2.py3-none-any.whl (8.2 MB)\n",
            "\u001b[K     |████████████████████████████████| 8.2 MB 1.0 MB/s \n",
            "\u001b[?25hCollecting dawg-python>=0.7.1\n",
            "  Downloading DAWG_Python-0.7.2-py2.py3-none-any.whl (11 kB)\n",
            "Installing collected packages: pymorphy2-dicts-ru, dawg-python, pymorphy2\n",
            "Successfully installed dawg-python-0.7.2 pymorphy2-0.9.1 pymorphy2-dicts-ru-2.4.417127.4579844\n"
          ]
        }
      ]
    },
    {
      "cell_type": "code",
      "source": [
        "import pandas as pd\n",
        "import numpy as np\n",
        "\n",
        "from collections import Counter\n",
        "import re\n",
        "\n",
        "import pymorphy2\n",
        "import matplotlib.pyplot as plt\n",
        "from sklearn.model_selection import train_test_split\n",
        "\n",
        "from sklearn.pipeline import Pipeline\n",
        "from sklearn.linear_model import PassiveAggressiveClassifier\n",
        "from sklearn.naive_bayes import MultinomialNB\n",
        "from sklearn.feature_extraction.text import TfidfVectorizer\n",
        "from sklearn.ensemble import RandomForestClassifier\n",
        "from sklearn.linear_model import LogisticRegression\n",
        "from sklearn.model_selection import GridSearchCV\n",
        "from sklearn.metrics import classification_report\n",
        "from sklearn.model_selection import StratifiedKFold\n",
        "from sklearn.metrics import f1_score, classification_report\n",
        "import statistics\n",
        "import seaborn as sn\n",
        "import matplotlib.pyplot  as plt\n",
        "from sklearn.metrics import classification_report, confusion_matrix\n",
        "\n",
        "from time import time\n",
        "\n",
        "\n",
        "import joblib\n",
        "import json"
      ],
      "metadata": {
        "id": "pqSvORrW4u7T"
      },
      "execution_count": 43,
      "outputs": []
    },
    {
      "cell_type": "code",
      "source": [
        "train_asp = pd.read_csv(\n",
        "    'train_aspects.txt', \n",
        "    delimiter='\\t', \n",
        "    names=['text_id', 'category', 'mention', 'start', 'end', 'sentiment']\n",
        ")\n",
        "train_texts = pd.read_csv('train_reviews.txt', delimiter='\\t', names=['text_id','text'])\n",
        "\n",
        "\n",
        "test_asp = pd.read_csv(\n",
        "    'dev_aspects.txt', \n",
        "    delimiter='\\t', \n",
        "    names=['text_id', 'category', 'mention', 'start', 'end', 'sentiment']\n",
        ")\n",
        "test_texts = pd.read_csv('dev_reviews.txt', delimiter='\\t', names=['text_id','text'])"
      ],
      "metadata": {
        "id": "oLGJwjcKoUeN"
      },
      "execution_count": 38,
      "outputs": []
    },
    {
      "cell_type": "code",
      "source": [
        "def text_cls(CLS_ALGORITHM,X_train,  y_train, X_test, y_test, path_save):\n",
        "    if CLS_ALGORITHM == 'LogisticRegression':\n",
        "        nb =  Pipeline([('vectorizer', TfidfVectorizer(use_idf=True,\n",
        "                                                 smooth_idf=True,\n",
        "                                                 sublinear_tf=True)),\n",
        "                ('clf', LogisticRegression())])\n",
        "        parameters_nb = {'vectorizer__ngram_range': [(1, 2), (2,2)],\n",
        "                         'clf__penalty': ( \"l1\", \"l2\"),\n",
        "                         'clf__C': (1.5, 1, 0.5),\n",
        "                         'clf__class_weight': ['balanced']}\n",
        " \n",
        "    elif CLS_ALGORITHM == 'MultinomialNB':\n",
        "        nb = Pipeline([('vectorizer', TfidfVectorizer(use_idf=True,\n",
        "                                                 smooth_idf=True,\n",
        "                                                 sublinear_tf=True)),\n",
        "                ('clf',MultinomialNB())])\n",
        "        parameters_nb = {'vectorizer__ngram_range': [(1, 2), (2,2)],\n",
        "               'clf__alpha': ( 0.01, 0.001)}\n",
        "    elif CLS_ALGORITHM == 'RandomForestClassifier':   \n",
        "        nb = Pipeline([('vectorizer', TfidfVectorizer(use_idf=True,\n",
        "                                                 smooth_idf=True,\n",
        "                                                 sublinear_tf=True)),\n",
        "                ('clf', RandomForestClassifier())])\n",
        " \n",
        " \n",
        "        parameters_nb = {'vectorizer__ngram_range': [(1, 1), (1, 2), (2,2)],\n",
        "               'clf__class_weight': (\"balanced\", \"balances_subsample\")}\n",
        "    else:\n",
        "      nb = Pipeline([('vectorizer', TfidfVectorizer(use_idf=True,\n",
        "                                                 smooth_idf=True,\n",
        "                                                 sublinear_tf=True)),\n",
        "                ('clf', PassiveAggressiveClassifier())])\n",
        "      parameters_nb = {'vectorizer__ngram_range': [(1, 2), (2,2)],\n",
        "               'clf__max_iter': ( 1000, 2000),\n",
        "               'clf__C': (1.5, 1, 0.5),} \n",
        "\n",
        "    gs_clf_nb = GridSearchCV(nb, parameters_nb, n_jobs=-1, scoring = \"f1_weighted\")\n",
        "\n",
        "    \n",
        "    gs_clf_nb = gs_clf_nb.fit(X_train.to_list(), y_train.to_list())\n",
        "    print(gs_clf_nb.best_score_)\n",
        "    print(gs_clf_nb.best_params_)\n",
        "    r = gs_clf_nb.best_estimator_\n",
        "    predicted = r.predict(X_test.to_list())\n",
        "    joblib.dump(r, f'{path_save}_{CLS_ALGORITHM}.pkl')\n",
        "    return y_test, predicted"
      ],
      "metadata": {
        "id": "7cXFUUjZ4fEw"
      },
      "execution_count": 44,
      "outputs": []
    },
    {
      "cell_type": "code",
      "source": [
        "def visualize(y_true, y_pred, df, target_column, new_path):\n",
        "    plt.figure(figsize=(7,5))\n",
        "    array=confusion_matrix(y_true, y_pred)\n",
        "    a = [sorted(df[target_column].unique())]\n",
        "    df_cm = pd.DataFrame(array, index=a, columns=a)\n",
        "    sn.set(font_scale=1.2)\n",
        "    sn.heatmap(df_cm, annot=True, annot_kws={'size':9}, cmap='Blues',fmt='g')\n",
        "    plt.xticks(rotation=60)\n",
        "    plt.xlabel('Предсказанный класс')\n",
        "    plt.ylabel('Реальный класс')\n",
        "    plt.savefig(new_path + '_'+ 'image.png')\n",
        "    plt.show()\n"
      ],
      "metadata": {
        "id": "NEtpU08r5ZGV"
      },
      "execution_count": 45,
      "outputs": []
    },
    {
      "cell_type": "code",
      "source": [
        "y_test, predicted = text_cls('PassiveAggressiveClassifier',train_asp['mention'],  train_asp['sentiment'], test_asp['mention'], test_asp['sentiment'], './')\n",
        "print(classification_report(y_test, predicted))\n",
        "visualize(y_test, predicted, train_asp, 'sentiment', './')\n"
      ],
      "metadata": {
        "colab": {
          "base_uri": "https://localhost:8080/",
          "height": 613
        },
        "id": "y9CH4mVO3Pk2",
        "outputId": "0b59d414-a41c-438d-d071-5fed7b093c22"
      },
      "execution_count": 46,
      "outputs": [
        {
          "output_type": "stream",
          "name": "stdout",
          "text": [
            "0.6010391831988138\n",
            "{'clf__C': 0.5, 'clf__max_iter': 2000, 'vectorizer__ngram_range': (1, 2)}\n",
            "              precision    recall  f1-score   support\n",
            "\n",
            "        both       0.57      0.42      0.48        19\n",
            "    negative       0.84      0.47      0.61       160\n",
            "     neutral       0.70      0.65      0.67       216\n",
            "    positive       0.83      0.93      0.88       795\n",
            "\n",
            "    accuracy                           0.81      1190\n",
            "   macro avg       0.74      0.62      0.66      1190\n",
            "weighted avg       0.81      0.81      0.80      1190\n",
            "\n"
          ]
        },
        {
          "output_type": "display_data",
          "data": {
            "image/png": "[encoded data removed]",
            "text/plain": [
              "<Figure size 504x360 with 2 Axes>"
            ]
          },
          "metadata": {}
        }
      ]
    },
    {
      "cell_type": "code",
      "source": [
        "from sklearn.metrics import accuracy_score\n",
        "accuracy_score(y_test, predicted)"
      ],
      "metadata": {
        "colab": {
          "base_uri": "https://localhost:8080/"
        },
        "id": "uUSjUIwy6mHx",
        "outputId": "46018a02-51e1-4a3e-c2f6-175c89788981"
      },
      "execution_count": 47,
      "outputs": [
        {
          "output_type": "execute_result",
          "data": {
            "text/plain": [
              "0.8100840336134454"
            ]
          },
          "metadata": {},
          "execution_count": 47
        }
      ]
    }
  ]
}